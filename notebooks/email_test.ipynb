{
 "cells": [
  {
   "cell_type": "code",
   "execution_count": 1,
   "metadata": {},
   "outputs": [],
   "source": [
    "# add to sys.path\n",
    "import sys\n",
    "\n",
    "sys.path.insert(0, \"../\")\n",
    "sys.path.insert(0, \"../src\")\n",
    "\n",
    "import time\n",
    "import logging\n",
    "import pprint\n",
    "import pandas as pd\n",
    "from datetime import datetime, timedelta, timezone\n",
    "from dateutil.relativedelta import relativedelta\n",
    "import plaid\n",
    "\n",
    "# gcp\n",
    "from google.cloud import bigquery\n",
    "\n",
    "# SCHEMAS\n",
    "from schemas.bq_table_schemas import BqTableSchemas\n",
    "from schemas.cloud_schemas import CloudSchemas\n",
    "\n",
    "# UTILS\n",
    "from utils.bq_utils import BqUtils\n",
    "from utils.google_cloud_utils import GcpUtils\n",
    "from utils.plaid_utils import PlaidUtils\n",
    "from utils.secrets_utils import SecretsUtils\n",
    "from utils.crypto_utils import CryptoUtils\n",
    "from utils.sendgrid_utils import SendgridUtils\n",
    "\n",
    "# JOBS\n",
    "from jobs.budget_values import BudgetValues\n",
    "from jobs.financial_accounts import FinancialAccounts\n",
    "from jobs.plaid_transactions import PlaidTransactions\n",
    "from jobs.plaid_investments import PlaidInvestments\n",
    "from jobs.data_quality_alerts import DataQualityAlerts\n",
    "\n",
    "# get all secrets\n",
    "sec = SecretsUtils()\n",
    "secrets = sec.create_secrets_dict(plaid_secret_type=\"PROD\")\n",
    "\n",
    "PLAID_CLIENT_ID = secrets[\"PLAID_CLIENT_ID\"]\n",
    "PLAID_SECRET = secrets[\"PLAID_SECRET_PROD\"]\n",
    "PLAID_ACCESS_TOKENS = sec.get_access_token_secrets(secrets)\n",
    "PLAID_HOST = plaid.Environment.Production\n",
    "PLAID_PRODUCTS = [\"liabilities\", \"transactions\", \"investments\"]\n",
    "PLAID_COUNTRY_CODES = [\"US\"]\n",
    "CRYPTO_SECRETS = secrets[\"CRYPTO_SECRETS\"]\n",
    "SENDGRID_KEY = secrets[\"SENDGRID_KEY\"]\n",
    "\n",
    "# initialize clients\n",
    "bq_client = bigquery.Client()\n",
    "bq = BqUtils(bq_client=bq_client)\n",
    "plaid_client = PlaidUtils(bq_client, PLAID_CLIENT_ID, PLAID_SECRET, PLAID_HOST)\n",
    "financial_accounts = FinancialAccounts(bq_client, plaid_client)\n",
    "plaid_transactions = PlaidTransactions(bq_client, plaid_client)\n",
    "plaid_investments = PlaidInvestments(bq_client, plaid_client)\n",
    "budget_values = BudgetValues(bq_client)\n",
    "crypto = CryptoUtils()\n",
    "bq_tables = BqTableSchemas()\n",
    "gcp = GcpUtils(bq_client=bq_client)\n",
    "sendgrid = SendgridUtils(SENDGRID_KEY)\n",
    "dqa = DataQualityAlerts(bq_client)\n",
    "cs = CloudSchemas()\n",
    "\n",
    "pd.set_option(\"display.max_columns\", None)\n",
    "pd.set_option(\"display.max_rows\", None)\n",
    "pd.set_option(\"display.max_colwidth\", 1000)"
   ]
  },
  {
   "cell_type": "code",
   "execution_count": 5,
   "metadata": {},
   "outputs": [
    {
     "data": {
      "text/plain": [
       "'financial-accounts-scheduler'"
      ]
     },
     "execution_count": 5,
     "metadata": {},
     "output_type": "execute_result"
    }
   ],
   "source": [
    "cs.financial_accounts().job_name"
   ]
  },
  {
   "cell_type": "code",
   "execution_count": null,
   "metadata": {},
   "outputs": [],
   "source": [
    "schema = bq_tables.budget_values_YYYYMM()\n",
    "schema.table_id"
   ]
  },
  {
   "cell_type": "code",
   "execution_count": null,
   "metadata": {},
   "outputs": [],
   "source": [
    "df1 = pd.DataFrame({\n",
    "    'A': [1, 2, 3],\n",
    "    'B': [4, 5, 6]\n",
    "})\n",
    "\n",
    "df2 = pd.DataFrame({\n",
    "    'X': [10, 20, 30],\n",
    "    'Y': [40, 50, 60]\n",
    "})"
   ]
  },
  {
   "cell_type": "code",
   "execution_count": null,
   "metadata": {},
   "outputs": [],
   "source": [
    "message_1 = sendgrid.create_html_message_with_pandas_df(\"There is an issue with financial accounts\", financial_accounts_df)\n",
    "message_2 = sendgrid.create_html_message_with_pandas_df(\"Testing 2nd message\", df2)\n",
    "\n",
    "message_content = sendgrid.chain_html_messages([message_1, message_2])\n",
    "\n",
    "email_message = sendgrid.construct_email_message(\n",
    "    from_email=\"zach.s.cox@gmail.com\",\n",
    "    to_emails=[\"zach.s.cox+zsc-alerts@gmail.com\"],\n",
    "    email_subject=\"ZSC Alerts\",\n",
    "    html_message=message_content\n",
    ")\n",
    "\n",
    "sendgrid.send_email(email_message)\n",
    "\n",
    "# sendgrid.get_email_content(email_message)"
   ]
  },
  {
   "cell_type": "code",
   "execution_count": null,
   "metadata": {},
   "outputs": [],
   "source": [
    "import matplotlib.pyplot as plt\n"
   ]
  },
  {
   "cell_type": "code",
   "execution_count": null,
   "metadata": {},
   "outputs": [],
   "source": [
    "df = bq.query(\"\"\"\n",
    "WITH\n",
    "    account_values AS (\n",
    "    SELECT \n",
    "        transaction_date,\n",
    "        SUM(actual_amount) AS account_value,\n",
    "    FROM `zsc-personal.personal_finance.personal_finance_tableau_20240815`\n",
    "    WHERE metric_category = \"ACCOUNTS\"\n",
    "    GROUP BY 1\n",
    "    )\n",
    "SELECT \n",
    "    transaction_date,\n",
    "    account_value,\n",
    "    ((account_value - LAG(account_value) OVER (ORDER BY transaction_date)) / ABS(LAG(account_value) OVER (ORDER BY transaction_date))) * 100 AS account_value_pct_chg\n",
    "FROM account_values\n",
    "ORDER BY transaction_date\n",
    "\"\"\")\n",
    "\n",
    "df.head()"
   ]
  },
  {
   "cell_type": "code",
   "execution_count": null,
   "metadata": {},
   "outputs": [],
   "source": [
    "\n",
    "# Create the figure and the subplots\n",
    "fig, (ax1, ax2) = plt.subplots(2, 1, figsize=(10, 8))\n",
    "\n",
    "# First subplot - account_value\n",
    "ax1.plot(df[\"transaction_date\"], df[\"account_value\"], color='blue')\n",
    "ax1.set_title('Account Value Over Time')\n",
    "ax1.set_xlabel('Transaction Date')\n",
    "ax1.set_ylabel('Account Value')\n",
    "\n",
    "# Second subplot - account_value_pct_chg\n",
    "ax2.plot(df[\"transaction_date\"], df[\"account_value_pct_chg\"], color='green')\n",
    "ax2.set_title('Account Value Percentage Change Over Time')\n",
    "ax2.set_xlabel('Transaction Date')\n",
    "ax2.set_ylabel('Account Value % Change')\n",
    "\n",
    "# Adjust layout to prevent overlap\n",
    "plt.tight_layout()\n",
    "\n",
    "# Show the plot\n",
    "plt.show()"
   ]
  },
  {
   "cell_type": "code",
   "execution_count": null,
   "metadata": {},
   "outputs": [],
   "source": []
  }
 ],
 "metadata": {
  "kernelspec": {
   "display_name": "personal_finance",
   "language": "python",
   "name": "python3"
  },
  "language_info": {
   "codemirror_mode": {
    "name": "ipython",
    "version": 3
   },
   "file_extension": ".py",
   "mimetype": "text/x-python",
   "name": "python",
   "nbconvert_exporter": "python",
   "pygments_lexer": "ipython3",
   "version": "3.9.1"
  }
 },
 "nbformat": 4,
 "nbformat_minor": 2
}
