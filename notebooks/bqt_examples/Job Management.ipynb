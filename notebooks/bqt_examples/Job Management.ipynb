{
 "cells": [
  {
   "cell_type": "markdown",
   "metadata": {},
   "source": [
    "# Job Management\n",
    "As you've probably seen in other examples, or in BigQuery in general, nearly everything is expressed in terms of jobs. This is a very common concept in the programming world specially when operations take long times or are distributed and asynchronous.\n",
    "\n",
    "The design of `BqT` is also based around this concept. For example when you run a query, you can get the job object back without waiting for the results to be ready:"
   ]
  },
  {
   "cell_type": "code",
   "execution_count": 1,
   "metadata": {},
   "outputs": [],
   "source": [
    "from bqt import bqt"
   ]
  },
  {
   "cell_type": "code",
   "execution_count": 2,
   "metadata": {},
   "outputs": [
    {
     "data": {
      "text/plain": [
       "<bqt.lib.job.BqJobResult at 0x1026ea210>"
      ]
     },
     "execution_count": 2,
     "metadata": {},
     "output_type": "execute_result"
    }
   ],
   "source": [
    "launch_countries = bqt.query_async(\"\"\"\n",
    "SELECT *\n",
    "FROM `subs-analytics.launch_countries.launch_countries` \n",
    "WHERE launch_date > '2016-01-03'\n",
    "\"\"\")\n",
    "launch_countries"
   ]
  },
  {
   "cell_type": "markdown",
   "metadata": {},
   "source": [
    "As you can see, the call to run a query (and most other calls) return a job result (`BqJobResult` or similar object). This means that we queued the job with BigQuery and this object is a reference to that running job.\n",
    "\n",
    "\n",
    "## List Running Jobs\n",
    "Internally, `BqT` keeps refrences to all these jobs, and even more, you can see and cancel jobs that you didn't even run from this notebook:"
   ]
  },
  {
   "cell_type": "code",
   "execution_count": 3,
   "metadata": {},
   "outputs": [
    {
     "data": {
      "text/html": [
       "<div>\n",
       "<style scoped>\n",
       "    .dataframe tbody tr th:only-of-type {\n",
       "        vertical-align: middle;\n",
       "    }\n",
       "\n",
       "    .dataframe tbody tr th {\n",
       "        vertical-align: top;\n",
       "    }\n",
       "\n",
       "    .dataframe thead th {\n",
       "        text-align: right;\n",
       "    }\n",
       "</style>\n",
       "<table border=\"1\" class=\"dataframe\">\n",
       "  <thead>\n",
       "    <tr style=\"text-align: right;\">\n",
       "      <th></th>\n",
       "      <th>created</th>\n",
       "      <th>destination</th>\n",
       "      <th>elapsed</th>\n",
       "      <th>elapsed_seconds</th>\n",
       "      <th>ended</th>\n",
       "      <th>job_id</th>\n",
       "      <th>query</th>\n",
       "      <th>started</th>\n",
       "      <th>status</th>\n",
       "      <th>this_notebook</th>\n",
       "      <th>user_email</th>\n",
       "      <th>write_disposition</th>\n",
       "    </tr>\n",
       "  </thead>\n",
       "  <tbody>\n",
       "    <tr>\n",
       "      <th>0</th>\n",
       "      <td>2018-06-25 17:32:26.808000+00:00</td>\n",
       "      <td>gro-analytics._55e4bc3d24934ef4c81f7d97d030924...</td>\n",
       "      <td>2 second(s)</td>\n",
       "      <td>2.412977</td>\n",
       "      <td>None</td>\n",
       "      <td>6cea4841-a17d-4097-ac98-51ef295714f1</td>\n",
       "      <td>\\nSELECT *\\nFROM `subs-analytics.launch_countr...</td>\n",
       "      <td>2018-06-25 17:32:27.239000+00:00</td>\n",
       "      <td>running</td>\n",
       "      <td>True</td>\n",
       "      <td>behrooza@spotify.com</td>\n",
       "      <td>WRITE_TRUNCATE</td>\n",
       "    </tr>\n",
       "  </tbody>\n",
       "</table>\n",
       "</div>"
      ],
      "text/plain": [
       "                           created  \\\n",
       "0 2018-06-25 17:32:26.808000+00:00   \n",
       "\n",
       "                                         destination      elapsed  \\\n",
       "0  gro-analytics._55e4bc3d24934ef4c81f7d97d030924...  2 second(s)   \n",
       "\n",
       "   elapsed_seconds ended                                job_id  \\\n",
       "0         2.412977  None  6cea4841-a17d-4097-ac98-51ef295714f1   \n",
       "\n",
       "                                               query  \\\n",
       "0  \\nSELECT *\\nFROM `subs-analytics.launch_countr...   \n",
       "\n",
       "                           started   status  this_notebook  \\\n",
       "0 2018-06-25 17:32:27.239000+00:00  running           True   \n",
       "\n",
       "             user_email write_disposition  \n",
       "0  behrooza@spotify.com    WRITE_TRUNCATE  "
      ]
     },
     "execution_count": 3,
     "metadata": {},
     "output_type": "execute_result"
    }
   ],
   "source": [
    "bqt.list_running_jobs()"
   ]
  },
  {
   "cell_type": "markdown",
   "metadata": {},
   "source": [
    "That didn't return anything because you're not running anything in this project. Let's run a few jobs and check again."
   ]
  },
  {
   "cell_type": "code",
   "execution_count": 5,
   "metadata": {},
   "outputs": [
    {
     "data": {
      "text/html": [
       "<div>\n",
       "<style scoped>\n",
       "    .dataframe tbody tr th:only-of-type {\n",
       "        vertical-align: middle;\n",
       "    }\n",
       "\n",
       "    .dataframe tbody tr th {\n",
       "        vertical-align: top;\n",
       "    }\n",
       "\n",
       "    .dataframe thead th {\n",
       "        text-align: right;\n",
       "    }\n",
       "</style>\n",
       "<table border=\"1\" class=\"dataframe\">\n",
       "  <thead>\n",
       "    <tr style=\"text-align: right;\">\n",
       "      <th></th>\n",
       "      <th>cache_hit</th>\n",
       "      <th>created</th>\n",
       "      <th>destination</th>\n",
       "      <th>elapsed</th>\n",
       "      <th>elapsed_seconds</th>\n",
       "      <th>ended</th>\n",
       "      <th>job_id</th>\n",
       "      <th>query</th>\n",
       "      <th>started</th>\n",
       "      <th>status</th>\n",
       "      <th>this_notebook</th>\n",
       "      <th>write_disposition</th>\n",
       "    </tr>\n",
       "  </thead>\n",
       "  <tbody>\n",
       "    <tr>\n",
       "      <th>0</th>\n",
       "      <td>None</td>\n",
       "      <td>2018-05-29 18:35:44.893000+00:00</td>\n",
       "      <td>wheres-kanye._55e4bc3d24934ef4c81f7d97d0309249...</td>\n",
       "      <td>1 second(s)</td>\n",
       "      <td>1.124224</td>\n",
       "      <td>None</td>\n",
       "      <td>4127f457-5f38-4af1-a5aa-2581af63d646</td>\n",
       "      <td>\\n        SELECT *\\n        FROM `subs-analyti...</td>\n",
       "      <td>2018-05-29 18:35:45.480000+00:00</td>\n",
       "      <td>running</td>\n",
       "      <td>True</td>\n",
       "      <td>WRITE_TRUNCATE</td>\n",
       "    </tr>\n",
       "    <tr>\n",
       "      <th>1</th>\n",
       "      <td>None</td>\n",
       "      <td>2018-05-29 18:35:44.078000+00:00</td>\n",
       "      <td>wheres-kanye._55e4bc3d24934ef4c81f7d97d0309249...</td>\n",
       "      <td>1 second(s)</td>\n",
       "      <td>1.939694</td>\n",
       "      <td>None</td>\n",
       "      <td>3fa20164-a5b1-453d-a30e-8be5b67d07aa</td>\n",
       "      <td>\\n        SELECT *\\n        FROM `subs-analyti...</td>\n",
       "      <td>2018-05-29 18:35:44.645000+00:00</td>\n",
       "      <td>running</td>\n",
       "      <td>True</td>\n",
       "      <td>WRITE_TRUNCATE</td>\n",
       "    </tr>\n",
       "    <tr>\n",
       "      <th>2</th>\n",
       "      <td>None</td>\n",
       "      <td>2018-05-29 18:35:43.450000+00:00</td>\n",
       "      <td>wheres-kanye._55e4bc3d24934ef4c81f7d97d0309249...</td>\n",
       "      <td>2 second(s)</td>\n",
       "      <td>2.568010</td>\n",
       "      <td>None</td>\n",
       "      <td>15625cb6-45a8-4728-888a-cc6c95b9cc75</td>\n",
       "      <td>\\n        SELECT *\\n        FROM `subs-analyti...</td>\n",
       "      <td>2018-05-29 18:35:43.954000+00:00</td>\n",
       "      <td>running</td>\n",
       "      <td>True</td>\n",
       "      <td>WRITE_TRUNCATE</td>\n",
       "    </tr>\n",
       "    <tr>\n",
       "      <th>3</th>\n",
       "      <td>None</td>\n",
       "      <td>2018-05-29 18:35:42.562000+00:00</td>\n",
       "      <td>wheres-kanye._55e4bc3d24934ef4c81f7d97d0309249...</td>\n",
       "      <td>3 second(s)</td>\n",
       "      <td>3.456321</td>\n",
       "      <td>None</td>\n",
       "      <td>83e3a482-19f4-47cd-9af3-e0ba706a595c</td>\n",
       "      <td>\\n        SELECT *\\n        FROM `subs-analyti...</td>\n",
       "      <td>2018-05-29 18:35:43.146000+00:00</td>\n",
       "      <td>running</td>\n",
       "      <td>True</td>\n",
       "      <td>WRITE_TRUNCATE</td>\n",
       "    </tr>\n",
       "    <tr>\n",
       "      <th>4</th>\n",
       "      <td>None</td>\n",
       "      <td>2018-05-29 18:35:41.624000+00:00</td>\n",
       "      <td>wheres-kanye._55e4bc3d24934ef4c81f7d97d0309249...</td>\n",
       "      <td>4 second(s)</td>\n",
       "      <td>4.394566</td>\n",
       "      <td>None</td>\n",
       "      <td>24bc1ded-7e02-445e-ac25-a1f9535d7699</td>\n",
       "      <td>\\n        SELECT *\\n        FROM `subs-analyti...</td>\n",
       "      <td>2018-05-29 18:35:42.241000+00:00</td>\n",
       "      <td>running</td>\n",
       "      <td>True</td>\n",
       "      <td>WRITE_TRUNCATE</td>\n",
       "    </tr>\n",
       "  </tbody>\n",
       "</table>\n",
       "</div>"
      ],
      "text/plain": [
       "  cache_hit                          created  \\\n",
       "0      None 2018-05-29 18:35:44.893000+00:00   \n",
       "1      None 2018-05-29 18:35:44.078000+00:00   \n",
       "2      None 2018-05-29 18:35:43.450000+00:00   \n",
       "3      None 2018-05-29 18:35:42.562000+00:00   \n",
       "4      None 2018-05-29 18:35:41.624000+00:00   \n",
       "\n",
       "                                         destination      elapsed  \\\n",
       "0  wheres-kanye._55e4bc3d24934ef4c81f7d97d0309249...  1 second(s)   \n",
       "1  wheres-kanye._55e4bc3d24934ef4c81f7d97d0309249...  1 second(s)   \n",
       "2  wheres-kanye._55e4bc3d24934ef4c81f7d97d0309249...  2 second(s)   \n",
       "3  wheres-kanye._55e4bc3d24934ef4c81f7d97d0309249...  3 second(s)   \n",
       "4  wheres-kanye._55e4bc3d24934ef4c81f7d97d0309249...  4 second(s)   \n",
       "\n",
       "   elapsed_seconds ended                                job_id  \\\n",
       "0         1.124224  None  4127f457-5f38-4af1-a5aa-2581af63d646   \n",
       "1         1.939694  None  3fa20164-a5b1-453d-a30e-8be5b67d07aa   \n",
       "2         2.568010  None  15625cb6-45a8-4728-888a-cc6c95b9cc75   \n",
       "3         3.456321  None  83e3a482-19f4-47cd-9af3-e0ba706a595c   \n",
       "4         4.394566  None  24bc1ded-7e02-445e-ac25-a1f9535d7699   \n",
       "\n",
       "                                               query  \\\n",
       "0  \\n        SELECT *\\n        FROM `subs-analyti...   \n",
       "1  \\n        SELECT *\\n        FROM `subs-analyti...   \n",
       "2  \\n        SELECT *\\n        FROM `subs-analyti...   \n",
       "3  \\n        SELECT *\\n        FROM `subs-analyti...   \n",
       "4  \\n        SELECT *\\n        FROM `subs-analyti...   \n",
       "\n",
       "                           started   status  this_notebook write_disposition  \n",
       "0 2018-05-29 18:35:45.480000+00:00  running           True    WRITE_TRUNCATE  \n",
       "1 2018-05-29 18:35:44.645000+00:00  running           True    WRITE_TRUNCATE  \n",
       "2 2018-05-29 18:35:43.954000+00:00  running           True    WRITE_TRUNCATE  \n",
       "3 2018-05-29 18:35:43.146000+00:00  running           True    WRITE_TRUNCATE  \n",
       "4 2018-05-29 18:35:42.241000+00:00  running           True    WRITE_TRUNCATE  "
      ]
     },
     "execution_count": 5,
     "metadata": {},
     "output_type": "execute_result"
    }
   ],
   "source": [
    "for i in range(5):\n",
    "    bqt.query_async(\"\"\"\n",
    "        SELECT *\n",
    "        FROM `subs-analytics.launch_countries.launch_countries` \n",
    "        WHERE launch_date > '2016-01-0{day}'\n",
    "    \"\"\".format(day = i + 1))\n",
    "    \n",
    "bqt.list_running_jobs()"
   ]
  },
  {
   "cell_type": "markdown",
   "metadata": {},
   "source": [
    "Now we get all 5 queries we just queued. You can even get all running queries in the project, regardless of whether you ran them or not by passing the `all_users=True` parameter:\n",
    "```python\n",
    "bqt.list_running_jobs(all_users=True)\n",
    "```"
   ]
  },
  {
   "cell_type": "markdown",
   "metadata": {},
   "source": [
    "## Waiting for Jobs to Finish\n",
    "Let's say here and there you queued 20 jobs and didn't keep track of them (you don't have to unless you need the results). To wait for all of the finish simply:"
   ]
  },
  {
   "cell_type": "code",
   "execution_count": null,
   "metadata": {},
   "outputs": [],
   "source": [
    "bqt.wait_for_all_jobs()"
   ]
  },
  {
   "cell_type": "markdown",
   "metadata": {},
   "source": [
    "## Tracking an external job in your notebook\n",
    "Did you run a query in the BigQuery UI but want to use it in your notebook? that's also easy. Just copy the job ID from the BigQuery UI (Go to \"Query History\", open the query and copy the \"Job ID\") and:"
   ]
  },
  {
   "cell_type": "code",
   "execution_count": null,
   "metadata": {},
   "outputs": [],
   "source": [
    "job = bqt.add_job_by_id('my_job_id_blah_blah_blah')\n",
    "job.results  # this will work and will give you a DataFrame directly!"
   ]
  },
  {
   "cell_type": "markdown",
   "metadata": {},
   "source": [
    "## Cancel a Job\n",
    "Queued the wrong job? or it's taking too long? you can cancel it both from the BigQuery UI and from your notebook:"
   ]
  },
  {
   "cell_type": "code",
   "execution_count": null,
   "metadata": {},
   "outputs": [],
   "source": [
    "bqt.cancel_job('my_job_id_blah_blah_blah')"
   ]
  }
 ],
 "metadata": {
  "kernelspec": {
   "display_name": "env",
   "language": "python",
   "name": "env"
  },
  "language_info": {
   "codemirror_mode": {
    "name": "ipython",
    "version": 3
   },
   "file_extension": ".py",
   "mimetype": "text/x-python",
   "name": "python",
   "nbconvert_exporter": "python",
   "pygments_lexer": "ipython3",
   "version": "3.7.4"
  }
 },
 "nbformat": 4,
 "nbformat_minor": 2
}
