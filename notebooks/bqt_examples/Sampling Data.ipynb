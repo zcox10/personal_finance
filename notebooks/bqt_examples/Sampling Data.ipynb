{
 "cells": [
  {
   "cell_type": "markdown",
   "metadata": {},
   "source": [
    "# Sampling Data\n",
    "`bqt` supports creating sampled tables based on either a query or a table.\n",
    "\n",
    "Supported types of sampling are:\n",
    "\n",
    "### Pure Random Sampling\n",
    "This is the most basic form where each row has the same chance of being included in the sampled dataset. Available methods are:\n",
    "* **`bqt.sample_table_random()`:** create a random sample given a table and wait until it's done\n",
    "* **`bqt.sample_table_random_async()`:** create a random sample given a table asynchronous\n",
    "* **`bqt.sample_query_random()`:** create a random sample from results of the given query and wait until it's done\n",
    "\n",
    "All these methods have a similar signature, the main inputs are:\n",
    "* `table`, `dataset`, `project`: indicate where the source data is when sampling a table\n",
    "* `partition_start` and `partition_end`: are useful for when you want to sample across partition. using these you can limit your scope\n",
    "* `ratio` and `num_rows`: one and only one of these should be provided. you can either sample a ratio of the original table or specifically mention how many rows you want.\n",
    "* `dest_table`, `dest_dataset`, `dest_project`: are used to store the sampled data\n",
    "\n",
    "### Stable Random Sampling\n",
    "These functions assign a chance of being included in the sample to a group of rows instead of every single row. They are very useful for example if you want to sample a table that has user level information but want to include either all events for a user or none of them. Note that the previous method would've randomly included some events for any user because it doesn't know about a grouping of events while this method does.\n",
    "\n",
    "Methods are:\n",
    "* **`bqt.sample_table_stable_random()`:** create a stable random sample given a table and wait until it's done\n",
    "* **`bqt.sample_table_stable_random_async()`:** create a stable random sample given a table asynchronous\n",
    "* **`bqt.sample_query_stable_random()`:** create a stable random sample from results of the given query and wait until it's done\n",
    "\n",
    "All these methods have a similar signature, all inputs are similar to pure random sampling except now you can specify your row grouping;\n",
    "* `columns` is one or more columns in the table or query that should be used to group rows together when sampling\n",
    "\n",
    "### Stratified Random Sampling\n",
    "These functions are useful when you have unbalanced groups of data but want to sample them uniformly. For example if you have data by country but each country has a different volume of events you can use these methods to sample the data and be sure that the final sample includes a similar proportion for all counties.\n",
    "\n",
    "Methods are:\n",
    "* **`bqt.sample_table_stratified()`:** create a stratified random sample given a table and wait until it's done\n",
    "* **`bqt.sample_table_stratified_async()`:** create a stratified random sample given a table asynchronous\n",
    "* **`bqt.sample_query_stratified()`:** create a stratified random sample from results of the given query and wait until it's done\n",
    "\n",
    "All these methods have a similar signature, all inputs are similar to pure random sampling except now you can specify the column used to balance the sample:\n",
    "* `strata` is one or more columns in the table or query that should be used to balance the sampling"
   ]
  },
  {
   "cell_type": "code",
   "execution_count": 1,
   "metadata": {},
   "outputs": [],
   "source": [
    "from bqt import bqt"
   ]
  },
  {
   "cell_type": "markdown",
   "metadata": {},
   "source": [
    "Example usage:"
   ]
  },
  {
   "cell_type": "code",
   "execution_count": null,
   "metadata": {},
   "outputs": [],
   "source": [
    "# sample the given query at 10% and store it in `analytics-mafia.behrooza.test_sample_query`\n",
    "bqt.sample_query_random(\n",
    "    \"SELECT * FROM `ad-veritas.oculus_impressions_base_v2.oculus_impressions_base_v2_20181001`\",\n",
    "    ratio=0.1, dest_table='test_sample_query', dest_dataset='behrooza', dest_project='analytics-mafia'\n",
    ")\n",
    "\n",
    "# sample the table:\n",
    "#    `ad-vertias.oculus_impressions_base_v2.oculus_impressions_base_v2_YYYYMMDD`\n",
    "# over user_id and over partitions:\n",
    "#     from 2018-10-01 to 2018-10-10\n",
    "# at 10% and store it in\n",
    "#     `analytics-mafia.behrooza.test_stable_random_YYYYMMDD`\n",
    "#\n",
    "# NOTE: `ignore_exists=True` will re sample and recreate the table\n",
    "bqt.sample_table_stable_random(\n",
    "    'oculus_impressions_base_v2_YYYYMMDD', 'oculus_impressions_base_v2', project='ad-veritas',\n",
    "    partition_start='2018-10-01', partition_end='2018-10-10', ratio=0.1,\n",
    "    dest_table='test_stable_random_YYYYMMDD', dest_dataset='behrooza', dest_project='analytics-mafia',\n",
    "    columns='user_id', ignore_exists=True\n",
    ")\n",
    "\n",
    "# sample the table:\n",
    "#    `ad-vertias.oculus_impressions_base_v2.oculus_impressions_base_v2_YYYYMMDD`\n",
    "# making use each `ad_unit` has the same number of rows sampled and over partitions:\n",
    "#     from 2018-10-01 to 2018-10-10\n",
    "# keeping a total 10000\n",
    "#     `analytics-mafia.behrooza.test_stratified_YYYYMMDD`\n",
    "bqt.sample_table_stratified(\n",
    "    'oculus_impressions_base_v2_YYYYMMDD', 'oculus_impressions_base_v2', project='ad-veritas',\n",
    "    partition_start='2018-10-01', partition_end='2018-10-10', num_rows=10000,\n",
    "    dest_table='test_stratified_YYYYMMDD', dest_dataset='behrooza', dest_project='analytics-mafia',\n",
    "    strata='ad_unit'\n",
    ")"
   ]
  }
 ],
 "metadata": {
  "kernelspec": {
   "display_name": "Python 2",
   "language": "python",
   "name": "python2"
  },
  "language_info": {
   "codemirror_mode": {
    "name": "ipython",
    "version": 2
   },
   "file_extension": ".py",
   "mimetype": "text/x-python",
   "name": "python",
   "nbconvert_exporter": "python",
   "pygments_lexer": "ipython2",
   "version": "2.7.10"
  },
  "toc": {
   "nav_menu": {},
   "number_sections": true,
   "sideBar": true,
   "skip_h1_title": false,
   "toc_cell": false,
   "toc_position": {},
   "toc_section_display": "block",
   "toc_window_display": false
  }
 },
 "nbformat": 4,
 "nbformat_minor": 2
}
