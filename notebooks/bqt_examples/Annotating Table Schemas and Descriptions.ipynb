{
 "cells": [
  {
   "cell_type": "code",
   "execution_count": 1,
   "metadata": {},
   "outputs": [],
   "source": [
    "from bqt import bqt, Writer\n",
    "from bqt.lib.table import BqSingleTable"
   ]
  },
  {
   "cell_type": "code",
   "execution_count": 2,
   "metadata": {},
   "outputs": [],
   "source": [
    "table_name, dataset_name, project_name = (\"genre_entity\",\"genre_entity\",\"knowledge-graph-112233\")\n",
    "partition=\"_20190901\"\n",
    "table_obj = BqSingleTable(table=table_name+partition, \n",
    "                          dataset=dataset_name, \n",
    "                          project=project_name)\n",
    "output_table_name, output_dataset_name, output_project_name = (table_name,\n",
    "                                                              \"ad_hoc\",\n",
    "                                                              \"creator-insights\")"
   ]
  },
  {
   "cell_type": "markdown",
   "metadata": {},
   "source": [
    "## Access the schema of a BqSingleTable object\n",
    "Normally not needed by user"
   ]
  },
  {
   "cell_type": "code",
   "execution_count": 3,
   "metadata": {},
   "outputs": [
    {
     "data": {
      "text/plain": [
       "[SchemaField(u'genre_gid', u'STRING', u'REQUIRED', u'Genre GID in hexadecimal string', ()),\n",
       " SchemaField(u'date', u'STRING', u'REQUIRED', u'Date of entity creation', ()),\n",
       " SchemaField(u'genre', u'RECORD', u'NULLABLE', u'{ policy: { accessTier: BROAD } }', (SchemaField(u'gid', u'STRING', u'REQUIRED', u'GID identifying genre', ()), SchemaField(u'name', u'STRING', u'REQUIRED', u'internal name identifying genre', ()), SchemaField(u'display_name', u'STRING', u'REQUIRED', u'genre name for display', ()), SchemaField(u'description', u'STRING', u'NULLABLE', u'verbose description of the genre', ()), SchemaField(u'short_description', u'STRING', u'NULLABLE', u'short description of the genre', ()), SchemaField(u'aliases', u'STRING', u'REPEATED', u'list of alternate display names for the genre', ()), SchemaField(u'status_flags', u'RECORD', u'REQUIRED', u'flags identifying properties of the genre', (SchemaField(u'no_extrapolate', u'BOOLEAN', u'REQUIRED', None, ()), SchemaField(u'no_infer', u'BOOLEAN', u'REQUIRED', None, ()), SchemaField(u'deceptive', u'BOOLEAN', u'REQUIRED', None, ()), SchemaField(u'non_artist', u'BOOLEAN', u'REQUIRED', None, ()), SchemaField(u'childrens', u'BOOLEAN', u'REQUIRED', None, ()))), SchemaField(u'playlist_flags', u'RECORD', u'REQUIRED', u'flags used for creating playlists from the genre', (SchemaField(u'spoken', u'STRING', u'REQUIRED', None, ()), SchemaField(u'duration', u'STRING', u'REQUIRED', None, ()))), SchemaField(u'artists', u'RECORD', u'REPEATED', None, (SchemaField(u'gid', u'STRING', u'REQUIRED', None, ()), SchemaField(u'name', u'STRING', u'REQUIRED', None, ()))), SchemaField(u'extended_artists', u'RECORD', u'REPEATED', None, (SchemaField(u'gid', u'STRING', u'REQUIRED', None, ()), SchemaField(u'name', u'STRING', u'REQUIRED', None, ()))), SchemaField(u'metagenres', u'RECORD', u'REPEATED', None, (SchemaField(u'gid', u'STRING', u'REQUIRED', None, ()), SchemaField(u'name', u'STRING', u'REQUIRED', None, ()))), SchemaField(u'curator_reviewed', u'BOOLEAN', u'REQUIRED', u'whether a curator has reviewed this genre post-migration from the Echo Nest.', ()), SchemaField(u'created', u'INTEGER', u'NULLABLE', u'Date genre was created.', ()), SchemaField(u'modified', u'INTEGER', u'NULLABLE', u'Date genre configuration was last modified.', ()))),\n",
       " SchemaField(u'sims', u'RECORD', u'NULLABLE', u'{ policy: { accessTier: BROAD } }', (SchemaField(u'genre', u'RECORD', u'REQUIRED', None, (SchemaField(u'gid', u'STRING', u'REQUIRED', None, ()), SchemaField(u'name', u'STRING', u'REQUIRED', None, ()))), SchemaField(u'similars', u'RECORD', u'REPEATED', None, (SchemaField(u'genre', u'RECORD', u'REQUIRED', None, (SchemaField(u'gid', u'STRING', u'REQUIRED', None, ()), SchemaField(u'name', u'STRING', u'REQUIRED', None, ()))), SchemaField(u'score', u'FLOAT', u'REQUIRED', None, ()))))),\n",
       " SchemaField(u'mirrors', u'RECORD', u'NULLABLE', None, (SchemaField(u'genre', u'RECORD', u'REQUIRED', None, (SchemaField(u'gid', u'STRING', u'REQUIRED', None, ()), SchemaField(u'name', u'STRING', u'REQUIRED', None, ()))), SchemaField(u'similars', u'RECORD', u'REPEATED', None, (SchemaField(u'genre', u'RECORD', u'REQUIRED', None, (SchemaField(u'gid', u'STRING', u'REQUIRED', None, ()), SchemaField(u'name', u'STRING', u'REQUIRED', None, ()))), SchemaField(u'score', u'FLOAT', u'REQUIRED', None, ())))))]"
      ]
     },
     "execution_count": 3,
     "metadata": {},
     "output_type": "execute_result"
    }
   ],
   "source": [
    "schema_raw = table_obj.schema_raw\n",
    "schema_raw"
   ]
  },
  {
   "cell_type": "markdown",
   "metadata": {},
   "source": [
    "## Get the table description"
   ]
  },
  {
   "cell_type": "code",
   "execution_count": 4,
   "metadata": {},
   "outputs": [
    {
     "data": {
      "text/plain": [
       "u\"{policy: { accessTier: BROAD },description: 'Genre entity merge from various sources: genre, sims, mirrors'}\""
      ]
     },
     "execution_count": 4,
     "metadata": {},
     "output_type": "execute_result"
    }
   ],
   "source": [
    "table_obj.description"
   ]
  },
  {
   "cell_type": "markdown",
   "metadata": {},
   "source": [
    "## Get the schema as a list of dicts so you can easily edit\n",
    "Schema for end user to edit and pass to functions"
   ]
  },
  {
   "cell_type": "code",
   "execution_count": 5,
   "metadata": {},
   "outputs": [
    {
     "data": {
      "text/plain": [
       "[{'description': u'Genre GID in hexadecimal string',\n",
       "  'mode': u'REQUIRED',\n",
       "  'name': u'genre_gid',\n",
       "  'type': u'STRING'},\n",
       " {'description': u'Date of entity creation',\n",
       "  'mode': u'REQUIRED',\n",
       "  'name': u'date',\n",
       "  'type': u'STRING'},\n",
       " {'description': u'{ policy: { accessTier: BROAD } }',\n",
       "  'fields': [{'description': u'GID identifying genre',\n",
       "    'mode': u'REQUIRED',\n",
       "    'name': u'gid',\n",
       "    'type': u'STRING'},\n",
       "   {'description': u'internal name identifying genre',\n",
       "    'mode': u'REQUIRED',\n",
       "    'name': u'name',\n",
       "    'type': u'STRING'},\n",
       "   {'description': u'genre name for display',\n",
       "    'mode': u'REQUIRED',\n",
       "    'name': u'display_name',\n",
       "    'type': u'STRING'},\n",
       "   {'description': u'verbose description of the genre',\n",
       "    'mode': u'NULLABLE',\n",
       "    'name': u'description',\n",
       "    'type': u'STRING'},\n",
       "   {'description': u'short description of the genre',\n",
       "    'mode': u'NULLABLE',\n",
       "    'name': u'short_description',\n",
       "    'type': u'STRING'},\n",
       "   {'description': u'list of alternate display names for the genre',\n",
       "    'mode': u'REPEATED',\n",
       "    'name': u'aliases',\n",
       "    'type': u'STRING'},\n",
       "   {'description': u'flags identifying properties of the genre',\n",
       "    'fields': [{'description': None,\n",
       "      'mode': u'REQUIRED',\n",
       "      'name': u'no_extrapolate',\n",
       "      'type': u'BOOLEAN'},\n",
       "     {'description': None,\n",
       "      'mode': u'REQUIRED',\n",
       "      'name': u'no_infer',\n",
       "      'type': u'BOOLEAN'},\n",
       "     {'description': None,\n",
       "      'mode': u'REQUIRED',\n",
       "      'name': u'deceptive',\n",
       "      'type': u'BOOLEAN'},\n",
       "     {'description': None,\n",
       "      'mode': u'REQUIRED',\n",
       "      'name': u'non_artist',\n",
       "      'type': u'BOOLEAN'},\n",
       "     {'description': None,\n",
       "      'mode': u'REQUIRED',\n",
       "      'name': u'childrens',\n",
       "      'type': u'BOOLEAN'}],\n",
       "    'mode': u'REQUIRED',\n",
       "    'name': u'status_flags',\n",
       "    'type': u'RECORD'},\n",
       "   {'description': u'flags used for creating playlists from the genre',\n",
       "    'fields': [{'description': None,\n",
       "      'mode': u'REQUIRED',\n",
       "      'name': u'spoken',\n",
       "      'type': u'STRING'},\n",
       "     {'description': None,\n",
       "      'mode': u'REQUIRED',\n",
       "      'name': u'duration',\n",
       "      'type': u'STRING'}],\n",
       "    'mode': u'REQUIRED',\n",
       "    'name': u'playlist_flags',\n",
       "    'type': u'RECORD'},\n",
       "   {'description': None,\n",
       "    'fields': [{'description': None,\n",
       "      'mode': u'REQUIRED',\n",
       "      'name': u'gid',\n",
       "      'type': u'STRING'},\n",
       "     {'description': None,\n",
       "      'mode': u'REQUIRED',\n",
       "      'name': u'name',\n",
       "      'type': u'STRING'}],\n",
       "    'mode': u'REPEATED',\n",
       "    'name': u'artists',\n",
       "    'type': u'RECORD'},\n",
       "   {'description': None,\n",
       "    'fields': [{'description': None,\n",
       "      'mode': u'REQUIRED',\n",
       "      'name': u'gid',\n",
       "      'type': u'STRING'},\n",
       "     {'description': None,\n",
       "      'mode': u'REQUIRED',\n",
       "      'name': u'name',\n",
       "      'type': u'STRING'}],\n",
       "    'mode': u'REPEATED',\n",
       "    'name': u'extended_artists',\n",
       "    'type': u'RECORD'},\n",
       "   {'description': None,\n",
       "    'fields': [{'description': None,\n",
       "      'mode': u'REQUIRED',\n",
       "      'name': u'gid',\n",
       "      'type': u'STRING'},\n",
       "     {'description': None,\n",
       "      'mode': u'REQUIRED',\n",
       "      'name': u'name',\n",
       "      'type': u'STRING'}],\n",
       "    'mode': u'REPEATED',\n",
       "    'name': u'metagenres',\n",
       "    'type': u'RECORD'},\n",
       "   {'description': u'whether a curator has reviewed this genre post-migration from the Echo Nest.',\n",
       "    'mode': u'REQUIRED',\n",
       "    'name': u'curator_reviewed',\n",
       "    'type': u'BOOLEAN'},\n",
       "   {'description': u'Date genre was created.',\n",
       "    'mode': u'NULLABLE',\n",
       "    'name': u'created',\n",
       "    'type': u'INTEGER'},\n",
       "   {'description': u'Date genre configuration was last modified.',\n",
       "    'mode': u'NULLABLE',\n",
       "    'name': u'modified',\n",
       "    'type': u'INTEGER'}],\n",
       "  'mode': u'NULLABLE',\n",
       "  'name': u'genre',\n",
       "  'type': u'RECORD'},\n",
       " {'description': u'{ policy: { accessTier: BROAD } }',\n",
       "  'fields': [{'description': None,\n",
       "    'fields': [{'description': None,\n",
       "      'mode': u'REQUIRED',\n",
       "      'name': u'gid',\n",
       "      'type': u'STRING'},\n",
       "     {'description': None,\n",
       "      'mode': u'REQUIRED',\n",
       "      'name': u'name',\n",
       "      'type': u'STRING'}],\n",
       "    'mode': u'REQUIRED',\n",
       "    'name': u'genre',\n",
       "    'type': u'RECORD'},\n",
       "   {'description': None,\n",
       "    'fields': [{'description': None,\n",
       "      'fields': [{'description': None,\n",
       "        'mode': u'REQUIRED',\n",
       "        'name': u'gid',\n",
       "        'type': u'STRING'},\n",
       "       {'description': None,\n",
       "        'mode': u'REQUIRED',\n",
       "        'name': u'name',\n",
       "        'type': u'STRING'}],\n",
       "      'mode': u'REQUIRED',\n",
       "      'name': u'genre',\n",
       "      'type': u'RECORD'},\n",
       "     {'description': None,\n",
       "      'mode': u'REQUIRED',\n",
       "      'name': u'score',\n",
       "      'type': u'FLOAT'}],\n",
       "    'mode': u'REPEATED',\n",
       "    'name': u'similars',\n",
       "    'type': u'RECORD'}],\n",
       "  'mode': u'NULLABLE',\n",
       "  'name': u'sims',\n",
       "  'type': u'RECORD'},\n",
       " {'description': None,\n",
       "  'fields': [{'description': None,\n",
       "    'fields': [{'description': None,\n",
       "      'mode': u'REQUIRED',\n",
       "      'name': u'gid',\n",
       "      'type': u'STRING'},\n",
       "     {'description': None,\n",
       "      'mode': u'REQUIRED',\n",
       "      'name': u'name',\n",
       "      'type': u'STRING'}],\n",
       "    'mode': u'REQUIRED',\n",
       "    'name': u'genre',\n",
       "    'type': u'RECORD'},\n",
       "   {'description': None,\n",
       "    'fields': [{'description': None,\n",
       "      'fields': [{'description': None,\n",
       "        'mode': u'REQUIRED',\n",
       "        'name': u'gid',\n",
       "        'type': u'STRING'},\n",
       "       {'description': None,\n",
       "        'mode': u'REQUIRED',\n",
       "        'name': u'name',\n",
       "        'type': u'STRING'}],\n",
       "      'mode': u'REQUIRED',\n",
       "      'name': u'genre',\n",
       "      'type': u'RECORD'},\n",
       "     {'description': None,\n",
       "      'mode': u'REQUIRED',\n",
       "      'name': u'score',\n",
       "      'type': u'FLOAT'}],\n",
       "    'mode': u'REPEATED',\n",
       "    'name': u'similars',\n",
       "    'type': u'RECORD'}],\n",
       "  'mode': u'NULLABLE',\n",
       "  'name': u'mirrors',\n",
       "  'type': u'RECORD'}]"
      ]
     },
     "execution_count": 5,
     "metadata": {},
     "output_type": "execute_result"
    }
   ],
   "source": [
    "schema = table_obj.schema\n",
    "schema"
   ]
  },
  {
   "cell_type": "markdown",
   "metadata": {},
   "source": [
    "## Checking that converting from one to the other is equivalent\n",
    "`_schema_from_dict` is internal method, typically not needed by end user"
   ]
  },
  {
   "cell_type": "code",
   "execution_count": 6,
   "metadata": {},
   "outputs": [],
   "source": [
    "schema_bq = Writer._schema_from_dict(Writer(table_obj),schema)"
   ]
  },
  {
   "cell_type": "markdown",
   "metadata": {},
   "source": [
    "## They match, good"
   ]
  },
  {
   "cell_type": "code",
   "execution_count": 7,
   "metadata": {},
   "outputs": [
    {
     "data": {
      "text/plain": [
       "True"
      ]
     },
     "execution_count": 7,
     "metadata": {},
     "output_type": "execute_result"
    }
   ],
   "source": [
    "schema_bq == schema_raw"
   ]
  },
  {
   "cell_type": "markdown",
   "metadata": {},
   "source": [
    "## You can now set a table with a schema and/or a description"
   ]
  },
  {
   "cell_type": "code",
   "execution_count": 8,
   "metadata": {},
   "outputs": [],
   "source": [
    "q = \"\"\"\n",
    "select * from `{project_name}.{dataset_name}.{table_name}{partition}` limit 1\"\"\".format(\n",
    "                            project_name=project_name,\n",
    "                            dataset_name=dataset_name,\n",
    "                            table_name=table_name,\n",
    "                            partition=partition)"
   ]
  },
  {
   "cell_type": "code",
   "execution_count": 9,
   "metadata": {},
   "outputs": [
    {
     "name": "stdout",
     "output_type": "stream",
     "text": [
      "Deleting temp_with_schema_genre_entity ...\n",
      "Deleting temp_without_schema_genre_entity ...\n",
      "Deleting dummy_genre_entity ...\n",
      "Deleting dummy2_genre_entity ...\n",
      "Deleting dummy3_genre_entity ...\n"
     ]
    }
   ],
   "source": [
    "for t in [\"temp_with_schema_\",\"temp_without_schema_\",\"dummy_\",\"dummy2_\",\"dummy3_\"]:\n",
    "    bqt.delete_table(project=output_project_name,\n",
    "                     dataset=output_dataset_name,\n",
    "                     tables=t+output_table_name, confirm=False)"
   ]
  },
  {
   "cell_type": "code",
   "execution_count": 10,
   "metadata": {},
   "outputs": [
    {
     "name": "stdout",
     "output_type": "stream",
     "text": [
      "Creating table `creator-insights.ad_hoc.temp_with_schema_genre_entity` ...\n",
      "\u001b[92mJob finished successfuly!\u001b[0m\n"
     ]
    },
    {
     "data": {
      "text/plain": [
       "<bqt.lib.job.BqJobResult at 0x111faa750>"
      ]
     },
     "execution_count": 10,
     "metadata": {},
     "output_type": "execute_result"
    }
   ],
   "source": [
    "bqt.create_table(q,\n",
    "                 output_dataset_name,\n",
    "                 \"temp_with_schema_\"+output_table_name,\n",
    "                 project=output_project_name,\n",
    "                 schema=schema,\n",
    "                 write_disposition='WRITE_TRUNCATE',\n",
    "                 description=\"blah\"\n",
    "                )"
   ]
  },
  {
   "cell_type": "markdown",
   "metadata": {},
   "source": [
    "## Let's compare what happens when you create a table without explicitly sending a schema"
   ]
  },
  {
   "cell_type": "code",
   "execution_count": 11,
   "metadata": {},
   "outputs": [
    {
     "name": "stdout",
     "output_type": "stream",
     "text": [
      "Creating table `creator-insights.ad_hoc.temp_without_schema_genre_entity` ...\n",
      "\u001b[92mJob finished successfuly!\u001b[0m\n"
     ]
    },
    {
     "data": {
      "text/plain": [
       "<bqt.lib.job.BqJobResult at 0x1002ed990>"
      ]
     },
     "execution_count": 11,
     "metadata": {},
     "output_type": "execute_result"
    }
   ],
   "source": [
    "bqt.create_table(q,\n",
    "                 output_dataset_name,\n",
    "                 \"temp_without_schema_\"+output_table_name,\n",
    "                 project=output_project_name,\n",
    "                 write_disposition='WRITE_TRUNCATE'\n",
    "                )"
   ]
  },
  {
   "cell_type": "markdown",
   "metadata": {},
   "source": [
    "## Require a created table have required fields in schema\n",
    "The original genre entity table had this field as REQUIRED. But when we created it with the default create_table settings, it wrote the table with all REQUIRED fields as NULLABLE. To explicitly set certain fields as REQUIRED, we can pass in a schema calling for this. The table where we pass in a schema matches the original."
   ]
  },
  {
   "cell_type": "code",
   "execution_count": 12,
   "metadata": {},
   "outputs": [
    {
     "data": {
      "text/plain": [
       "{'description': None, 'mode': u'REQUIRED', 'name': u'score', 'type': u'FLOAT'}"
      ]
     },
     "execution_count": 12,
     "metadata": {},
     "output_type": "execute_result"
    }
   ],
   "source": [
    "orginal_field_example = schema[3]['fields'][1]['fields'][1]\n",
    "orginal_field_example"
   ]
  },
  {
   "cell_type": "code",
   "execution_count": 13,
   "metadata": {},
   "outputs": [
    {
     "data": {
      "text/plain": [
       "{'description': None, 'mode': u'REQUIRED', 'name': u'score', 'type': u'FLOAT'}"
      ]
     },
     "execution_count": 13,
     "metadata": {},
     "output_type": "execute_result"
    }
   ],
   "source": [
    "with_schema = BqSingleTable(table=\"temp_with_schema_\"+output_table_name,\n",
    "                            dataset=output_dataset_name,\n",
    "                            project=output_project_name)\n",
    "with_schema_field_example = with_schema.schema\n",
    "with_schema_field_example[3]['fields'][1]['fields'][1]"
   ]
  },
  {
   "cell_type": "code",
   "execution_count": 14,
   "metadata": {},
   "outputs": [
    {
     "data": {
      "text/plain": [
       "{'description': None, 'mode': u'NULLABLE', 'name': u'score', 'type': u'FLOAT'}"
      ]
     },
     "execution_count": 14,
     "metadata": {},
     "output_type": "execute_result"
    }
   ],
   "source": [
    "without_schema = BqSingleTable(table=\"temp_without_schema_\"+output_table_name, \n",
    "                               dataset=output_dataset_name, \n",
    "                               project=output_project_name)\n",
    "without_schema_field_example = without_schema.schema\n",
    "without_schema_field_example[3]['fields'][1]['fields'][1]"
   ]
  },
  {
   "cell_type": "markdown",
   "metadata": {},
   "source": [
    "## The table we created with a description has a description"
   ]
  },
  {
   "cell_type": "code",
   "execution_count": 15,
   "metadata": {},
   "outputs": [
    {
     "data": {
      "text/plain": [
       "u'blah'"
      ]
     },
     "execution_count": 15,
     "metadata": {},
     "output_type": "execute_result"
    }
   ],
   "source": [
    "with_schema.description"
   ]
  },
  {
   "cell_type": "markdown",
   "metadata": {},
   "source": [
    "## The table we created without one does not"
   ]
  },
  {
   "cell_type": "code",
   "execution_count": 16,
   "metadata": {},
   "outputs": [],
   "source": [
    "without_schema.description"
   ]
  },
  {
   "cell_type": "markdown",
   "metadata": {},
   "source": [
    "## Let's update the table with no description and give it one"
   ]
  },
  {
   "cell_type": "code",
   "execution_count": 17,
   "metadata": {},
   "outputs": [],
   "source": [
    "bqt.update_table_metadata(table=\"temp_without_schema_\"+output_table_name,\n",
    "                 dataset=output_dataset_name,\n",
    "                 project=output_project_name,\n",
    "                 description='more blah')"
   ]
  },
  {
   "cell_type": "markdown",
   "metadata": {},
   "source": [
    "## It has one now"
   ]
  },
  {
   "cell_type": "code",
   "execution_count": 18,
   "metadata": {},
   "outputs": [
    {
     "data": {
      "text/plain": [
       "u'more blah'"
      ]
     },
     "execution_count": 18,
     "metadata": {},
     "output_type": "execute_result"
    }
   ],
   "source": [
    "without_schema_updated = BqSingleTable(table=\"temp_without_schema_\"+output_table_name,\n",
    "                                       dataset=output_dataset_name,\n",
    "                                       project=output_project_name)\n",
    "without_schema_updated.description"
   ]
  },
  {
   "cell_type": "markdown",
   "metadata": {},
   "source": [
    "## What if we wanted to change the description of a specific field?"
   ]
  },
  {
   "cell_type": "code",
   "execution_count": 19,
   "metadata": {},
   "outputs": [
    {
     "data": {
      "text/plain": [
       "{'description': None, 'mode': u'REQUIRED', 'name': u'score', 'type': u'FLOAT'}"
      ]
     },
     "execution_count": 19,
     "metadata": {},
     "output_type": "execute_result"
    }
   ],
   "source": [
    "with_schema.schema[3]['fields'][1]['fields'][1]"
   ]
  },
  {
   "cell_type": "markdown",
   "metadata": {},
   "source": [
    "## No problem. Let's get the schema as a dict, then change the description"
   ]
  },
  {
   "cell_type": "code",
   "execution_count": 20,
   "metadata": {},
   "outputs": [],
   "source": [
    "schema_with_new_description = with_schema.schema\n",
    "schema_with_new_description[3]['fields'][1]['fields'][1]['description']='a super strict field'"
   ]
  },
  {
   "cell_type": "code",
   "execution_count": 21,
   "metadata": {},
   "outputs": [
    {
     "data": {
      "text/plain": [
       "{'description': 'a super strict field',\n",
       " 'mode': u'REQUIRED',\n",
       " 'name': u'score',\n",
       " 'type': u'FLOAT'}"
      ]
     },
     "execution_count": 21,
     "metadata": {},
     "output_type": "execute_result"
    }
   ],
   "source": [
    "schema_with_new_description[3]['fields'][1]['fields'][1]"
   ]
  },
  {
   "cell_type": "markdown",
   "metadata": {},
   "source": [
    "## Update the table and verify it got changed"
   ]
  },
  {
   "cell_type": "code",
   "execution_count": 22,
   "metadata": {},
   "outputs": [],
   "source": [
    "bqt.update_table_metadata(table=\"temp_with_schema_\"+output_table_name,\n",
    "                 dataset=output_dataset_name,\n",
    "                 project=output_project_name,\n",
    "                 schema=schema_with_new_description)"
   ]
  },
  {
   "cell_type": "code",
   "execution_count": 23,
   "metadata": {},
   "outputs": [
    {
     "data": {
      "text/plain": [
       "{'description': u'a super strict field',\n",
       " 'mode': u'REQUIRED',\n",
       " 'name': u'score',\n",
       " 'type': u'FLOAT'}"
      ]
     },
     "execution_count": 23,
     "metadata": {},
     "output_type": "execute_result"
    }
   ],
   "source": [
    "BqSingleTable(table=\"temp_with_schema_\"+table_name,\n",
    "              dataset=output_dataset_name, \n",
    "              project=output_project_name).schema[3]['fields'][1]['fields'][1]"
   ]
  },
  {
   "cell_type": "markdown",
   "metadata": {},
   "source": [
    "## What if we just want to update one field's description without having to deal with schemas and what not..."
   ]
  },
  {
   "cell_type": "code",
   "execution_count": 24,
   "metadata": {},
   "outputs": [
    {
     "data": {
      "text/plain": [
       "{'description': u'Genre GID in hexadecimal string',\n",
       " 'mode': u'REQUIRED',\n",
       " 'name': u'genre_gid',\n",
       " 'type': u'STRING'}"
      ]
     },
     "execution_count": 24,
     "metadata": {},
     "output_type": "execute_result"
    }
   ],
   "source": [
    "BqSingleTable(table=\"temp_with_schema_\"+table_name,\n",
    "              dataset=output_dataset_name, \n",
    "              project=output_project_name).schema[0]"
   ]
  },
  {
   "cell_type": "code",
   "execution_count": 25,
   "metadata": {},
   "outputs": [],
   "source": [
    "bqt.update_field_description(dataset=output_dataset_name,\n",
    "                             table=\"temp_with_schema_\"+table_name,\n",
    "                             project=output_project_name,\n",
    "                             field=\"genre_gid\",\n",
    "                             description=\"something else\"\n",
    "                            )"
   ]
  },
  {
   "cell_type": "code",
   "execution_count": 26,
   "metadata": {},
   "outputs": [
    {
     "data": {
      "text/plain": [
       "{'description': u'something else',\n",
       " 'mode': u'REQUIRED',\n",
       " 'name': u'genre_gid',\n",
       " 'type': u'STRING'}"
      ]
     },
     "execution_count": 26,
     "metadata": {},
     "output_type": "execute_result"
    }
   ],
   "source": [
    "BqSingleTable(table=\"temp_with_schema_\"+table_name,\n",
    "              dataset=output_dataset_name, \n",
    "              project=output_project_name).schema[0]"
   ]
  },
  {
   "cell_type": "markdown",
   "metadata": {},
   "source": [
    "## How about let's update a field within a struct; we can use dot notation to access it"
   ]
  },
  {
   "cell_type": "code",
   "execution_count": 27,
   "metadata": {},
   "outputs": [
    {
     "data": {
      "text/plain": [
       "{'description': u'internal name identifying genre',\n",
       " 'mode': u'REQUIRED',\n",
       " 'name': u'name',\n",
       " 'type': u'STRING'}"
      ]
     },
     "execution_count": 27,
     "metadata": {},
     "output_type": "execute_result"
    }
   ],
   "source": [
    "BqSingleTable(table=\"temp_with_schema_\"+table_name,\n",
    "              dataset=output_dataset_name, \n",
    "              project=output_project_name).schema[2]['fields'][1]"
   ]
  },
  {
   "cell_type": "code",
   "execution_count": 28,
   "metadata": {},
   "outputs": [],
   "source": [
    "bqt.update_field_description(dataset=output_dataset_name,\n",
    "                             table=\"temp_with_schema_\"+table_name,\n",
    "                             project=output_project_name,\n",
    "                             field=\"genre.name\",\n",
    "                             description=\"changing description\"\n",
    "                            )"
   ]
  },
  {
   "cell_type": "code",
   "execution_count": 29,
   "metadata": {},
   "outputs": [
    {
     "data": {
      "text/plain": [
       "{'description': u'changing description',\n",
       " 'mode': u'REQUIRED',\n",
       " 'name': u'name',\n",
       " 'type': u'STRING'}"
      ]
     },
     "execution_count": 29,
     "metadata": {},
     "output_type": "execute_result"
    }
   ],
   "source": [
    "BqSingleTable(table=\"temp_with_schema_\"+table_name,\n",
    "              dataset=output_dataset_name, \n",
    "              project=output_project_name).schema[2]['fields'][1]"
   ]
  },
  {
   "cell_type": "code",
   "execution_count": 30,
   "metadata": {},
   "outputs": [
    {
     "data": {
      "text/plain": [
       "{'description': None, 'mode': u'REQUIRED', 'name': u'name', 'type': u'STRING'}"
      ]
     },
     "execution_count": 30,
     "metadata": {},
     "output_type": "execute_result"
    }
   ],
   "source": [
    "BqSingleTable(table=\"temp_with_schema_\"+table_name,\n",
    "              dataset=output_dataset_name, \n",
    "              project=output_project_name).schema[4]['fields'][1]['fields'][0]['fields'][1]"
   ]
  },
  {
   "cell_type": "code",
   "execution_count": 31,
   "metadata": {},
   "outputs": [],
   "source": [
    "bqt.update_field_description(dataset=output_dataset_name,\n",
    "                             table=\"temp_with_schema_\"+table_name,\n",
    "                             project=output_project_name,\n",
    "                             field=\"mirrors.similars.genre.name\",\n",
    "                             description=\"a description added to empty field\"\n",
    "                            )"
   ]
  },
  {
   "cell_type": "code",
   "execution_count": 32,
   "metadata": {},
   "outputs": [
    {
     "data": {
      "text/plain": [
       "{'description': u'a description added to empty field',\n",
       " 'mode': u'REQUIRED',\n",
       " 'name': u'name',\n",
       " 'type': u'STRING'}"
      ]
     },
     "execution_count": 32,
     "metadata": {},
     "output_type": "execute_result"
    }
   ],
   "source": [
    "BqSingleTable(table=\"temp_with_schema_\"+table_name,\n",
    "              dataset=output_dataset_name, \n",
    "              project=output_project_name).schema[4]['fields'][1]['fields'][0]['fields'][1]"
   ]
  },
  {
   "cell_type": "markdown",
   "metadata": {},
   "source": [
    "## Warning message when you try to update a non-existant field"
   ]
  },
  {
   "cell_type": "code",
   "execution_count": 33,
   "metadata": {},
   "outputs": [
    {
     "name": "stdout",
     "output_type": "stream",
     "text": [
      "\u001b[93mField not found\u001b[0m\n"
     ]
    }
   ],
   "source": [
    "bqt.update_field_description(dataset=output_dataset_name,\n",
    "                             table=\"temp_with_schema_\"+table_name,\n",
    "                             project=output_project_name,\n",
    "                             field=\"thisfielddoesntexist\",\n",
    "                             description=\"another description changed\"\n",
    "                            )"
   ]
  },
  {
   "cell_type": "markdown",
   "metadata": {},
   "source": [
    "## Let's imagine we have a table with lots of fields and we don't want to run dozens of update_table requests or want to manually edit lots of common field descriptions..."
   ]
  },
  {
   "cell_type": "code",
   "execution_count": 34,
   "metadata": {},
   "outputs": [
    {
     "name": "stdout",
     "output_type": "stream",
     "text": [
      "Creating table `creator-insights.ad_hoc.dummy_genre_entity` ...\n",
      "\u001b[92mJob finished successfuly!\u001b[0m\n"
     ]
    },
    {
     "data": {
      "text/plain": [
       "<bqt.lib.job.BqJobResult at 0x10bcb9f50>"
      ]
     },
     "execution_count": 34,
     "metadata": {},
     "output_type": "execute_result"
    }
   ],
   "source": [
    "bqt.create_table(\"\"\"select 'bob' as user_id,\n",
    "                        \"USA\" as reg_country,\n",
    "                        \"BRAZIL\" as reportingCountry,\n",
    "                        112 as streams\n",
    "                        \n",
    "                 \"\"\",\n",
    "                 output_dataset_name,\n",
    "                 \"dummy_\"+output_table_name,\n",
    "                 project=output_project_name,\n",
    "                 write_disposition='WRITE_TRUNCATE'\n",
    "                )"
   ]
  },
  {
   "cell_type": "markdown",
   "metadata": {},
   "source": [
    "### No field descriptions for this table"
   ]
  },
  {
   "cell_type": "code",
   "execution_count": 35,
   "metadata": {},
   "outputs": [
    {
     "data": {
      "text/plain": [
       "[{'description': None,\n",
       "  'mode': u'NULLABLE',\n",
       "  'name': u'user_id',\n",
       "  'type': u'STRING'},\n",
       " {'description': None,\n",
       "  'mode': u'NULLABLE',\n",
       "  'name': u'reg_country',\n",
       "  'type': u'STRING'},\n",
       " {'description': None,\n",
       "  'mode': u'NULLABLE',\n",
       "  'name': u'reportingCountry',\n",
       "  'type': u'STRING'},\n",
       " {'description': None,\n",
       "  'mode': u'NULLABLE',\n",
       "  'name': u'streams',\n",
       "  'type': u'INTEGER'}]"
      ]
     },
     "execution_count": 35,
     "metadata": {},
     "output_type": "execute_result"
    }
   ],
   "source": [
    "schema_dict_2 = BqSingleTable(table=\"dummy_\"+table_name,\n",
    "              dataset=output_dataset_name, \n",
    "              project=output_project_name).schema\n",
    "schema_dict_2"
   ]
  },
  {
   "cell_type": "markdown",
   "metadata": {},
   "source": [
    "### Specify the descriptions all at once. Now the schema is ready"
   ]
  },
  {
   "cell_type": "code",
   "execution_count": 36,
   "metadata": {},
   "outputs": [
    {
     "name": "stdout",
     "output_type": "stream",
     "text": [
      "[{'description': '{ policy: { semanticType: userId } }', 'type': u'STRING', 'mode': u'NULLABLE', 'name': u'user_id'}, {'description': '{ policy: { semanticType: country } }', 'type': u'STRING', 'mode': u'NULLABLE', 'name': u'reg_country'}, {'description': '{ policy: { semanticType: country } }', 'type': u'STRING', 'mode': u'NULLABLE', 'name': u'reportingCountry'}, {'description': 'streams from past day', 'type': u'INTEGER', 'mode': u'NULLABLE', 'name': u'streams'}]\n"
     ]
    }
   ],
   "source": [
    "my_field_description_map = {\n",
    "    \"user_id\":\"{ policy: { semanticType: userId } }\",\n",
    "    \"reg_country\":\"{ policy: { semanticType: country } }\",\n",
    "    \"reportingCountry\":\"{ policy: { semanticType: country } }\",\n",
    "    \"streams\":\"streams from past day\"\n",
    "}\n",
    "\n",
    "updated_schema_with_descriptions = bqt.add_annotation_to_schema(schema_dict_2,\n",
    "                                                                my_field_description_map)\n",
    "print(updated_schema_with_descriptions)"
   ]
  },
  {
   "cell_type": "markdown",
   "metadata": {},
   "source": [
    "### Go ahead and pass this schema to update_tabel and verify that the schema is now good"
   ]
  },
  {
   "cell_type": "code",
   "execution_count": 37,
   "metadata": {},
   "outputs": [
    {
     "data": {
      "text/plain": [
       "[{'description': u'{ policy: { semanticType: userId } }',\n",
       "  'mode': u'NULLABLE',\n",
       "  'name': u'user_id',\n",
       "  'type': u'STRING'},\n",
       " {'description': u'{ policy: { semanticType: country } }',\n",
       "  'mode': u'NULLABLE',\n",
       "  'name': u'reg_country',\n",
       "  'type': u'STRING'},\n",
       " {'description': u'{ policy: { semanticType: country } }',\n",
       "  'mode': u'NULLABLE',\n",
       "  'name': u'reportingCountry',\n",
       "  'type': u'STRING'},\n",
       " {'description': u'streams from past day',\n",
       "  'mode': u'NULLABLE',\n",
       "  'name': u'streams',\n",
       "  'type': u'INTEGER'}]"
      ]
     },
     "execution_count": 37,
     "metadata": {},
     "output_type": "execute_result"
    }
   ],
   "source": [
    "bqt.update_table_metadata(table=\"dummy_\"+output_table_name,\n",
    "                 dataset=output_dataset_name,\n",
    "                 project=output_project_name,\n",
    "                 schema=updated_schema_with_descriptions)\n",
    "BqSingleTable(table=\"dummy_\"+table_name,\n",
    "              dataset=output_dataset_name, \n",
    "              project=output_project_name).schema"
   ]
  },
  {
   "cell_type": "markdown",
   "metadata": {},
   "source": [
    "## Ok, but since some of these are super common field names, let's auto generate a schema where these common descriptions are automatically filled in"
   ]
  },
  {
   "cell_type": "code",
   "execution_count": 38,
   "metadata": {},
   "outputs": [
    {
     "name": "stdout",
     "output_type": "stream",
     "text": [
      "Creating table `creator-insights.ad_hoc.dummy2_genre_entity` ...\n",
      "\u001b[92mJob finished successfuly!\u001b[0m\n"
     ]
    },
    {
     "data": {
      "text/plain": [
       "<bqt.lib.job.BqJobResult at 0x11219d290>"
      ]
     },
     "execution_count": 38,
     "metadata": {},
     "output_type": "execute_result"
    }
   ],
   "source": [
    "bqt.create_table(\"\"\"select 'bob' as user_id,\n",
    "                        \"USA\" as reg_country,\n",
    "                        \"BRAZIL\" as reportingCountry,\n",
    "                        112 as streams\n",
    "                        \n",
    "                 \"\"\",\n",
    "                 output_dataset_name,\n",
    "                 \"dummy2_\"+output_table_name,\n",
    "                 project=output_project_name,\n",
    "                 write_disposition='WRITE_TRUNCATE'\n",
    "                )"
   ]
  },
  {
   "cell_type": "code",
   "execution_count": 39,
   "metadata": {},
   "outputs": [
    {
     "data": {
      "text/plain": [
       "[{'description': None,\n",
       "  'mode': u'NULLABLE',\n",
       "  'name': u'user_id',\n",
       "  'type': u'STRING'},\n",
       " {'description': None,\n",
       "  'mode': u'NULLABLE',\n",
       "  'name': u'reg_country',\n",
       "  'type': u'STRING'},\n",
       " {'description': None,\n",
       "  'mode': u'NULLABLE',\n",
       "  'name': u'reportingCountry',\n",
       "  'type': u'STRING'},\n",
       " {'description': None,\n",
       "  'mode': u'NULLABLE',\n",
       "  'name': u'streams',\n",
       "  'type': u'INTEGER'}]"
      ]
     },
     "execution_count": 39,
     "metadata": {},
     "output_type": "execute_result"
    }
   ],
   "source": [
    "schema_dict_3 = BqSingleTable(table=\"dummy2_\"+table_name,\n",
    "              dataset=output_dataset_name, \n",
    "              project=output_project_name).schema\n",
    "schema_dict_3"
   ]
  },
  {
   "cell_type": "code",
   "execution_count": 41,
   "metadata": {},
   "outputs": [
    {
     "data": {
      "text/plain": [
       "[{'description': '{ policy: { semanticType: userId } }',\n",
       "  'mode': u'NULLABLE',\n",
       "  'name': u'user_id',\n",
       "  'type': u'STRING'},\n",
       " {'description': '{ policy: { semanticType: country } }',\n",
       "  'mode': u'NULLABLE',\n",
       "  'name': u'reg_country',\n",
       "  'type': u'STRING'},\n",
       " {'description': '{ policy: { semanticType: country } }',\n",
       "  'mode': u'NULLABLE',\n",
       "  'name': u'reportingCountry',\n",
       "  'type': u'STRING'},\n",
       " {'description': None,\n",
       "  'mode': u'NULLABLE',\n",
       "  'name': u'streams',\n",
       "  'type': u'INTEGER'}]"
      ]
     },
     "execution_count": 41,
     "metadata": {},
     "output_type": "execute_result"
    }
   ],
   "source": [
    "updated_schema_with_descriptions2 = bqt.add_annotation_to_schema(schema_dict_3,exact_match=False)\n",
    "updated_schema_with_descriptions2"
   ]
  },
  {
   "cell_type": "markdown",
   "metadata": {},
   "source": [
    "### You can now manually tweak anything else in case it automatically misapplied the wrong semantic type to the field name or want to add extra descriptions. Now update the table as you did before."
   ]
  },
  {
   "cell_type": "code",
   "execution_count": 42,
   "metadata": {},
   "outputs": [
    {
     "data": {
      "text/plain": [
       "[{'description': u'{ policy: { semanticType: userId } }',\n",
       "  'mode': u'NULLABLE',\n",
       "  'name': u'user_id',\n",
       "  'type': u'STRING'},\n",
       " {'description': u'{ policy: { semanticType: country } }',\n",
       "  'mode': u'NULLABLE',\n",
       "  'name': u'reg_country',\n",
       "  'type': u'STRING'},\n",
       " {'description': u'{ policy: { semanticType: country } }',\n",
       "  'mode': u'NULLABLE',\n",
       "  'name': u'reportingCountry',\n",
       "  'type': u'STRING'},\n",
       " {'description': None,\n",
       "  'mode': u'NULLABLE',\n",
       "  'name': u'streams',\n",
       "  'type': u'INTEGER'}]"
      ]
     },
     "execution_count": 42,
     "metadata": {},
     "output_type": "execute_result"
    }
   ],
   "source": [
    "bqt.update_table_metadata(table=\"dummy2_\"+output_table_name,\n",
    "                 dataset=output_dataset_name,\n",
    "                 project=output_project_name,\n",
    "                 schema=updated_schema_with_descriptions2)\n",
    "BqSingleTable(table=\"dummy2_\"+table_name,\n",
    "              dataset=output_dataset_name, \n",
    "              project=output_project_name).schema"
   ]
  },
  {
   "cell_type": "markdown",
   "metadata": {},
   "source": [
    "## Can also save yourself the step of generating the automatically annotated schema then updating table. Instead, do it all in one go"
   ]
  },
  {
   "cell_type": "code",
   "execution_count": 43,
   "metadata": {},
   "outputs": [
    {
     "name": "stdout",
     "output_type": "stream",
     "text": [
      "Creating table `creator-insights.ad_hoc.dummy3_genre_entity` ...\n",
      "\u001b[92mJob finished successfuly!\u001b[0m\n"
     ]
    },
    {
     "data": {
      "text/plain": [
       "<bqt.lib.job.BqJobResult at 0x10bca4d90>"
      ]
     },
     "execution_count": 43,
     "metadata": {},
     "output_type": "execute_result"
    }
   ],
   "source": [
    "bqt.create_table(\"\"\"select 'bob' as user_id,\n",
    "                        \"USA\" as reg_country,\n",
    "                        \"BRAZIL\" as reportingCountry,\n",
    "                        112 as streams\n",
    "                        \n",
    "                 \"\"\",\n",
    "                 output_dataset_name,\n",
    "                 \"dummy3_\"+output_table_name,\n",
    "                 project=output_project_name,\n",
    "                 write_disposition='WRITE_TRUNCATE'\n",
    "                )"
   ]
  },
  {
   "cell_type": "code",
   "execution_count": 44,
   "metadata": {},
   "outputs": [
    {
     "data": {
      "text/plain": [
       "[{'description': u'{ policy: { semanticType: userId } }',\n",
       "  'mode': u'NULLABLE',\n",
       "  'name': u'user_id',\n",
       "  'type': u'STRING'},\n",
       " {'description': u'{ policy: { semanticType: country } }',\n",
       "  'mode': u'NULLABLE',\n",
       "  'name': u'reg_country',\n",
       "  'type': u'STRING'},\n",
       " {'description': u'{ policy: { semanticType: country } }',\n",
       "  'mode': u'NULLABLE',\n",
       "  'name': u'reportingCountry',\n",
       "  'type': u'STRING'},\n",
       " {'description': None,\n",
       "  'mode': u'NULLABLE',\n",
       "  'name': u'streams',\n",
       "  'type': u'INTEGER'}]"
      ]
     },
     "execution_count": 44,
     "metadata": {},
     "output_type": "execute_result"
    }
   ],
   "source": [
    "bqt.update_table_metadata(table=\"dummy3_\"+output_table_name,\n",
    "                 dataset=output_dataset_name,\n",
    "                 project=output_project_name,\n",
    "                 auto_annotate=True)\n",
    "BqSingleTable(table=\"dummy3_\"+table_name,\n",
    "              dataset=output_dataset_name, \n",
    "              project=output_project_name).schema"
   ]
  },
  {
   "cell_type": "code",
   "execution_count": null,
   "metadata": {},
   "outputs": [],
   "source": [
    "# def _update_key(dictionary,key,val):\n",
    "#     key = key.split('.')\n",
    "#     temp = dictionary\n",
    "#     for i in key[:-1]:\n",
    "#         temp = temp[i]\n",
    "#     temp[key[-1]] = val\n",
    "#     return dictionary"
   ]
  },
  {
   "cell_type": "code",
   "execution_count": null,
   "metadata": {},
   "outputs": [],
   "source": []
  }
 ],
 "metadata": {
  "kernelspec": {
   "display_name": "Python 3",
   "language": "python",
   "name": "python3"
  },
  "language_info": {
   "codemirror_mode": {
    "name": "ipython",
    "version": 2
   },
   "file_extension": ".py",
   "mimetype": "text/x-python",
   "name": "python",
   "nbconvert_exporter": "python",
   "pygments_lexer": "ipython2",
   "version": "2.7.12"
  }
 },
 "nbformat": 4,
 "nbformat_minor": 2
}
