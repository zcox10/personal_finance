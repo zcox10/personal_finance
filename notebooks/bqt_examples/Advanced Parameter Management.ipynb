{
 "cells": [
  {
   "cell_type": "markdown",
   "metadata": {},
   "source": [
    "# Advance Parameter Management\n",
    "\n",
    "This is a very handy feature of `BqT` if you get used to it, the idea is to set parameters and magic numbers you have in your notebook in one place and forget about them.\n",
    "\n",
    "## Basic Example"
   ]
  },
  {
   "cell_type": "code",
   "execution_count": 3,
   "metadata": {},
   "outputs": [],
   "source": [
    "# add to sys.path\n",
    "import sys\n",
    "\n",
    "sys.path.insert(0, \"../../\")\n",
    "sys.path.insert(0, \"../../src\")\n",
    "\n",
    "from bqt import bqt"
   ]
  },
  {
   "cell_type": "code",
   "execution_count": 4,
   "metadata": {},
   "outputs": [],
   "source": [
    "# set anything you want:\n",
    "bqt.set_param(\"min_age\", 18)\n",
    "bqt.set_param(\"max_age\", 60)"
   ]
  },
  {
   "cell_type": "code",
   "execution_count": 5,
   "metadata": {},
   "outputs": [
    {
     "data": {
      "text/plain": [
       "18"
      ]
     },
     "execution_count": 5,
     "metadata": {},
     "output_type": "execute_result"
    }
   ],
   "source": [
    "# you can now get them:\n",
    "bqt.get_param(\"min_age\")"
   ]
  },
  {
   "cell_type": "code",
   "execution_count": 7,
   "metadata": {},
   "outputs": [],
   "source": [
    "# use them in a query:\n",
    "query = \"SELECT * FROM my_table WHERE age BETWEEN {min_age} AND {max_age}\"\n",
    "bqt.query(query)  # this will automatically replace them for you"
   ]
  },
  {
   "cell_type": "markdown",
   "metadata": {},
   "source": [
    "### Dates\n",
    "Dates are a bit of an special case, `BqT` parses them for you automatically:"
   ]
  },
  {
   "cell_type": "code",
   "execution_count": 4,
   "metadata": {},
   "outputs": [],
   "source": [
    "bqt.set_param(\"my_birthday\", \"1910-12-01\")"
   ]
  },
  {
   "cell_type": "code",
   "execution_count": null,
   "metadata": {},
   "outputs": [],
   "source": [
    "# use them in a query:\n",
    "query = \"SELECT * FROM my_table WHERE date = '{my_birthday}'\"\n",
    "bqt.query(query)  # this will result in: SELECT * FROM my_table WHERE date = '1910-12-01'\n",
    "\n",
    "# or change the format on the fly\n",
    "query = \"SELECT * FROM my_table_* WHERE _TABLE_SUFFIX = '{my_birthday_YYYYMMDD}'\"\n",
    "bqt.query(query)  # this will result in: SELECT * FROM my_table_* WHERE _TABLE_SUFFIX = '19101201'"
   ]
  },
  {
   "cell_type": "markdown",
   "metadata": {},
   "source": [
    "### Date Offsets\n",
    "There are many instance where you want to query a range, with `BqT` that as simple as:"
   ]
  },
  {
   "cell_type": "code",
   "execution_count": null,
   "metadata": {},
   "outputs": [],
   "source": [
    "query = \"SELECT * FROM my_table WHERE date BETWEEN '{my_birthday[-2Y]}' AND '{my_birthday[+2M+2W]}'\"\n",
    "bqt.query(query)  # this will result in: SELECT * FROM my_table WHERE date BETWEEN '1908-12-01' AND '1911-02-15'"
   ]
  },
  {
   "cell_type": "markdown",
   "metadata": {},
   "source": [
    "For this to work, just put the offset in brackers (`[`, `]`) and put any of the modifiers below:\n",
    "* `H`: hours\n",
    "* `D`: days\n",
    "* `W`: weeks\n",
    "* `M`: months\n",
    "* `Y`: years\n",
    "\n",
    "For each modifier, use the format `+/-` then `Number` then the modifier, e.g.:\n",
    "* `+2D`: plus two days\n",
    "* `-6D+10H`: minus six days and plus 2 hours"
   ]
  },
  {
   "cell_type": "markdown",
   "metadata": {},
   "source": [
    "## Advance Example\n",
    "You can as easily specify date ranges, this are specially useful to create partitioned data right from your notebook"
   ]
  },
  {
   "cell_type": "code",
   "execution_count": null,
   "metadata": {},
   "outputs": [],
   "source": [
    "for day in bqt.param_range(\"day\", \"2018-01-01\", \"2018-01-10\"):\n",
    "    bqt.create_table(\n",
    "        # automatically replaced with dates from 2018-01-01 to 2018-01-10\n",
    "        \"SELECT * FROM my_table WHERE day = '{day}'\",\n",
    "        # also works in the table name, this will create one partition per day\n",
    "        \"my_new_table_{day_YYYYMMDD}\",\n",
    "        ...,\n",
    "    )"
   ]
  },
  {
   "cell_type": "markdown",
   "metadata": {},
   "source": [
    "You can also nest them!"
   ]
  },
  {
   "cell_type": "code",
   "execution_count": null,
   "metadata": {},
   "outputs": [],
   "source": [
    "for day in bqt.param_range(\"day\", \"2018-01-01\", \"2018-01-10\"):\n",
    "    for country in bqt.param_range(\"country\", [\"US\", \"CA\", \"BR\"]):\n",
    "        bqt.create_table(\n",
    "            # this will run for every combination of date and country\n",
    "            \"SELECT * FROM my_table WHERE day = '{day}' AND country = '{country}'\",\n",
    "            # also works in the table name, this will create one partition per day\n",
    "            \"my_new_table_{day_YYYYMMDD}\",\n",
    "            ...,\n",
    "        )"
   ]
  },
  {
   "cell_type": "markdown",
   "metadata": {},
   "source": [
    "Want more control?"
   ]
  },
  {
   "cell_type": "code",
   "execution_count": null,
   "metadata": {},
   "outputs": [],
   "source": [
    "for day in bqt.param_range(\"day\", \"2018-01-01\", \"2018-07-01\", date_part=\"months\", step_size=2):\n",
    "    # this will run for every other month from 2018-01-01 to 2018-07-01\n",
    "    # step_size = 2 means it jumps 2 steps on each iteration\n",
    "    # date_part = 'months' means it'll jump by months rather than days\n",
    "    pass"
   ]
  }
 ],
 "metadata": {
  "kernelspec": {
   "display_name": "personal_finance",
   "language": "python",
   "name": "python3"
  },
  "language_info": {
   "codemirror_mode": {
    "name": "ipython",
    "version": 3
   },
   "file_extension": ".py",
   "mimetype": "text/x-python",
   "name": "python",
   "nbconvert_exporter": "python",
   "pygments_lexer": "ipython3",
   "version": "3.8.2"
  }
 },
 "nbformat": 4,
 "nbformat_minor": 2
}
