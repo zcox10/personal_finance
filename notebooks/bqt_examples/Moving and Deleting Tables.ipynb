{
 "cells": [
  {
   "cell_type": "markdown",
   "metadata": {},
   "source": [
    "# Moving and Deleting Tables\n",
    "This is simple to do from the UI if you only want to do it for a single table, but we want you to be able to have all your logic in one place and also make it easier to move and delete entire table partitions, so here we go:"
   ]
  },
  {
   "cell_type": "code",
   "execution_count": 1,
   "metadata": {},
   "outputs": [],
   "source": [
    "from bqt import bqt\n",
    "\n",
    "bqt.change_project('data-science-golden-path')  # note how you can change the default project to something else"
   ]
  },
  {
   "cell_type": "markdown",
   "metadata": {},
   "source": [
    "Let's:\n",
    "1. Create a bunch of tables to play around with\n",
    "2. Copy them to a new location\n",
    "3. Delete the original tables"
   ]
  },
  {
   "cell_type": "code",
   "execution_count": 2,
   "metadata": {
    "scrolled": false
   },
   "outputs": [
    {
     "name": "stdout",
     "output_type": "stream",
     "text": [
      "\u001b[93mSkipping, `data-science-golden-path.bqt_playground.my_sample_table_20180101` already exists\u001b[0m\n",
      "\u001b[93mSkipping, `data-science-golden-path.bqt_playground.my_sample_table_20180102` already exists\u001b[0m\n",
      "\u001b[93mSkipping, `data-science-golden-path.bqt_playground.my_sample_table_20180103` already exists\u001b[0m\n",
      "\u001b[93mSkipping, `data-science-golden-path.bqt_playground.my_sample_table_20180104` already exists\u001b[0m\n",
      "\u001b[93mSkipping, `data-science-golden-path.bqt_playground.my_sample_table_20180105` already exists\u001b[0m\n",
      "\u001b[93mSkipping, `data-science-golden-path.bqt_playground.my_sample_table_20180106` already exists\u001b[0m\n",
      "\u001b[93mSkipping, `data-science-golden-path.bqt_playground.my_sample_table_20180107` already exists\u001b[0m\n",
      "\u001b[93mSkipping, `data-science-golden-path.bqt_playground.my_sample_table_20180108` already exists\u001b[0m\n",
      "\u001b[93mSkipping, `data-science-golden-path.bqt_playground.my_sample_table_20180109` already exists\u001b[0m\n"
     ]
    }
   ],
   "source": [
    "for i in range(1, 10):\n",
    "    bqt.create_table_async(\n",
    "        \"SELECT %s\" % i, table=\"my_sample_table_2018010%s\" % i, dataset=\"bqt_playground\",\n",
    "        ignore_exists=True  # this makes the code not break if the table already exists\n",
    "    )\n",
    "\n",
    "bqt.wait_for_all_jobs()  # we queued 9 jobs up there, let's wait for all of them to finish"
   ]
  },
  {
   "cell_type": "markdown",
   "metadata": {},
   "source": [
    "Now let's copy them to a new place:"
   ]
  },
  {
   "cell_type": "code",
   "execution_count": 3,
   "metadata": {},
   "outputs": [
    {
     "name": "stdout",
     "output_type": "stream",
     "text": [
      "\u001b[93mSkipping `my_sample_table_20180101`, destination already exists\u001b[0m\n",
      "\u001b[93mSkipping `my_sample_table_20180102`, destination already exists\u001b[0m\n",
      "\u001b[93mSkipping `my_sample_table_20180103`, destination already exists\u001b[0m\n",
      "\u001b[93mSkipping `my_sample_table_20180104`, destination already exists\u001b[0m\n",
      "\u001b[93mSkipping `my_sample_table_20180105`, destination already exists\u001b[0m\n",
      "\u001b[93mSkipping `my_sample_table_20180106`, destination already exists\u001b[0m\n",
      "\u001b[93mSkipping `my_sample_table_20180107`, destination already exists\u001b[0m\n",
      "\u001b[93mSkipping `my_sample_table_20180108`, destination already exists\u001b[0m\n",
      "\u001b[93mSkipping `my_sample_table_20180109`, destination already exists\u001b[0m\n"
     ]
    }
   ],
   "source": [
    "bqt.copy_all_partitions(\n",
    "    src_table=\"my_sample_table_YYYYMMDD\",  # notice we specify the format, this makes BqT find all partitions\n",
    "    src_dataset=\"bqt_playground\",\n",
    "    src_project=None,  # passing None makes it default to your BqT project\n",
    "    \n",
    "    dst_table=\"my_other_sample_table_YYYYMMDD\",\n",
    "    dst_dataset=\"bqt_playground\",\n",
    "    dst_project=None  # again, making it use our default BqT project\n",
    ")\n",
    "\n",
    "bqt.wait_for_all_jobs()"
   ]
  },
  {
   "cell_type": "markdown",
   "metadata": {},
   "source": [
    "Thats it!\n",
    "\n",
    "**Note** if you want to move a subset of the partition you can use `bqt.copy_partition_range(...)` instead.\n",
    "\n",
    "And finally, let's delete the original tables:"
   ]
  },
  {
   "cell_type": "code",
   "execution_count": 4,
   "metadata": {},
   "outputs": [
    {
     "name": "stdout",
     "output_type": "stream",
     "text": [
      "Are you sure you want to delete 9 tables?[y/n]y\n",
      "Deleting my_sample_table_20180101 ...\n",
      "Deleting my_sample_table_20180102 ...\n",
      "Deleting my_sample_table_20180103 ...\n",
      "Deleting my_sample_table_20180104 ...\n",
      "Deleting my_sample_table_20180105 ...\n",
      "Deleting my_sample_table_20180106 ...\n",
      "Deleting my_sample_table_20180107 ...\n",
      "Deleting my_sample_table_20180108 ...\n",
      "Deleting my_sample_table_20180109 ...\n"
     ]
    }
   ],
   "source": [
    "bqt.delete_all_partitions(\n",
    "    table=\"my_sample_table_YYYYMMDD\",\n",
    "    dataset=\"bqt_playground\",\n",
    "    project=None\n",
    ")"
   ]
  },
  {
   "cell_type": "markdown",
   "metadata": {},
   "source": [
    "Similarly to delete a subset of the tables use `bqt.delete_partition_range(...)`"
   ]
  }
 ],
 "metadata": {
  "kernelspec": {
   "display_name": "Python 2",
   "language": "python",
   "name": "python2"
  },
  "language_info": {
   "codemirror_mode": {
    "name": "ipython",
    "version": 2
   },
   "file_extension": ".py",
   "mimetype": "text/x-python",
   "name": "python",
   "nbconvert_exporter": "python",
   "pygments_lexer": "ipython2",
   "version": "2.7.10"
  },
  "toc": {
   "nav_menu": {},
   "number_sections": true,
   "sideBar": true,
   "skip_h1_title": false,
   "toc_cell": false,
   "toc_position": {},
   "toc_section_display": "block",
   "toc_window_display": false
  }
 },
 "nbformat": 4,
 "nbformat_minor": 2
}
