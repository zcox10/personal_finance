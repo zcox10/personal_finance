{
 "cells": [
  {
   "cell_type": "code",
   "execution_count": 1,
   "id": "0abf03d3-cb0b-4641-941e-af0dcdb11be7",
   "metadata": {},
   "outputs": [
    {
     "name": "stderr",
     "output_type": "stream",
     "text": [
      "/Users/pelit/.pyenv/versions/3.9.16/envs/bqtpolars2/lib/python3.9/site-packages/fuzzywuzzy/fuzz.py:11: UserWarning: Using slow pure-python SequenceMatcher. Install python-Levenshtein to remove this warning\n",
      "  warnings.warn('Using slow pure-python SequenceMatcher. Install python-Levenshtein to remove this warning')\n"
     ]
    }
   ],
   "source": [
    "import sys\n",
    "sys.path.append(\"..\")\n",
    "import bqt\n",
    "from bqt import bqt as bqt_dev\n",
    "import time\n",
    "import pandas as pd\n",
    "import numpy as np\n",
    "from datetime import datetime, timedelta"
   ]
  },
  {
   "cell_type": "markdown",
   "id": "37c51b0d-636a-497d-b8d9-4f3544022c7e",
   "metadata": {},
   "source": [
    "### Introduction\n",
    "The purpose of this notebook is to explore different ways for retrieving data from BigQuery using Pandas and Polars libraries. \n",
    "We introduce in bqt a new attribute called `result_format` that can take one of the following values:\n",
    "\n",
    "* `pandas` (existing logic), calls `job.result()`, loops over rows to show progress bar and then loads to a `pandas.DataFrame`.\n",
    "* `pandas simple` (new): calls directly `job.to_dataframe()`, preserving the progress bar.\n",
    "* `polars` (new): calls `job.result()`, loads to pyarrow Table and then loads to a `polars.DataFrame`.\n",
    "\n",
    "We answer the following questions:\n",
    "1. How long it takes to download results from BigQuery for each `result_format` using bqt.query API call?\n",
    "2. How do different formats handle nested and unnested schemas?\n",
    "3. Check how local and remote caches can handle switches in formats.\n",
    "4. Verify new argument works for bqt magic\n",
    "5. Verify everything is working well for fast-query\n",
    "\n",
    "\n",
    "📍 Since bqt 1.0.1 `pandas-simple` has replaced `pandas` result-format."
   ]
  },
  {
   "cell_type": "markdown",
   "id": "c6169030-7a25-49fe-8376-ff8072b3df04",
   "metadata": {},
   "source": [
    "### Helpful Utils"
   ]
  },
  {
   "cell_type": "code",
   "execution_count": 20,
   "id": "c05f251a-b90e-435b-a6cc-4a69611eeb13",
   "metadata": {},
   "outputs": [
    {
     "name": "stdout",
     "output_type": "stream",
     "text": [
      "Query data for 20231123\n"
     ]
    }
   ],
   "source": [
    "def fetch_yesterday_date():\n",
    "    current_date = datetime.now()\n",
    "    yesterday_date = current_date - timedelta(days=1)\n",
    "    return yesterday_date.strftime(\"%Y%m%d\")\n",
    "\n",
    "PARTITION = fetch_yesterday_date()\n",
    "print(f\"Query data for {PARTITION}\")"
   ]
  },
  {
   "cell_type": "code",
   "execution_count": 22,
   "id": "d8f17147-486a-4851-b28f-0d30f2f3011b",
   "metadata": {},
   "outputs": [],
   "source": [
    "query_base = \"\"\"\n",
    "select \n",
    "stream_id,\n",
    "user_id,\n",
    "stream_source,\n",
    "application.*,\n",
    "content.*,\n",
    "device.*,\n",
    "feature_specifics.*,\n",
    "play_context.*,\n",
    "playback.*,\n",
    "timestamps.*,\n",
    "user_behavior.*,\n",
    "user_info.*,\n",
    "is_financial_stream\n",
    "from `stream-pipelines.stream_days_v1.stream_days_v1_{partition}`\n",
    "limit {n_rows}\n",
    "\"\"\""
   ]
  },
  {
   "cell_type": "code",
   "execution_count": 39,
   "id": "65d6c5f1-f6b3-40c5-9e95-960163f46d09",
   "metadata": {},
   "outputs": [],
   "source": [
    "query_base_nested = \"\"\"\n",
    "select *\n",
    "from `stream-pipelines.stream_days_v1.stream_days_v1_{partition}`\n",
    "limit {n_rows}\n",
    "\"\"\""
   ]
  },
  {
   "cell_type": "markdown",
   "id": "1f4d5e32-fe85-4604-889a-271e634f2e62",
   "metadata": {
    "jp-MarkdownHeadingCollapsed": true
   },
   "source": [
    "### Download with different result formats using bqt.query\n",
    "\n",
    "Here we explore for different number of rows, the duration it takes to download results using the following result extraction logics and the bqt.query API call:"
   ]
  },
  {
   "cell_type": "code",
   "execution_count": 3,
   "id": "df18ad54-6c37-43af-b2a4-ea289d877e25",
   "metadata": {},
   "outputs": [],
   "source": [
    "def get_avg_duration(query_str, method):\n",
    "    durations = []\n",
    "    for _ in range(10):\n",
    "        start_time = time.time()\n",
    "        _ = bqt_dev.query(query_str, result_format=method, cache=None)\n",
    "        durations.append(time.time() - start_time)\n",
    "    return np.mean(durations)\n",
    "\n",
    "\n",
    "def compare_methods(query_base, n_rows):\n",
    "    query_str = query_base.format(partition=PARTITION, n_rows=n_rows)\n",
    "    methods = [\"polars\", \"pandas\", \"pandas simple\"]\n",
    "    durations = dict()\n",
    "    for method in methods:\n",
    "        avg_duration = get_avg_duration(query_str, method)\n",
    "        durations[method] = avg_duration\n",
    "    durations[\"n_rows\"] = n_rows\n",
    "    return durations"
   ]
  },
  {
   "cell_type": "code",
   "execution_count": 51,
   "id": "a2a5d2df-6359-4aec-9843-5949d7eb21db",
   "metadata": {},
   "outputs": [],
   "source": [
    "%%capture\n",
    "durations_df = pd.DataFrame([\n",
    "compare_methods(query_base, 10),\n",
    "compare_methods(query_base, 1_000),\n",
    "compare_methods(query_base, 10_000),\n",
    "compare_methods(query_base, 100_000),\n",
    "])"
   ]
  },
  {
   "cell_type": "code",
   "execution_count": 52,
   "id": "791a7e64-8b79-45d9-aeca-a012ae2f9852",
   "metadata": {},
   "outputs": [
    {
     "data": {
      "image/png": "[encoded data removed]",
      "text/plain": [
       "<Figure size 640x480 with 1 Axes>"
      ]
     },
     "metadata": {},
     "output_type": "display_data"
    }
   ],
   "source": [
    "durations_df.set_index('n_rows').plot(kind='bar', ylabel=\"duration (in sec)\", xlabel=\"fetched rows\", title=\"Result format comparison\");"
   ]
  },
  {
   "cell_type": "code",
   "execution_count": 53,
   "id": "6edf7814-47a1-4ade-ab87-71a71b91b558",
   "metadata": {},
   "outputs": [
    {
     "data": {
      "text/html": [
       "<div>\n",
       "<style scoped>\n",
       "    .dataframe tbody tr th:only-of-type {\n",
       "        vertical-align: middle;\n",
       "    }\n",
       "\n",
       "    .dataframe tbody tr th {\n",
       "        vertical-align: top;\n",
       "    }\n",
       "\n",
       "    .dataframe thead th {\n",
       "        text-align: right;\n",
       "    }\n",
       "</style>\n",
       "<table border=\"1\" class=\"dataframe\">\n",
       "  <thead>\n",
       "    <tr style=\"text-align: right;\">\n",
       "      <th></th>\n",
       "      <th>polars</th>\n",
       "      <th>pandas</th>\n",
       "      <th>pandas simple</th>\n",
       "      <th>n_rows</th>\n",
       "    </tr>\n",
       "  </thead>\n",
       "  <tbody>\n",
       "    <tr>\n",
       "      <th>0</th>\n",
       "      <td>4.234369</td>\n",
       "      <td>3.250474</td>\n",
       "      <td>4.275897</td>\n",
       "      <td>10</td>\n",
       "    </tr>\n",
       "    <tr>\n",
       "      <th>1</th>\n",
       "      <td>4.250448</td>\n",
       "      <td>3.898160</td>\n",
       "      <td>4.654466</td>\n",
       "      <td>1000</td>\n",
       "    </tr>\n",
       "    <tr>\n",
       "      <th>2</th>\n",
       "      <td>4.599825</td>\n",
       "      <td>7.647649</td>\n",
       "      <td>4.654985</td>\n",
       "      <td>10000</td>\n",
       "    </tr>\n",
       "    <tr>\n",
       "      <th>3</th>\n",
       "      <td>9.464672</td>\n",
       "      <td>54.449183</td>\n",
       "      <td>10.621090</td>\n",
       "      <td>100000</td>\n",
       "    </tr>\n",
       "  </tbody>\n",
       "</table>\n",
       "</div>"
      ],
      "text/plain": [
       "     polars     pandas  pandas simple  n_rows\n",
       "0  4.234369   3.250474       4.275897      10\n",
       "1  4.250448   3.898160       4.654466    1000\n",
       "2  4.599825   7.647649       4.654985   10000\n",
       "3  9.464672  54.449183      10.621090  100000"
      ]
     },
     "execution_count": 53,
     "metadata": {},
     "output_type": "execute_result"
    }
   ],
   "source": [
    "durations_df"
   ]
  },
  {
   "cell_type": "markdown",
   "id": "a5aa0402-4567-43a9-b8c9-a991f2b4984b",
   "metadata": {},
   "source": [
    "#### New pandas result extraction with progress bar"
   ]
  },
  {
   "cell_type": "code",
   "execution_count": 54,
   "id": "68274b15-0418-4ba2-b2e7-c82e80b32c23",
   "metadata": {},
   "outputs": [
    {
     "name": "stdout",
     "output_type": "stream",
     "text": [
      "\u001B[92mQuery done! Processed: 0.0 Billed: 0.0 Cost: $0.00\u001B[0m\n",
      "Job ID 5b4b7526-9787-48e1-9c38-ce035458da9d successfully executed: 100%|\u001B[32m█████████████████████████████████████████████████████████████████████████████████████████████████████████████████████████████████████████████\u001B[0m|\u001B[0m\n",
      "Downloading: 100%|\u001B[32m███████████████████████████████████████████████████████████████████████████████████████████████████████████████████████████████████████████████████████████████████████████████████████████████████\u001B[0m|\u001B[0m\n",
      "\u001B[92mFinished downloading results\u001B[0m\n",
      "25.350441932678223\n"
     ]
    }
   ],
   "source": [
    "start_time = time.time()\n",
    "pandas_df_simple = bqt_dev.query(query_base.format(partition=PARTITION, n_rows=10), result_format=\"pandas simple\", cache=None)\n",
    "print(time.time() - start_time)"
   ]
  },
  {
   "cell_type": "markdown",
   "id": "539188f7-2a18-4f24-9481-a46ce68c4ddc",
   "metadata": {
    "jp-MarkdownHeadingCollapsed": true
   },
   "source": [
    "### Schema Exploration using bqt.query\n",
    "\n",
    "In this section, we explore how pandas and polars extract the BQ schema from the query job.\n",
    "\n",
    "**TL;DR**:\n",
    "\n",
    "* Pandas preserves nested column structure as dictionary but polars needs the `unnested` command."
   ]
  },
  {
   "cell_type": "code",
   "execution_count": 27,
   "id": "fc0f1b22-8b06-4c05-a913-b7fc226402f2",
   "metadata": {},
   "outputs": [],
   "source": [
    "query_str = query_base_nested.format(partition=PARTITION, n_rows=3)"
   ]
  },
  {
   "cell_type": "code",
   "execution_count": 28,
   "id": "0b19a3b3-d4fa-474e-b0c0-73942ec5328e",
   "metadata": {},
   "outputs": [
    {
     "name": "stdout",
     "output_type": "stream",
     "text": [
      "\u001B[92mQuery done! Processed: 365.1 M Billed: 366.0 M Cost: $0.00\u001B[0m\n",
      "Job ID 2548bdc3-4626-4646-8545-02e40af17f4f successfully executed: 100%|\u001B[32m█████████████████████████████████████████████████████████████████████████████████████████████████████████████████████████████████████████████\u001B[0m|\u001B[0m\n",
      "Downloading: 100%|\u001B[32m███████████████████████████████████████████████████████████████████████████████████████████████████████████████████████████████████████████████████████████████████████████████████████████████████\u001B[0m|\u001B[0m\n",
      "\u001B[92mFinished downloading results\u001B[0m\n"
     ]
    },
    {
     "data": {
      "text/html": [
       "<div>\n",
       "<style scoped>\n",
       "    .dataframe tbody tr th:only-of-type {\n",
       "        vertical-align: middle;\n",
       "    }\n",
       "\n",
       "    .dataframe tbody tr th {\n",
       "        vertical-align: top;\n",
       "    }\n",
       "\n",
       "    .dataframe thead th {\n",
       "        text-align: right;\n",
       "    }\n",
       "</style>\n",
       "<table border=\"1\" class=\"dataframe\">\n",
       "  <thead>\n",
       "    <tr style=\"text-align: right;\">\n",
       "      <th></th>\n",
       "      <th>stream_source</th>\n",
       "      <th>application</th>\n",
       "    </tr>\n",
       "  </thead>\n",
       "  <tbody>\n",
       "    <tr>\n",
       "      <th>0</th>\n",
       "      <td>end_song</td>\n",
       "      <td>{'client_id': 'd7df0887fb71494ea994202cb473eae...</td>\n",
       "    </tr>\n",
       "    <tr>\n",
       "      <th>1</th>\n",
       "      <td>end_song</td>\n",
       "      <td>{'client_id': 'd7df0887fb71494ea994202cb473eae...</td>\n",
       "    </tr>\n",
       "    <tr>\n",
       "      <th>2</th>\n",
       "      <td>end_song</td>\n",
       "      <td>{'client_id': 'd7df0887fb71494ea994202cb473eae...</td>\n",
       "    </tr>\n",
       "  </tbody>\n",
       "</table>\n",
       "</div>"
      ],
      "text/plain": [
       "  stream_source                                        application\n",
       "0      end_song  {'client_id': 'd7df0887fb71494ea994202cb473eae...\n",
       "1      end_song  {'client_id': 'd7df0887fb71494ea994202cb473eae...\n",
       "2      end_song  {'client_id': 'd7df0887fb71494ea994202cb473eae..."
      ]
     },
     "execution_count": 28,
     "metadata": {},
     "output_type": "execute_result"
    }
   ],
   "source": [
    "# nested structure is preserved\n",
    "df = bqt_dev.query(query_str, result_format=\"pandas\", cache=None)\n",
    "df[['stream_source', 'application']]"
   ]
  },
  {
   "cell_type": "code",
   "execution_count": 38,
   "id": "513cb48c-3657-475f-bfd7-87a94fbce33d",
   "metadata": {},
   "outputs": [
    {
     "name": "stdout",
     "output_type": "stream",
     "text": [
      "\u001B[92mQuery done! Processed: 0.0 Billed: 0.0 Cost: $0.00\u001B[0m\n",
      "Job ID 4525a24b-e646-49da-9755-d25566855b57 successfully executed: 100%|\u001B[32m█████████████████████████████████████████████████████████████████████████████████████████████████████████████████████████████████████████████\u001B[0m|\u001B[0m\n",
      "Downloading: 100%|\u001B[32m███████████████████████████████████████████████████████████████████████████████████████████████████████████████████████████████████████████████████████████████████████████████████████████████████\u001B[0m|\u001B[0m\n",
      "\u001B[92mFinished downloading results\u001B[0m\n"
     ]
    },
    {
     "data": {
      "text/html": [
       "<div>\n",
       "<style scoped>\n",
       "    .dataframe tbody tr th:only-of-type {\n",
       "        vertical-align: middle;\n",
       "    }\n",
       "\n",
       "    .dataframe tbody tr th {\n",
       "        vertical-align: top;\n",
       "    }\n",
       "\n",
       "    .dataframe thead th {\n",
       "        text-align: right;\n",
       "    }\n",
       "</style>\n",
       "<table border=\"1\" class=\"dataframe\">\n",
       "  <thead>\n",
       "    <tr style=\"text-align: right;\">\n",
       "      <th></th>\n",
       "      <th>stream_source</th>\n",
       "      <th>application</th>\n",
       "    </tr>\n",
       "  </thead>\n",
       "  <tbody>\n",
       "    <tr>\n",
       "      <th>0</th>\n",
       "      <td>end_song</td>\n",
       "      <td>{'client_id': '2ee41864a08c418cbe81203d03fea0a...</td>\n",
       "    </tr>\n",
       "    <tr>\n",
       "      <th>1</th>\n",
       "      <td>end_song</td>\n",
       "      <td>{'client_id': '5342ad44959046b9aa19c537108abed...</td>\n",
       "    </tr>\n",
       "    <tr>\n",
       "      <th>2</th>\n",
       "      <td>end_song</td>\n",
       "      <td>{'client_id': '5342ad44959046b9aa19c537108abed...</td>\n",
       "    </tr>\n",
       "  </tbody>\n",
       "</table>\n",
       "</div>"
      ],
      "text/plain": [
       "  stream_source                                        application\n",
       "0      end_song  {'client_id': '2ee41864a08c418cbe81203d03fea0a...\n",
       "1      end_song  {'client_id': '5342ad44959046b9aa19c537108abed...\n",
       "2      end_song  {'client_id': '5342ad44959046b9aa19c537108abed..."
      ]
     },
     "execution_count": 38,
     "metadata": {},
     "output_type": "execute_result"
    }
   ],
   "source": [
    "# nested structure is preserved\n",
    "df = bqt_dev.query(query_str, result_format=\"pandas simple\", cache=None)\n",
    "df[['stream_source', 'application']]"
   ]
  },
  {
   "cell_type": "code",
   "execution_count": 29,
   "id": "a680a732-b093-40cb-8e19-2ad5162de9cf",
   "metadata": {},
   "outputs": [
    {
     "name": "stdout",
     "output_type": "stream",
     "text": [
      "\u001B[92mQuery done! Processed: 0.0 Billed: 0.0 Cost: $0.00\u001B[0m\n",
      "\u001B[92mFinished downloading results\u001B[0m\n"
     ]
    },
    {
     "data": {
      "text/html": [
       "<div><style>\n",
       ".dataframe > thead > tr > th,\n",
       ".dataframe > tbody > tr > td {\n",
       "  text-align: right;\n",
       "  white-space: pre-wrap;\n",
       "}\n",
       "</style>\n",
       "<small>shape: (3, 2)</small><table border=\"1\" class=\"dataframe\"><thead><tr><th>stream_source</th><th>application</th></tr><tr><td>str</td><td>struct[5]</td></tr></thead><tbody><tr><td>&quot;end_song&quot;</td><td>{&quot;d7df0887fb71494ea994202cb473eae7&quot;,&quot;1.0.0&quot;,&quot;cloud_playback&quot;,null,&quot;main&quot;}</td></tr><tr><td>&quot;end_song&quot;</td><td>{&quot;d7df0887fb71494ea994202cb473eae7&quot;,&quot;1.0.0&quot;,&quot;cloud_playback&quot;,null,&quot;main&quot;}</td></tr><tr><td>&quot;end_song&quot;</td><td>{&quot;d7df0887fb71494ea994202cb473eae7&quot;,&quot;1.0.0&quot;,&quot;cloud_playback&quot;,null,&quot;main&quot;}</td></tr></tbody></table></div>"
      ],
      "text/plain": [
       "shape: (3, 2)\n",
       "┌───────────────┬───────────────────────────────────┐\n",
       "│ stream_source ┆ application                       │\n",
       "│ ---           ┆ ---                               │\n",
       "│ str           ┆ struct[5]                         │\n",
       "╞═══════════════╪═══════════════════════════════════╡\n",
       "│ end_song      ┆ {\"d7df0887fb71494ea994202cb473ea… │\n",
       "│ end_song      ┆ {\"d7df0887fb71494ea994202cb473ea… │\n",
       "│ end_song      ┆ {\"d7df0887fb71494ea994202cb473ea… │\n",
       "└───────────────┴───────────────────────────────────┘"
      ]
     },
     "execution_count": 29,
     "metadata": {},
     "output_type": "execute_result"
    }
   ],
   "source": [
    "# nested structure is lost for `struct` columns\n",
    "df = bqt_dev.query(query_str, result_format=\"polars\", cache=None)\n",
    "df[['stream_source', 'application']]"
   ]
  },
  {
   "cell_type": "code",
   "execution_count": 30,
   "id": "62b269cd-c56b-480d-8ee2-f3e92cdc4530",
   "metadata": {},
   "outputs": [
    {
     "data": {
      "text/html": [
       "<div><style>\n",
       ".dataframe > thead > tr > th,\n",
       ".dataframe > tbody > tr > td {\n",
       "  text-align: right;\n",
       "  white-space: pre-wrap;\n",
       "}\n",
       "</style>\n",
       "<small>shape: (3, 17)</small><table border=\"1\" class=\"dataframe\"><thead><tr><th>stream_id</th><th>user_id</th><th>stream_source</th><th>client_id</th><th>version</th><th>build_product</th><th>build_sub_product</th><th>experience</th><th>content</th><th>device</th><th>feature_specifics</th><th>play_context</th><th>playback</th><th>timestamps</th><th>user_behavior</th><th>user_info</th><th>is_financial_stream</th></tr><tr><td>str</td><td>str</td><td>str</td><td>str</td><td>str</td><td>str</td><td>str</td><td>str</td><td>struct[5]</td><td>struct[6]</td><td>struct[1]</td><td>struct[13]</td><td>struct[13]</td><td>struct[7]</td><td>struct[13]</td><td>struct[2]</td><td>bool</td></tr></thead><tbody><tr><td>&quot;70aa86b1987ca4…</td><td>&quot;0000c2e26d8a41…</td><td>&quot;end_song&quot;</td><td>&quot;d7df0887fb7149…</td><td>&quot;1.0.0&quot;</td><td>&quot;cloud_playback…</td><td>null</td><td>&quot;main&quot;</td><td>{&quot;music&quot;,&quot;audio&quot;,null,&quot;spotify:track:4mYSL3RDHto3rcl7I57ndv&quot;,false}</td><td>{&quot;google&quot;,&quot;chromecast&quot;,&quot;cast&quot;,null,&quot;tv&quot;,&quot;Mozilla/5.0 (X11; Linux armv7l) AppleWebKit/537.36 (KHTML, like Gecko) Chrome/90.0.4430.225 Safari/537.36 CrKey/1.56.500000 DeviceType/Chromecast&quot;}</td><td>{null}</td><td>{&quot;spotify:collection&quot;,null,null,null,false,false,null,null,&quot;context&quot;,null,&quot;user_collection&quot;,&quot;track&quot;,&quot;unknown&quot;}</td><td>{&quot;Unknown&quot;,194160,194160,null,null,&quot;79936abfdaabf610361ef03483828568&quot;,null,false,&quot;none&quot;,null,null,null,null}</td><td>{1700756992017,true,&quot;Europe/Brussels&quot;,null,null,1700756992017,&quot;evening&quot;}</td><td>{&quot;home&quot;,null,null,false,false,false,false,null,&quot;trackdone&quot;,&quot;trackdone&quot;,&quot;unknown&quot;,&quot;unknown&quot;,null}</td><td>{&quot;BE&quot;,true}</td><td>true</td></tr><tr><td>&quot;9364e7b983eb1c…</td><td>&quot;0000c2e26d8a41…</td><td>&quot;end_song&quot;</td><td>&quot;d7df0887fb7149…</td><td>&quot;1.0.0&quot;</td><td>&quot;cloud_playback…</td><td>null</td><td>&quot;main&quot;</td><td>{&quot;music&quot;,&quot;audio&quot;,null,&quot;spotify:track:2rpbU67Z8u8D21wdP9ObRU&quot;,false}</td><td>{&quot;google&quot;,&quot;chromecast&quot;,&quot;cast&quot;,null,&quot;tv&quot;,&quot;Mozilla/5.0 (X11; Linux armv7l) AppleWebKit/537.36 (KHTML, like Gecko) Chrome/90.0.4430.225 Safari/537.36 CrKey/1.56.500000 DeviceType/Chromecast&quot;}</td><td>{null}</td><td>{&quot;spotify:collection&quot;,null,null,null,false,false,null,null,&quot;context&quot;,null,&quot;user_collection&quot;,&quot;track&quot;,&quot;unknown&quot;}</td><td>{&quot;Unknown&quot;,143534,143534,null,null,&quot;fdec49c0a4d6807a6d8e5398f96ac8f7&quot;,null,false,&quot;none&quot;,null,null,null,null}</td><td>{1700756023859,true,&quot;Europe/Brussels&quot;,null,null,1700756023859,&quot;evening&quot;}</td><td>{&quot;home&quot;,null,null,false,false,false,false,null,&quot;trackdone&quot;,&quot;trackdone&quot;,&quot;unknown&quot;,&quot;unknown&quot;,null}</td><td>{&quot;BE&quot;,true}</td><td>true</td></tr><tr><td>&quot;f3947aadca66bc…</td><td>&quot;0000c2e26d8a41…</td><td>&quot;end_song&quot;</td><td>&quot;d7df0887fb7149…</td><td>&quot;1.0.0&quot;</td><td>&quot;cloud_playback…</td><td>null</td><td>&quot;main&quot;</td><td>{&quot;music&quot;,&quot;audio&quot;,null,&quot;spotify:track:6wLc04jYNATdY8XoVys7d4&quot;,false}</td><td>{&quot;google&quot;,&quot;chromecast&quot;,&quot;cast&quot;,null,&quot;tv&quot;,&quot;Mozilla/5.0 (X11; Linux armv7l) AppleWebKit/537.36 (KHTML, like Gecko) Chrome/90.0.4430.225 Safari/537.36 CrKey/1.56.500000 DeviceType/Chromecast&quot;}</td><td>{null}</td><td>{&quot;spotify:collection&quot;,null,null,null,false,false,null,null,&quot;queue&quot;,null,&quot;play_queue&quot;,null,&quot;unknown&quot;}</td><td>{&quot;Unknown&quot;,151349,151349,null,null,&quot;7b4aae9414d9246717cb57c3826daa18&quot;,null,false,&quot;none&quot;,null,null,null,null}</td><td>{1700755596413,true,&quot;Europe/Brussels&quot;,null,null,1700755596413,&quot;evening&quot;}</td><td>{&quot;home&quot;,null,null,false,false,false,false,null,&quot;trackdone&quot;,&quot;trackdone&quot;,&quot;unknown&quot;,&quot;unknown&quot;,null}</td><td>{&quot;BE&quot;,true}</td><td>true</td></tr></tbody></table></div>"
      ],
      "text/plain": [
       "shape: (3, 17)\n",
       "┌───────────┬───────────┬───────────┬───────────┬───┬───────────┬───────────┬───────────┬──────────┐\n",
       "│ stream_id ┆ user_id   ┆ stream_so ┆ client_id ┆ … ┆ timestamp ┆ user_beha ┆ user_info ┆ is_finan │\n",
       "│ ---       ┆ ---       ┆ urce      ┆ ---       ┆   ┆ s         ┆ vior      ┆ ---       ┆ cial_str │\n",
       "│ str       ┆ str       ┆ ---       ┆ str       ┆   ┆ ---       ┆ ---       ┆ struct[2] ┆ eam      │\n",
       "│           ┆           ┆ str       ┆           ┆   ┆ struct[7] ┆ struct[13 ┆           ┆ ---      │\n",
       "│           ┆           ┆           ┆           ┆   ┆           ┆ ]         ┆           ┆ bool     │\n",
       "╞═══════════╪═══════════╪═══════════╪═══════════╪═══╪═══════════╪═══════════╪═══════════╪══════════╡\n",
       "│ 70aa86b19 ┆ 0000c2e26 ┆ end_song  ┆ d7df0887f ┆ … ┆ {17007569 ┆ {\"home\",n ┆ {\"BE\",tru ┆ true     │\n",
       "│ 87ca4ebbd ┆ d8a4107b1 ┆           ┆ b71494ea9 ┆   ┆ 92017,tru ┆ ull,null, ┆ e}        ┆          │\n",
       "│ bf007c71c ┆ 6645a9ab6 ┆           ┆ 94202cb47 ┆   ┆ e,\"Europe ┆ false,fal ┆           ┆          │\n",
       "│ 3f0e6     ┆ 4b26c     ┆           ┆ 3eae7     ┆   ┆ /Brus…    ┆ se,fa…    ┆           ┆          │\n",
       "│ 9364e7b98 ┆ 0000c2e26 ┆ end_song  ┆ d7df0887f ┆ … ┆ {17007560 ┆ {\"home\",n ┆ {\"BE\",tru ┆ true     │\n",
       "│ 3eb1cc967 ┆ d8a4107b1 ┆           ┆ b71494ea9 ┆   ┆ 23859,tru ┆ ull,null, ┆ e}        ┆          │\n",
       "│ 122467d40 ┆ 6645a9ab6 ┆           ┆ 94202cb47 ┆   ┆ e,\"Europe ┆ false,fal ┆           ┆          │\n",
       "│ 907bd     ┆ 4b26c     ┆           ┆ 3eae7     ┆   ┆ /Brus…    ┆ se,fa…    ┆           ┆          │\n",
       "│ f3947aadc ┆ 0000c2e26 ┆ end_song  ┆ d7df0887f ┆ … ┆ {17007555 ┆ {\"home\",n ┆ {\"BE\",tru ┆ true     │\n",
       "│ a66bca467 ┆ d8a4107b1 ┆           ┆ b71494ea9 ┆   ┆ 96413,tru ┆ ull,null, ┆ e}        ┆          │\n",
       "│ 3c2082b7d ┆ 6645a9ab6 ┆           ┆ 94202cb47 ┆   ┆ e,\"Europe ┆ false,fal ┆           ┆          │\n",
       "│ e43c7     ┆ 4b26c     ┆           ┆ 3eae7     ┆   ┆ /Brus…    ┆ se,fa…    ┆           ┆          │\n",
       "└───────────┴───────────┴───────────┴───────────┴───┴───────────┴───────────┴───────────┴──────────┘"
      ]
     },
     "execution_count": 30,
     "metadata": {},
     "output_type": "execute_result"
    }
   ],
   "source": [
    "# expand nested columns\n",
    "df.unnest(\"application\")"
   ]
  },
  {
   "cell_type": "markdown",
   "id": "162d8cce-d993-4c82-90da-b35db1bcff55",
   "metadata": {
    "jp-MarkdownHeadingCollapsed": true
   },
   "source": [
    "### Cache Exploration\n",
    "\n",
    "In this section, we explore how cache works for different result formats. \n",
    "\n",
    "**TL;DR**: \n",
    "* local cache is bound to one `result format` at a time: a cached polars query will need to run a new query in BQ if needed in pandas.\n",
    "* remote cache is format agnostic: a BQ-cached polars query, can also be fetched as pandas without re-running the query."
   ]
  },
  {
   "cell_type": "markdown",
   "id": "9bf6338a-805d-461b-b487-76490567abc3",
   "metadata": {
    "jp-MarkdownHeadingCollapsed": true
   },
   "source": [
    "#### Check Local Cache"
   ]
  },
  {
   "cell_type": "code",
   "execution_count": null,
   "id": "37a8a9be-f2c0-4b4a-b60b-408ada50a38b",
   "metadata": {},
   "outputs": [],
   "source": [
    "query_local_cache = query_base.format(partition=PARTITION, n_rows=8)"
   ]
  },
  {
   "cell_type": "code",
   "execution_count": 31,
   "id": "e77eda59-b8b4-4b70-8a72-4f6722e75a54",
   "metadata": {},
   "outputs": [
    {
     "name": "stdout",
     "output_type": "stream",
     "text": [
      "\u001B[92mQuery done! Processed: 300.1 M Billed: 300.9 M Cost: $0.00\u001B[0m\n",
      "\u001B[92mFinished downloading results\u001B[0m\n"
     ]
    },
    {
     "data": {
      "text/plain": [
       "polars.dataframe.frame.DataFrame"
      ]
     },
     "execution_count": 31,
     "metadata": {},
     "output_type": "execute_result"
    }
   ],
   "source": [
    "# cache gets created\n",
    "\n",
    "df = bqt_dev.query(query_local_cache, result_format=\"polars\", cache=\"local\")\n",
    "type(df)"
   ]
  },
  {
   "cell_type": "code",
   "execution_count": 32,
   "id": "eb02cfb7-8859-47b2-8fdf-1006abf76033",
   "metadata": {},
   "outputs": [
    {
     "name": "stdout",
     "output_type": "stream",
     "text": [
      "Found cached data that is 29 second(s) old, using it.\n"
     ]
    },
    {
     "data": {
      "text/plain": [
       "polars.dataframe.frame.DataFrame"
      ]
     },
     "execution_count": 32,
     "metadata": {},
     "output_type": "execute_result"
    }
   ],
   "source": [
    "# cache works\n",
    "\n",
    "df = bqt_dev.query(query_local_cache, result_format=\"polars\", cache=\"local\")\n",
    "type(df)"
   ]
  },
  {
   "cell_type": "code",
   "execution_count": 33,
   "id": "49247a95-b1f8-4568-b31c-c100325ea3ec",
   "metadata": {},
   "outputs": [
    {
     "name": "stdout",
     "output_type": "stream",
     "text": [
      "\u001B[92mQuery done! Processed: 0.0 Billed: 0.0 Cost: $0.00\u001B[0m\n",
      "\u001B[92mFinished downloading results\u001B[0m\n"
     ]
    },
    {
     "data": {
      "text/plain": [
       "pandas.core.frame.DataFrame"
      ]
     },
     "execution_count": 33,
     "metadata": {},
     "output_type": "execute_result"
    }
   ],
   "source": [
    "# !!! cache will NOT work: local data is in polars, pandas will make a new BQ query\n",
    "\n",
    "df = bqt_dev.query(query_local_cache, result_format=\"pandas\", cache=\"local\")\n",
    "type(df)"
   ]
  },
  {
   "cell_type": "markdown",
   "id": "a8ce8965-9a78-4062-ae76-0b60b1775c15",
   "metadata": {
    "jp-MarkdownHeadingCollapsed": true
   },
   "source": [
    "#### Check Remote Cache"
   ]
  },
  {
   "cell_type": "code",
   "execution_count": null,
   "id": "47fe1920-f9ce-41ba-9281-2d8a25d4b6df",
   "metadata": {},
   "outputs": [],
   "source": [
    "query_remote_cache = query_base.format(partition=PARTITION, n_rows=10)"
   ]
  },
  {
   "cell_type": "code",
   "execution_count": 27,
   "id": "5daeb7e4-8373-49e7-8dc7-4459b19a6437",
   "metadata": {},
   "outputs": [
    {
     "name": "stdout",
     "output_type": "stream",
     "text": [
      "\u001B[94mRunning job playx-insights:6df0c8c0-d015-4129-b31a-750d99697c56\u001B[0m\n",
      "\u001B[92mQuery done! Processed: 304.2 M Billed: 305.1 M Cost: $0.00\u001B[0m\n",
      "\u001B[92mFinished downloading results\u001B[0m\n"
     ]
    },
    {
     "data": {
      "text/plain": [
       "polars.dataframe.frame.DataFrame"
      ]
     },
     "execution_count": 27,
     "metadata": {},
     "output_type": "execute_result"
    }
   ],
   "source": [
    "bqt_dev.change_project(\"playx-insights\")\n",
    "bqt_dev.set_config({\n",
    "    \"cache.bq.project\": \"playx-insights\",\n",
    "    \"cache.bq.dataset\": \"adhoc\",\n",
    "    \"cache.bq.table_prefix\": \"test_bqt_1_\",\n",
    "})\n",
    "df = bqt_dev.query(query_remote_cache, result_format=\"polars\", cache=\"bq\")\n",
    "type(df)"
   ]
  },
  {
   "cell_type": "code",
   "execution_count": 29,
   "id": "e1f881db-3a51-454f-b9a6-b7b1ecd4c8d0",
   "metadata": {},
   "outputs": [
    {
     "name": "stdout",
     "output_type": "stream",
     "text": [
      "Found cached data that is 51 second(s) old, using it.\n",
      "\u001B[92mQuery done! Processed: 0.0 Billed: 0.0 Cost: $0.00\u001B[0m\n",
      "\u001B[92mFinished downloading results\u001B[0m\n"
     ]
    },
    {
     "data": {
      "text/plain": [
       "polars.dataframe.frame.DataFrame"
      ]
     },
     "execution_count": 29,
     "metadata": {},
     "output_type": "execute_result"
    }
   ],
   "source": [
    "# rerun to fetch remote cache\n",
    "df = bqt_dev.query(query_remote_cache, result_format=\"polars\", cache=\"bq\")\n",
    "type(df)"
   ]
  },
  {
   "cell_type": "code",
   "execution_count": 30,
   "id": "d1322951-ceaa-4492-97e7-736bdbb3bfc5",
   "metadata": {},
   "outputs": [
    {
     "name": "stdout",
     "output_type": "stream",
     "text": [
      "Found cached data that is 1 minute(s) 22 second(s) old, using it.\n",
      "\u001B[92mQuery done! Processed: 0.0 Billed: 0.0 Cost: $0.00\u001B[0m\n",
      "\u001B[92mFinished downloading results\u001B[0m\n"
     ]
    },
    {
     "data": {
      "text/plain": [
       "pandas.core.frame.DataFrame"
      ]
     },
     "execution_count": 30,
     "metadata": {},
     "output_type": "execute_result"
    }
   ],
   "source": [
    "# data still cached in bQ but now we can fetch them using pandas\n",
    "df = bqt_dev.query(query_remote_cache, result_format=\"pandas\", cache=\"bq\")\n",
    "type(df)"
   ]
  },
  {
   "cell_type": "markdown",
   "id": "4c9c0e5d-02a3-4c5c-aef2-4da1d36e855e",
   "metadata": {},
   "source": [
    "### Enhance bqt magic\n",
    "\n",
    "BQT cell magic is now be extended to contain all arguments available in `bqt.query` command. Below we see an example with the newly-introduced `results_format` argument."
   ]
  },
  {
   "cell_type": "code",
   "execution_count": 32,
   "id": "f97ba313-1d44-4e42-a42d-e4851ca9d970",
   "metadata": {},
   "outputs": [],
   "source": [
    "%load_ext bqt.bqt_extension"
   ]
  },
  {
   "cell_type": "code",
   "execution_count": 36,
   "id": "8c97ccc4-f5ed-4ae5-b507-40c4cc47cef2",
   "metadata": {},
   "outputs": [
    {
     "name": "stdout",
     "output_type": "stream",
     "text": [
      "LATEST: using `stream-pipelines.stream_days_v1.stream_days_v1_20231123`\n",
      "\u001B[92mQuery done! Processed: 334.9 M Billed: 335.5 M Cost: $0.00\u001B[0m\n",
      "\u001B[92mFinished downloading results\u001B[0m\n"
     ]
    },
    {
     "data": {
      "text/html": [
       "<div><style>\n",
       ".dataframe > thead > tr > th,\n",
       ".dataframe > tbody > tr > td {\n",
       "  text-align: right;\n",
       "  white-space: pre-wrap;\n",
       "}\n",
       "</style>\n",
       "<small>shape: (3, 69)</small><table border=\"1\" class=\"dataframe\"><thead><tr><th>stream_id</th><th>user_id</th><th>stream_source</th><th>client_id</th><th>version</th><th>build_product</th><th>build_sub_product</th><th>experience</th><th>content_type</th><th>media_type</th><th>display_uri</th><th>uri</th><th>is_preview</th><th>brand</th><th>model</th><th>os</th><th>os_version</th><th>device_type</th><th>user_agent</th><th>custom_reporting_attribution</th><th>anonymized_play_context_uri</th><th>content_id</th><th>content_name</th><th>is_algotorial</th><th>is_enhanced</th><th>is_programmed</th><th>playlist_owner_id</th><th>playlist_owner_type</th><th>provider_top_type</th><th>provider_sub_type</th><th>top_type</th><th>sub_type</th><th>uri_type</th><th>audio_format</th><th>ms_nominal_played</th><th>ms_played</th><th>ms_played_background</th><th>parent_playback_id</th><th>playback_id</th><th>ms_played_overlapped</th><th>is_downloaded</th><th>streaming_rule</th><th>ms_narration_overlapping</th><th>experience_type</th><th>ms_trimmed</th><th>ms_nominal_trimmed</th><th>default_timestamp</th><th>derived_from_receive_timestamp</th><th>location_timezone</th><th>playback_end_timestamp_estimate</th><th>playback_start_timestamp_estimate</th><th>receive_timestamp</th><th>daypart</th><th>referrer_root</th><th>interaction_id</th><th>is_connect</th><th>is_incognito</th><th>is_offline</th><th>is_shuffle</th><th>is_skipped</th><th>page_instance_id</th><th>reason_end</th><th>reason_start</th><th>source_end</th><th>source_start</th><th>decision_id</th><th>connection_country</th><th>is_premium</th><th>is_financial_stream</th></tr><tr><td>str</td><td>str</td><td>str</td><td>str</td><td>str</td><td>str</td><td>str</td><td>str</td><td>str</td><td>str</td><td>str</td><td>str</td><td>bool</td><td>str</td><td>str</td><td>str</td><td>str</td><td>str</td><td>str</td><td>str</td><td>str</td><td>str</td><td>str</td><td>bool</td><td>bool</td><td>bool</td><td>str</td><td>str</td><td>str</td><td>str</td><td>str</td><td>str</td><td>str</td><td>str</td><td>i64</td><td>i64</td><td>i64</td><td>str</td><td>str</td><td>i64</td><td>bool</td><td>str</td><td>i64</td><td>str</td><td>i64</td><td>i64</td><td>i64</td><td>bool</td><td>str</td><td>i64</td><td>i64</td><td>i64</td><td>str</td><td>str</td><td>str</td><td>bool</td><td>bool</td><td>bool</td><td>bool</td><td>bool</td><td>str</td><td>str</td><td>str</td><td>str</td><td>str</td><td>str</td><td>str</td><td>bool</td><td>bool</td></tr></thead><tbody><tr><td>&quot;7caa0266955ef0…</td><td>&quot;0016969a296f4e…</td><td>&quot;end_song&quot;</td><td>&quot;34ff3710281c4c…</td><td>&quot;3.201.448&quot;</td><td>&quot;esdk&quot;</td><td>&quot;esdk_v3&quot;</td><td>&quot;main&quot;</td><td>&quot;music&quot;</td><td>&quot;audio&quot;</td><td>null</td><td>&quot;spotify:track:…</td><td>false</td><td>null</td><td>null</td><td>&quot;unknown&quot;</td><td>null</td><td>&quot;unknown&quot;</td><td>&quot;63504832&quot;</td><td>null</td><td>&quot;spotify:playli…</td><td>&quot;5ZuhQEVnXYVXyZ…</td><td>null</td><td>false</td><td>false</td><td>false</td><td>&quot;6895a7bc698141…</td><td>&quot;other_user&quot;</td><td>&quot;context&quot;</td><td>null</td><td>&quot;user_playlist&quot;</td><td>null</td><td>&quot;playlist&quot;</td><td>&quot;Unknown&quot;</td><td>208266</td><td>208266</td><td>null</td><td>null</td><td>&quot;82a07ef4a51410…</td><td>null</td><td>false</td><td>&quot;none&quot;</td><td>null</td><td>null</td><td>null</td><td>null</td><td>1700780890675</td><td>true</td><td>&quot;Europe/Berlin&quot;</td><td>null</td><td>null</td><td>1700780890675</td><td>&quot;late_evening&quot;</td><td>null</td><td>null</td><td>null</td><td>false</td><td>false</td><td>true</td><td>false</td><td>null</td><td>&quot;trackdone&quot;</td><td>&quot;trackdone&quot;</td><td>null</td><td>null</td><td>null</td><td>&quot;DE&quot;</td><td>true</td><td>true</td></tr><tr><td>&quot;b3aad06c454da7…</td><td>&quot;0016969a296f4e…</td><td>&quot;end_song&quot;</td><td>&quot;34ff3710281c4c…</td><td>&quot;3.201.448&quot;</td><td>&quot;esdk&quot;</td><td>&quot;esdk_v3&quot;</td><td>&quot;main&quot;</td><td>&quot;music&quot;</td><td>&quot;audio&quot;</td><td>null</td><td>&quot;spotify:track:…</td><td>false</td><td>null</td><td>null</td><td>&quot;unknown&quot;</td><td>null</td><td>&quot;unknown&quot;</td><td>&quot;63504832&quot;</td><td>null</td><td>&quot;spotify:playli…</td><td>&quot;5ZuhQEVnXYVXyZ…</td><td>null</td><td>false</td><td>false</td><td>false</td><td>&quot;6895a7bc698141…</td><td>&quot;other_user&quot;</td><td>&quot;context&quot;</td><td>null</td><td>&quot;user_playlist&quot;</td><td>null</td><td>&quot;playlist&quot;</td><td>&quot;Unknown&quot;</td><td>398744</td><td>398744</td><td>null</td><td>null</td><td>&quot;8d5120cf9f7ed2…</td><td>null</td><td>false</td><td>&quot;none&quot;</td><td>null</td><td>null</td><td>null</td><td>null</td><td>1700778691939</td><td>true</td><td>&quot;Europe/Berlin&quot;</td><td>null</td><td>null</td><td>1700778691939</td><td>&quot;late_evening&quot;</td><td>null</td><td>null</td><td>null</td><td>false</td><td>false</td><td>true</td><td>false</td><td>null</td><td>&quot;trackdone&quot;</td><td>&quot;trackdone&quot;</td><td>null</td><td>null</td><td>null</td><td>&quot;DE&quot;</td><td>true</td><td>true</td></tr><tr><td>&quot;cc8d28a0a05cd2…</td><td>&quot;0016969a296f4e…</td><td>&quot;end_song&quot;</td><td>&quot;34ff3710281c4c…</td><td>&quot;3.201.448&quot;</td><td>&quot;esdk&quot;</td><td>&quot;esdk_v3&quot;</td><td>&quot;main&quot;</td><td>&quot;music&quot;</td><td>&quot;audio&quot;</td><td>null</td><td>&quot;spotify:track:…</td><td>false</td><td>null</td><td>null</td><td>&quot;unknown&quot;</td><td>null</td><td>&quot;unknown&quot;</td><td>&quot;63504832&quot;</td><td>null</td><td>&quot;spotify:playli…</td><td>&quot;5ZuhQEVnXYVXyZ…</td><td>null</td><td>false</td><td>false</td><td>false</td><td>&quot;6895a7bc698141…</td><td>&quot;other_user&quot;</td><td>&quot;context&quot;</td><td>null</td><td>&quot;user_playlist&quot;</td><td>null</td><td>&quot;playlist&quot;</td><td>&quot;Unknown&quot;</td><td>170341</td><td>170341</td><td>null</td><td>null</td><td>&quot;1d105a7c04fe36…</td><td>null</td><td>false</td><td>&quot;none&quot;</td><td>null</td><td>null</td><td>null</td><td>null</td><td>1700782477996</td><td>true</td><td>&quot;Europe/Berlin&quot;</td><td>null</td><td>null</td><td>1700782477996</td><td>&quot;late_evening&quot;</td><td>null</td><td>null</td><td>null</td><td>false</td><td>false</td><td>true</td><td>false</td><td>null</td><td>&quot;trackdone&quot;</td><td>&quot;trackdone&quot;</td><td>null</td><td>null</td><td>null</td><td>&quot;DE&quot;</td><td>true</td><td>true</td></tr></tbody></table></div>"
      ],
      "text/plain": [
       "shape: (3, 69)\n",
       "┌───────────┬───────────┬───────────┬───────────┬───┬───────────┬───────────┬───────────┬──────────┐\n",
       "│ stream_id ┆ user_id   ┆ stream_so ┆ client_id ┆ … ┆ decision_ ┆ connectio ┆ is_premiu ┆ is_finan │\n",
       "│ ---       ┆ ---       ┆ urce      ┆ ---       ┆   ┆ id        ┆ n_country ┆ m         ┆ cial_str │\n",
       "│ str       ┆ str       ┆ ---       ┆ str       ┆   ┆ ---       ┆ ---       ┆ ---       ┆ eam      │\n",
       "│           ┆           ┆ str       ┆           ┆   ┆ str       ┆ str       ┆ bool      ┆ ---      │\n",
       "│           ┆           ┆           ┆           ┆   ┆           ┆           ┆           ┆ bool     │\n",
       "╞═══════════╪═══════════╪═══════════╪═══════════╪═══╪═══════════╪═══════════╪═══════════╪══════════╡\n",
       "│ 7caa02669 ┆ 0016969a2 ┆ end_song  ┆ 34ff37102 ┆ … ┆ null      ┆ DE        ┆ true      ┆ true     │\n",
       "│ 55ef0aede ┆ 96f4eaf94 ┆           ┆ 81c4c7091 ┆   ┆           ┆           ┆           ┆          │\n",
       "│ a5c478a5e ┆ 3201d569f ┆           ┆ 9b50908b2 ┆   ┆           ┆           ┆           ┆          │\n",
       "│ 04594     ┆ 87f25     ┆           ┆ d169f     ┆   ┆           ┆           ┆           ┆          │\n",
       "│ b3aad06c4 ┆ 0016969a2 ┆ end_song  ┆ 34ff37102 ┆ … ┆ null      ┆ DE        ┆ true      ┆ true     │\n",
       "│ 54da77dea ┆ 96f4eaf94 ┆           ┆ 81c4c7091 ┆   ┆           ┆           ┆           ┆          │\n",
       "│ 8cecf4a56 ┆ 3201d569f ┆           ┆ 9b50908b2 ┆   ┆           ┆           ┆           ┆          │\n",
       "│ 0a4c0     ┆ 87f25     ┆           ┆ d169f     ┆   ┆           ┆           ┆           ┆          │\n",
       "│ cc8d28a0a ┆ 0016969a2 ┆ end_song  ┆ 34ff37102 ┆ … ┆ null      ┆ DE        ┆ true      ┆ true     │\n",
       "│ 05cd2de20 ┆ 96f4eaf94 ┆           ┆ 81c4c7091 ┆   ┆           ┆           ┆           ┆          │\n",
       "│ fdfbf26ed ┆ 3201d569f ┆           ┆ 9b50908b2 ┆   ┆           ┆           ┆           ┆          │\n",
       "│ a87c6     ┆ 87f25     ┆           ┆ d169f     ┆   ┆           ┆           ┆           ┆          │\n",
       "└───────────┴───────────┴───────────┴───────────┴───┴───────────┴───────────┴───────────┴──────────┘"
      ]
     },
     "execution_count": 36,
     "metadata": {},
     "output_type": "execute_result"
    }
   ],
   "source": [
    "%%bqt --result_format polars\n",
    "\n",
    "select \n",
    "stream_id,\n",
    "user_id,\n",
    "stream_source,\n",
    "application.*,\n",
    "content.*,\n",
    "device.*,\n",
    "feature_specifics.*,\n",
    "play_context.*,\n",
    "playback.*,\n",
    "timestamps.*,\n",
    "user_behavior.*,\n",
    "user_info.*,\n",
    "is_financial_stream\n",
    "from `stream-pipelines.stream_days_v1.stream_days_v1_{LATEST}`\n",
    "limit 3"
   ]
  },
  {
   "cell_type": "code",
   "execution_count": 37,
   "id": "d9d8a7ef-57c9-42ff-b6e9-c2855565e444",
   "metadata": {},
   "outputs": [
    {
     "data": {
      "text/plain": [
       "polars.dataframe.frame.DataFrame"
      ]
     },
     "execution_count": 37,
     "metadata": {},
     "output_type": "execute_result"
    }
   ],
   "source": [
    "type(temp)"
   ]
  },
  {
   "cell_type": "markdown",
   "id": "d9848599-a4e8-481b-a225-dcf2f45f587d",
   "metadata": {
    "jp-MarkdownHeadingCollapsed": true
   },
   "source": [
    "### Fast Query"
   ]
  },
  {
   "cell_type": "code",
   "execution_count": 43,
   "id": "9002870b-7945-4215-810d-ce8bfc7c54b9",
   "metadata": {},
   "outputs": [],
   "source": [
    "query_nested = query_base_nested.format(partition=PARTITION, n_rows=4)"
   ]
  },
  {
   "cell_type": "code",
   "execution_count": 44,
   "id": "39fed2ae-0583-4d22-87d2-9bfebdadd9cf",
   "metadata": {},
   "outputs": [
    {
     "name": "stdout",
     "output_type": "stream",
     "text": [
      "\u001B[93mAttempting dry-run before executing full query...\u001B[0m\n",
      "<IPython.core.display.HTML object>\n",
      "\u001B[93mDRY RUN: Would Process: 8847.5 G Would Cost: $40.23\u001B[0m\n",
      "\u001B[93mNested or repeated results, enabling experimental advanced_dtype_handling flag.\u001B[0m\n",
      "\u001B[94mStaging bucket: gs://fastbqt-staging-eu-playx-insights\u001B[0m\n",
      "\u001B[94mJob playx-insights:332de182-1a87-431b-9a72-f09792f8d14c submitted ...\u001B[0m\n",
      "\u001B[92mJob finished successfully!\u001B[0m\n",
      "\u001B[94mGot 4 rows (0.0)\u001B[0m\n",
      "\u001B[94mCompressing and preparing files ...\u001B[0m\n",
      "\u001B[94m1 chunks (6.9 K) will be downloaded!\u001B[0m\n",
      "\u001B[94mDownloading chunk 1/1 (6.9 K) ...\u001B[0m\n",
      "\u001B[92mTime elapsed: 0:00:03.384210\u001B[0m\n",
      "<class 'polars.dataframe.frame.DataFrame'>\n"
     ]
    },
    {
     "data": {
      "text/html": [
       "<div><style>\n",
       ".dataframe > thead > tr > th,\n",
       ".dataframe > tbody > tr > td {\n",
       "  text-align: right;\n",
       "  white-space: pre-wrap;\n",
       "}\n",
       "</style>\n",
       "<small>shape: (3, 13)</small><table border=\"1\" class=\"dataframe\"><thead><tr><th>stream_id</th><th>user_id</th><th>stream_source</th><th>application</th><th>content</th><th>device</th><th>feature_specifics</th><th>play_context</th><th>playback</th><th>timestamps</th><th>user_behavior</th><th>user_info</th><th>is_financial_stream</th></tr><tr><td>str</td><td>str</td><td>str</td><td>struct[5]</td><td>struct[5]</td><td>struct[6]</td><td>struct[1]</td><td>struct[13]</td><td>struct[13]</td><td>struct[7]</td><td>struct[13]</td><td>struct[2]</td><td>bool</td></tr></thead><tbody><tr><td>&quot;70aa86b1987ca4…</td><td>&quot;0000c2e26d8a41…</td><td>&quot;end_song&quot;</td><td>{&quot;d7df0887fb71494ea994202cb473eae7&quot;,&quot;1.0.0&quot;,&quot;cloud_playback&quot;,null,&quot;main&quot;}</td><td>{&quot;music&quot;,&quot;audio&quot;,null,&quot;spotify:track:4mYSL3RDHto3rcl7I57ndv&quot;,false}</td><td>{&quot;google&quot;,&quot;chromecast&quot;,&quot;cast&quot;,null,&quot;tv&quot;,&quot;Mozilla/5.0 (X11; Linux armv7l) AppleWebKit/537.36 (KHTML, like Gecko) Chrome/90.0.4430.225 Safari/537.36 CrKey/1.56.500000 DeviceType/Chromecast&quot;}</td><td>{null}</td><td>{&quot;spotify:collection&quot;,null,null,null,false,false,null,null,&quot;context&quot;,null,&quot;user_collection&quot;,&quot;track&quot;,&quot;unknown&quot;}</td><td>{&quot;Unknown&quot;,194160,194160,null,null,&quot;79936abfdaabf610361ef03483828568&quot;,null,false,&quot;none&quot;,null,null,null,null}</td><td>{1700756992017,true,&quot;Europe/Brussels&quot;,null,null,1700756992017,&quot;evening&quot;}</td><td>{&quot;home&quot;,null,null,false,false,false,false,null,&quot;trackdone&quot;,&quot;trackdone&quot;,&quot;unknown&quot;,&quot;unknown&quot;,null}</td><td>{&quot;BE&quot;,true}</td><td>true</td></tr><tr><td>&quot;9364e7b983eb1c…</td><td>&quot;0000c2e26d8a41…</td><td>&quot;end_song&quot;</td><td>{&quot;d7df0887fb71494ea994202cb473eae7&quot;,&quot;1.0.0&quot;,&quot;cloud_playback&quot;,null,&quot;main&quot;}</td><td>{&quot;music&quot;,&quot;audio&quot;,null,&quot;spotify:track:2rpbU67Z8u8D21wdP9ObRU&quot;,false}</td><td>{&quot;google&quot;,&quot;chromecast&quot;,&quot;cast&quot;,null,&quot;tv&quot;,&quot;Mozilla/5.0 (X11; Linux armv7l) AppleWebKit/537.36 (KHTML, like Gecko) Chrome/90.0.4430.225 Safari/537.36 CrKey/1.56.500000 DeviceType/Chromecast&quot;}</td><td>{null}</td><td>{&quot;spotify:collection&quot;,null,null,null,false,false,null,null,&quot;context&quot;,null,&quot;user_collection&quot;,&quot;track&quot;,&quot;unknown&quot;}</td><td>{&quot;Unknown&quot;,143534,143534,null,null,&quot;fdec49c0a4d6807a6d8e5398f96ac8f7&quot;,null,false,&quot;none&quot;,null,null,null,null}</td><td>{1700756023859,true,&quot;Europe/Brussels&quot;,null,null,1700756023859,&quot;evening&quot;}</td><td>{&quot;home&quot;,null,null,false,false,false,false,null,&quot;trackdone&quot;,&quot;trackdone&quot;,&quot;unknown&quot;,&quot;unknown&quot;,null}</td><td>{&quot;BE&quot;,true}</td><td>true</td></tr><tr><td>&quot;f3947aadca66bc…</td><td>&quot;0000c2e26d8a41…</td><td>&quot;end_song&quot;</td><td>{&quot;d7df0887fb71494ea994202cb473eae7&quot;,&quot;1.0.0&quot;,&quot;cloud_playback&quot;,null,&quot;main&quot;}</td><td>{&quot;music&quot;,&quot;audio&quot;,null,&quot;spotify:track:6wLc04jYNATdY8XoVys7d4&quot;,false}</td><td>{&quot;google&quot;,&quot;chromecast&quot;,&quot;cast&quot;,null,&quot;tv&quot;,&quot;Mozilla/5.0 (X11; Linux armv7l) AppleWebKit/537.36 (KHTML, like Gecko) Chrome/90.0.4430.225 Safari/537.36 CrKey/1.56.500000 DeviceType/Chromecast&quot;}</td><td>{null}</td><td>{&quot;spotify:collection&quot;,null,null,null,false,false,null,null,&quot;queue&quot;,null,&quot;play_queue&quot;,null,&quot;unknown&quot;}</td><td>{&quot;Unknown&quot;,151349,151349,null,null,&quot;7b4aae9414d9246717cb57c3826daa18&quot;,null,false,&quot;none&quot;,null,null,null,null}</td><td>{1700755596413,true,&quot;Europe/Brussels&quot;,null,null,1700755596413,&quot;evening&quot;}</td><td>{&quot;home&quot;,null,null,false,false,false,false,null,&quot;trackdone&quot;,&quot;trackdone&quot;,&quot;unknown&quot;,&quot;unknown&quot;,null}</td><td>{&quot;BE&quot;,true}</td><td>true</td></tr></tbody></table></div>"
      ],
      "text/plain": [
       "shape: (3, 13)\n",
       "┌───────────┬───────────┬───────────┬───────────┬───┬───────────┬───────────┬───────────┬──────────┐\n",
       "│ stream_id ┆ user_id   ┆ stream_so ┆ applicati ┆ … ┆ timestamp ┆ user_beha ┆ user_info ┆ is_finan │\n",
       "│ ---       ┆ ---       ┆ urce      ┆ on        ┆   ┆ s         ┆ vior      ┆ ---       ┆ cial_str │\n",
       "│ str       ┆ str       ┆ ---       ┆ ---       ┆   ┆ ---       ┆ ---       ┆ struct[2] ┆ eam      │\n",
       "│           ┆           ┆ str       ┆ struct[5] ┆   ┆ struct[7] ┆ struct[13 ┆           ┆ ---      │\n",
       "│           ┆           ┆           ┆           ┆   ┆           ┆ ]         ┆           ┆ bool     │\n",
       "╞═══════════╪═══════════╪═══════════╪═══════════╪═══╪═══════════╪═══════════╪═══════════╪══════════╡\n",
       "│ 70aa86b19 ┆ 0000c2e26 ┆ end_song  ┆ {\"d7df088 ┆ … ┆ {17007569 ┆ {\"home\",n ┆ {\"BE\",tru ┆ true     │\n",
       "│ 87ca4ebbd ┆ d8a4107b1 ┆           ┆ 7fb71494e ┆   ┆ 92017,tru ┆ ull,null, ┆ e}        ┆          │\n",
       "│ bf007c71c ┆ 6645a9ab6 ┆           ┆ a994202cb ┆   ┆ e,\"Europe ┆ false,fal ┆           ┆          │\n",
       "│ 3f0e6     ┆ 4b26c     ┆           ┆ 473ea…    ┆   ┆ /Brus…    ┆ se,fa…    ┆           ┆          │\n",
       "│ 9364e7b98 ┆ 0000c2e26 ┆ end_song  ┆ {\"d7df088 ┆ … ┆ {17007560 ┆ {\"home\",n ┆ {\"BE\",tru ┆ true     │\n",
       "│ 3eb1cc967 ┆ d8a4107b1 ┆           ┆ 7fb71494e ┆   ┆ 23859,tru ┆ ull,null, ┆ e}        ┆          │\n",
       "│ 122467d40 ┆ 6645a9ab6 ┆           ┆ a994202cb ┆   ┆ e,\"Europe ┆ false,fal ┆           ┆          │\n",
       "│ 907bd     ┆ 4b26c     ┆           ┆ 473ea…    ┆   ┆ /Brus…    ┆ se,fa…    ┆           ┆          │\n",
       "│ f3947aadc ┆ 0000c2e26 ┆ end_song  ┆ {\"d7df088 ┆ … ┆ {17007555 ┆ {\"home\",n ┆ {\"BE\",tru ┆ true     │\n",
       "│ a66bca467 ┆ d8a4107b1 ┆           ┆ 7fb71494e ┆   ┆ 96413,tru ┆ ull,null, ┆ e}        ┆          │\n",
       "│ 3c2082b7d ┆ 6645a9ab6 ┆           ┆ a994202cb ┆   ┆ e,\"Europe ┆ false,fal ┆           ┆          │\n",
       "│ e43c7     ┆ 4b26c     ┆           ┆ 473ea…    ┆   ┆ /Brus…    ┆ se,fa…    ┆           ┆          │\n",
       "└───────────┴───────────┴───────────┴───────────┴───┴───────────┴───────────┴───────────┴──────────┘"
      ]
     },
     "execution_count": 44,
     "metadata": {},
     "output_type": "execute_result"
    }
   ],
   "source": [
    "# initialize local cache\n",
    "df = bqt_dev.fast_query(query_nested, result_format=\"polars\")\n",
    "print(type(df))\n",
    "df.head(3)"
   ]
  },
  {
   "cell_type": "code",
   "execution_count": 45,
   "id": "84248db5-9d5a-48f0-bc49-d68ae5c6e867",
   "metadata": {},
   "outputs": [
    {
     "name": "stdout",
     "output_type": "stream",
     "text": [
      "Found cached data that is 18 second(s) old, using it.\n",
      "\u001B[92mTime elapsed: 0:00:00.299204\u001B[0m\n",
      "<class 'polars.dataframe.frame.DataFrame'>\n"
     ]
    }
   ],
   "source": [
    "# verify local cache works \n",
    "df = bqt_dev.fast_query(query_nested, result_format=\"polars\")\n",
    "print(type(df))"
   ]
  },
  {
   "cell_type": "code",
   "execution_count": 46,
   "id": "98fb179b-820f-408c-a00c-3f16286ed4ae",
   "metadata": {},
   "outputs": [
    {
     "name": "stdout",
     "output_type": "stream",
     "text": [
      "\u001B[93mAttempting dry-run before executing full query...\u001B[0m\n",
      "<IPython.core.display.HTML object>\n",
      "\u001B[93mDRY RUN: Would Process: 8847.5 G Would Cost: $40.23\u001B[0m\n",
      "\u001B[93mNested or repeated results, enabling experimental advanced_dtype_handling flag.\u001B[0m\n",
      "\u001B[94mStaging bucket: gs://fastbqt-staging-eu-playx-insights\u001B[0m\n",
      "\u001B[94mJob playx-insights:6b927f5a-7146-4d85-a30d-38b8b5a2b648 submitted ...\u001B[0m\n",
      "\u001B[92mJob finished successfully!\u001B[0m\n",
      "\u001B[94mGot 4 rows (0.0)\u001B[0m\n",
      "\u001B[94mCompressing and preparing files ...\u001B[0m\n",
      "\u001B[94m1 chunks (6.9 K) will be downloaded!\u001B[0m\n",
      "\u001B[94mDownloading chunk 1/1 (6.9 K) ...\u001B[0m\n",
      "\u001B[92mTime elapsed: 0:00:03.815915\u001B[0m\n",
      "<class 'pandas.core.frame.DataFrame'>\n"
     ]
    },
    {
     "data": {
      "text/html": [
       "<div>\n",
       "<style scoped>\n",
       "    .dataframe tbody tr th:only-of-type {\n",
       "        vertical-align: middle;\n",
       "    }\n",
       "\n",
       "    .dataframe tbody tr th {\n",
       "        vertical-align: top;\n",
       "    }\n",
       "\n",
       "    .dataframe thead th {\n",
       "        text-align: right;\n",
       "    }\n",
       "</style>\n",
       "<table border=\"1\" class=\"dataframe\">\n",
       "  <thead>\n",
       "    <tr style=\"text-align: right;\">\n",
       "      <th></th>\n",
       "      <th>stream_id</th>\n",
       "      <th>user_id</th>\n",
       "      <th>stream_source</th>\n",
       "      <th>application</th>\n",
       "      <th>content</th>\n",
       "      <th>device</th>\n",
       "      <th>feature_specifics</th>\n",
       "      <th>play_context</th>\n",
       "      <th>playback</th>\n",
       "      <th>timestamps</th>\n",
       "      <th>user_behavior</th>\n",
       "      <th>user_info</th>\n",
       "      <th>is_financial_stream</th>\n",
       "    </tr>\n",
       "  </thead>\n",
       "  <tbody>\n",
       "    <tr>\n",
       "      <th>0</th>\n",
       "      <td>70aa86b1987ca4ebbdbf007c71c3f0e6</td>\n",
       "      <td>0000c2e26d8a4107b16645a9ab64b26c</td>\n",
       "      <td>end_song</td>\n",
       "      <td>{'client_id': 'd7df0887fb71494ea994202cb473eae...</td>\n",
       "      <td>{'content_type': 'music', 'media_type': 'audio...</td>\n",
       "      <td>{'brand': 'google', 'model': 'chromecast', 'os...</td>\n",
       "      <td>{'custom_reporting_attribution': None}</td>\n",
       "      <td>{'anonymized_play_context_uri': 'spotify:colle...</td>\n",
       "      <td>{'audio_format': 'Unknown', 'ms_nominal_played...</td>\n",
       "      <td>{'default_timestamp': 1700756992017, 'derived_...</td>\n",
       "      <td>{'referrer_root': 'home', 'interaction_id': No...</td>\n",
       "      <td>{'connection_country': 'BE', 'is_premium': True}</td>\n",
       "      <td>True</td>\n",
       "    </tr>\n",
       "    <tr>\n",
       "      <th>1</th>\n",
       "      <td>9364e7b983eb1cc967122467d40907bd</td>\n",
       "      <td>0000c2e26d8a4107b16645a9ab64b26c</td>\n",
       "      <td>end_song</td>\n",
       "      <td>{'client_id': 'd7df0887fb71494ea994202cb473eae...</td>\n",
       "      <td>{'content_type': 'music', 'media_type': 'audio...</td>\n",
       "      <td>{'brand': 'google', 'model': 'chromecast', 'os...</td>\n",
       "      <td>{'custom_reporting_attribution': None}</td>\n",
       "      <td>{'anonymized_play_context_uri': 'spotify:colle...</td>\n",
       "      <td>{'audio_format': 'Unknown', 'ms_nominal_played...</td>\n",
       "      <td>{'default_timestamp': 1700756023859, 'derived_...</td>\n",
       "      <td>{'referrer_root': 'home', 'interaction_id': No...</td>\n",
       "      <td>{'connection_country': 'BE', 'is_premium': True}</td>\n",
       "      <td>True</td>\n",
       "    </tr>\n",
       "    <tr>\n",
       "      <th>2</th>\n",
       "      <td>f3947aadca66bca4673c2082b7de43c7</td>\n",
       "      <td>0000c2e26d8a4107b16645a9ab64b26c</td>\n",
       "      <td>end_song</td>\n",
       "      <td>{'client_id': 'd7df0887fb71494ea994202cb473eae...</td>\n",
       "      <td>{'content_type': 'music', 'media_type': 'audio...</td>\n",
       "      <td>{'brand': 'google', 'model': 'chromecast', 'os...</td>\n",
       "      <td>{'custom_reporting_attribution': None}</td>\n",
       "      <td>{'anonymized_play_context_uri': 'spotify:colle...</td>\n",
       "      <td>{'audio_format': 'Unknown', 'ms_nominal_played...</td>\n",
       "      <td>{'default_timestamp': 1700755596413, 'derived_...</td>\n",
       "      <td>{'referrer_root': 'home', 'interaction_id': No...</td>\n",
       "      <td>{'connection_country': 'BE', 'is_premium': True}</td>\n",
       "      <td>True</td>\n",
       "    </tr>\n",
       "  </tbody>\n",
       "</table>\n",
       "</div>"
      ],
      "text/plain": [
       "                          stream_id                           user_id  \\\n",
       "0  70aa86b1987ca4ebbdbf007c71c3f0e6  0000c2e26d8a4107b16645a9ab64b26c   \n",
       "1  9364e7b983eb1cc967122467d40907bd  0000c2e26d8a4107b16645a9ab64b26c   \n",
       "2  f3947aadca66bca4673c2082b7de43c7  0000c2e26d8a4107b16645a9ab64b26c   \n",
       "\n",
       "  stream_source                                        application  \\\n",
       "0      end_song  {'client_id': 'd7df0887fb71494ea994202cb473eae...   \n",
       "1      end_song  {'client_id': 'd7df0887fb71494ea994202cb473eae...   \n",
       "2      end_song  {'client_id': 'd7df0887fb71494ea994202cb473eae...   \n",
       "\n",
       "                                             content  \\\n",
       "0  {'content_type': 'music', 'media_type': 'audio...   \n",
       "1  {'content_type': 'music', 'media_type': 'audio...   \n",
       "2  {'content_type': 'music', 'media_type': 'audio...   \n",
       "\n",
       "                                              device  \\\n",
       "0  {'brand': 'google', 'model': 'chromecast', 'os...   \n",
       "1  {'brand': 'google', 'model': 'chromecast', 'os...   \n",
       "2  {'brand': 'google', 'model': 'chromecast', 'os...   \n",
       "\n",
       "                        feature_specifics  \\\n",
       "0  {'custom_reporting_attribution': None}   \n",
       "1  {'custom_reporting_attribution': None}   \n",
       "2  {'custom_reporting_attribution': None}   \n",
       "\n",
       "                                        play_context  \\\n",
       "0  {'anonymized_play_context_uri': 'spotify:colle...   \n",
       "1  {'anonymized_play_context_uri': 'spotify:colle...   \n",
       "2  {'anonymized_play_context_uri': 'spotify:colle...   \n",
       "\n",
       "                                            playback  \\\n",
       "0  {'audio_format': 'Unknown', 'ms_nominal_played...   \n",
       "1  {'audio_format': 'Unknown', 'ms_nominal_played...   \n",
       "2  {'audio_format': 'Unknown', 'ms_nominal_played...   \n",
       "\n",
       "                                          timestamps  \\\n",
       "0  {'default_timestamp': 1700756992017, 'derived_...   \n",
       "1  {'default_timestamp': 1700756023859, 'derived_...   \n",
       "2  {'default_timestamp': 1700755596413, 'derived_...   \n",
       "\n",
       "                                       user_behavior  \\\n",
       "0  {'referrer_root': 'home', 'interaction_id': No...   \n",
       "1  {'referrer_root': 'home', 'interaction_id': No...   \n",
       "2  {'referrer_root': 'home', 'interaction_id': No...   \n",
       "\n",
       "                                          user_info  is_financial_stream  \n",
       "0  {'connection_country': 'BE', 'is_premium': True}                 True  \n",
       "1  {'connection_country': 'BE', 'is_premium': True}                 True  \n",
       "2  {'connection_country': 'BE', 'is_premium': True}                 True  "
      ]
     },
     "execution_count": 46,
     "metadata": {},
     "output_type": "execute_result"
    }
   ],
   "source": [
    "# explore pandas\n",
    "df = bqt_dev.fast_query(query_nested, result_format=\"pandas\")\n",
    "print(type(df))\n",
    "df.head(3)"
   ]
  }
 ],
 "metadata": {
  "kernelspec": {
   "display_name": "Python 3 (ipykernel)",
   "language": "python",
   "name": "python3"
  },
  "language_info": {
   "codemirror_mode": {
    "name": "ipython",
    "version": 3
   },
   "file_extension": ".py",
   "mimetype": "text/x-python",
   "name": "python",
   "nbconvert_exporter": "python",
   "pygments_lexer": "ipython3",
   "version": "3.9.16"
  }
 },
 "nbformat": 4,
 "nbformat_minor": 5
}
