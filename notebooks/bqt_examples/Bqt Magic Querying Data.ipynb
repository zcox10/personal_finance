{
 "cells": [
  {
   "cell_type": "markdown",
   "source": [
    "#  Querying Data with Bqt-magic\n",
    "\n",
    "## Basics of Querying with Bqt-magic (%%bqt)\n",
    "Bqt-magic is a cell magic, that allows users to query Big Query. To use bqt-magic requires no importing, it comes available on your notebook automatically. Bqt-magic uses bqt under the hood to access and query Big Query. Currently, bqt-magic only supports the query function.\n"
   ],
   "metadata": {
    "collapsed": false,
    "pycharm": {
     "name": "#%% md\n"
    }
   }
  },
  {
   "cell_type": "markdown",
   "source": [
    "The format for using %%bqt is:\n",
    "\n",
    "%%bqt <target_var> [-q --query_method]\n",
    "<query>\n",
    "\n",
    "target_var(Optional): is the variable that the dataframe output of query will be saved to. By default, the dataframe output will be saved to variable \"temp\", unless another variable is passed in.\n",
    "query_method(Optional): Allows user to specify what method to run from bqt.\n",
    "<query>: Query you want to run. Must be run in same cell and underneath line with %%bqt command."
   ],
   "metadata": {
    "collapsed": false,
    "pycharm": {
     "name": "#%% md\n"
    }
   }
  },
  {
   "cell_type": "code",
   "execution_count": 25,
   "outputs": [
    {
     "name": "stdout",
     "output_type": "stream",
     "text": [
      "enter the sandman\n",
      "\u001B[94mRunning job lilquery:68996e8b-bf2b-4432-b7ec-04586e0c0b23\u001B[0m\n",
      "\u001B[92mQuery done! Processed: 6700.7 G Billed: 6700.7 G Cost: $30.47\u001B[0m                                                       \n",
      "\u001B[92mFinished downloading results\u001B[0m\n"
     ]
    },
    {
     "data": {
      "text/plain": "                                           stream_id  \\\n0  77f28e25313b2e9dc1360d650dbbdeeca1c316e783f8dd...   \n1  4d5f4a94e28b0dea160ca595f8a19c163d07de8717e2b5...   \n2  a619c40d3129cacbd204f7b93d99a0fe9495255ce9bdbc...   \n3  6a8adeb25675bc4ccbe3290e428e5cd5ffa115022f69c1...   \n4  b8d43de1c2c2de32b04b20d6c888f3038c7f343270918b...   \n\n                            user_id  \\\n0  0047f08f64a149caafc4dfde8ac2db32   \n1  0047f08f64a149caafc4dfde8ac2db32   \n2  0047f08f64a149caafc4dfde8ac2db32   \n3  0047f08f64a149caafc4dfde8ac2db32   \n4  0047f08f64a149caafc4dfde8ac2db32   \n\n                                         application  \\\n0  {'client_id': '3e29cb18c4c34d60837ec94cf31e9f3...   \n1  {'client_id': '3e29cb18c4c34d60837ec94cf31e9f3...   \n2  {'client_id': '3e29cb18c4c34d60837ec94cf31e9f3...   \n3  {'client_id': '3e29cb18c4c34d60837ec94cf31e9f3...   \n4  {'client_id': '3e29cb18c4c34d60837ec94cf31e9f3...   \n\n                                             content  \\\n0  {'content_type': 'music', 'media_type': 'audio...   \n1  {'content_type': 'music', 'media_type': 'audio...   \n2  {'content_type': 'music', 'media_type': 'audio...   \n3  {'content_type': 'music', 'media_type': 'audio...   \n4  {'content_type': 'music', 'media_type': 'audio...   \n\n                                              device  \\\n0  {'brand': 'lg', 'model': '43uj634v_zd', 'os': ...   \n1  {'brand': 'lg', 'model': '43uj634v_zd', 'os': ...   \n2  {'brand': 'lg', 'model': '43uj634v_zd', 'os': ...   \n3  {'brand': 'lg', 'model': '43uj634v_zd', 'os': ...   \n4  {'brand': 'lg', 'model': '43uj634v_zd', 'os': ...   \n\n                                        play_context  \\\n0  {'anonymized_play_context_uri': 'spotify:playl...   \n1  {'anonymized_play_context_uri': 'spotify:playl...   \n2  {'anonymized_play_context_uri': 'spotify:playl...   \n3  {'anonymized_play_context_uri': 'spotify:playl...   \n4  {'anonymized_play_context_uri': 'spotify:playl...   \n\n                                            playback  \\\n0  {'audio_format': 'Unknown', 'ms_nominal_played...   \n1  {'audio_format': 'Unknown', 'ms_nominal_played...   \n2  {'audio_format': 'Unknown', 'ms_nominal_played...   \n3  {'audio_format': 'Unknown', 'ms_nominal_played...   \n4  {'audio_format': 'Unknown', 'ms_nominal_played...   \n\n                                          timestamps  \\\n0  {'default_timestamp': 1666710110663, 'derived_...   \n1  {'default_timestamp': 1666708772904, 'derived_...   \n2  {'default_timestamp': 1666708966396, 'derived_...   \n3  {'default_timestamp': 1666708600147, 'derived_...   \n4  {'default_timestamp': 1666709324776, 'derived_...   \n\n                                       user_behavior  \\\n0  {'referrer_root': 'home', 'interaction_id': '6...   \n1  {'referrer_root': 'home', 'interaction_id': '6...   \n2  {'referrer_root': 'home', 'interaction_id': '6...   \n3  {'referrer_root': 'home', 'interaction_id': '6...   \n4  {'referrer_root': 'home', 'interaction_id': '6...   \n\n                                           user_info  \n0  {'connection_country': 'GR', 'is_premium': False}  \n1  {'connection_country': 'GR', 'is_premium': False}  \n2  {'connection_country': 'GR', 'is_premium': False}  \n3  {'connection_country': 'GR', 'is_premium': False}  \n4  {'connection_country': 'GR', 'is_premium': False}  ",
      "text/html": "<div>\n<style scoped>\n    .dataframe tbody tr th:only-of-type {\n        vertical-align: middle;\n    }\n\n    .dataframe tbody tr th {\n        vertical-align: top;\n    }\n\n    .dataframe thead th {\n        text-align: right;\n    }\n</style>\n<table border=\"1\" class=\"dataframe\">\n  <thead>\n    <tr style=\"text-align: right;\">\n      <th></th>\n      <th>stream_id</th>\n      <th>user_id</th>\n      <th>application</th>\n      <th>content</th>\n      <th>device</th>\n      <th>play_context</th>\n      <th>playback</th>\n      <th>timestamps</th>\n      <th>user_behavior</th>\n      <th>user_info</th>\n    </tr>\n  </thead>\n  <tbody>\n    <tr>\n      <th>0</th>\n      <td>77f28e25313b2e9dc1360d650dbbdeeca1c316e783f8dd...</td>\n      <td>0047f08f64a149caafc4dfde8ac2db32</td>\n      <td>{'client_id': '3e29cb18c4c34d60837ec94cf31e9f3...</td>\n      <td>{'content_type': 'music', 'media_type': 'audio...</td>\n      <td>{'brand': 'lg', 'model': '43uj634v_zd', 'os': ...</td>\n      <td>{'anonymized_play_context_uri': 'spotify:playl...</td>\n      <td>{'audio_format': 'Unknown', 'ms_nominal_played...</td>\n      <td>{'default_timestamp': 1666710110663, 'derived_...</td>\n      <td>{'referrer_root': 'home', 'interaction_id': '6...</td>\n      <td>{'connection_country': 'GR', 'is_premium': False}</td>\n    </tr>\n    <tr>\n      <th>1</th>\n      <td>4d5f4a94e28b0dea160ca595f8a19c163d07de8717e2b5...</td>\n      <td>0047f08f64a149caafc4dfde8ac2db32</td>\n      <td>{'client_id': '3e29cb18c4c34d60837ec94cf31e9f3...</td>\n      <td>{'content_type': 'music', 'media_type': 'audio...</td>\n      <td>{'brand': 'lg', 'model': '43uj634v_zd', 'os': ...</td>\n      <td>{'anonymized_play_context_uri': 'spotify:playl...</td>\n      <td>{'audio_format': 'Unknown', 'ms_nominal_played...</td>\n      <td>{'default_timestamp': 1666708772904, 'derived_...</td>\n      <td>{'referrer_root': 'home', 'interaction_id': '6...</td>\n      <td>{'connection_country': 'GR', 'is_premium': False}</td>\n    </tr>\n    <tr>\n      <th>2</th>\n      <td>a619c40d3129cacbd204f7b93d99a0fe9495255ce9bdbc...</td>\n      <td>0047f08f64a149caafc4dfde8ac2db32</td>\n      <td>{'client_id': '3e29cb18c4c34d60837ec94cf31e9f3...</td>\n      <td>{'content_type': 'music', 'media_type': 'audio...</td>\n      <td>{'brand': 'lg', 'model': '43uj634v_zd', 'os': ...</td>\n      <td>{'anonymized_play_context_uri': 'spotify:playl...</td>\n      <td>{'audio_format': 'Unknown', 'ms_nominal_played...</td>\n      <td>{'default_timestamp': 1666708966396, 'derived_...</td>\n      <td>{'referrer_root': 'home', 'interaction_id': '6...</td>\n      <td>{'connection_country': 'GR', 'is_premium': False}</td>\n    </tr>\n    <tr>\n      <th>3</th>\n      <td>6a8adeb25675bc4ccbe3290e428e5cd5ffa115022f69c1...</td>\n      <td>0047f08f64a149caafc4dfde8ac2db32</td>\n      <td>{'client_id': '3e29cb18c4c34d60837ec94cf31e9f3...</td>\n      <td>{'content_type': 'music', 'media_type': 'audio...</td>\n      <td>{'brand': 'lg', 'model': '43uj634v_zd', 'os': ...</td>\n      <td>{'anonymized_play_context_uri': 'spotify:playl...</td>\n      <td>{'audio_format': 'Unknown', 'ms_nominal_played...</td>\n      <td>{'default_timestamp': 1666708600147, 'derived_...</td>\n      <td>{'referrer_root': 'home', 'interaction_id': '6...</td>\n      <td>{'connection_country': 'GR', 'is_premium': False}</td>\n    </tr>\n    <tr>\n      <th>4</th>\n      <td>b8d43de1c2c2de32b04b20d6c888f3038c7f343270918b...</td>\n      <td>0047f08f64a149caafc4dfde8ac2db32</td>\n      <td>{'client_id': '3e29cb18c4c34d60837ec94cf31e9f3...</td>\n      <td>{'content_type': 'music', 'media_type': 'audio...</td>\n      <td>{'brand': 'lg', 'model': '43uj634v_zd', 'os': ...</td>\n      <td>{'anonymized_play_context_uri': 'spotify:playl...</td>\n      <td>{'audio_format': 'Unknown', 'ms_nominal_played...</td>\n      <td>{'default_timestamp': 1666709324776, 'derived_...</td>\n      <td>{'referrer_root': 'home', 'interaction_id': '6...</td>\n      <td>{'connection_country': 'GR', 'is_premium': False}</td>\n    </tr>\n  </tbody>\n</table>\n</div>"
     },
     "execution_count": 25,
     "metadata": {},
     "output_type": "execute_result"
    }
   ],
   "source": [
    "%%bqt result_df\n",
    "SELECT * FROM\n",
    "`bbq-commons.BQLoad_bbq_union_dataset.bbq_load_union_test_20221025`\n",
    "LIMIT 100"
   ],
   "metadata": {
    "collapsed": false,
    "pycharm": {
     "name": "#%%\n"
    }
   }
  },
  {
   "cell_type": "markdown",
   "source": [
    "Bqt-magic returns a preview of your query results in the output underneath the cell.(The preview is the .head() of the results.)\n",
    "The full query results are saved as a dataframe object.\n",
    "If there is a target variable passed bqt-magic will save the result dataframe object to that variable. Otherwise, the result dataframe object will be saved in a variable named \"temp\"."
   ],
   "metadata": {
    "collapsed": false,
    "pycharm": {
     "name": "#%% md\n"
    }
   }
  },
  {
   "cell_type": "code",
   "execution_count": null,
   "outputs": [],
   "source": [
    "print(result_df)"
   ],
   "metadata": {
    "collapsed": false,
    "pycharm": {
     "name": "#%%\n"
    }
   }
  },
  {
   "cell_type": "markdown",
   "source": [
    "Below is an example of running bqt-magic without target_var set"
   ],
   "metadata": {
    "collapsed": false,
    "pycharm": {
     "name": "#%% md\n"
    }
   }
  },
  {
   "cell_type": "code",
   "execution_count": 27,
   "outputs": [
    {
     "name": "stdout",
     "output_type": "stream",
     "text": [
      "enter the sandman\n",
      "\u001B[92mQuery done! Processed: 0.0 Billed: 0.0 Cost: $0.00\u001B[0m\n",
      "\u001B[92mFinished downloading results\u001B[0m\n"
     ]
    },
    {
     "data": {
      "text/plain": "                                           stream_id  \\\n0  77f28e25313b2e9dc1360d650dbbdeeca1c316e783f8dd...   \n1  4d5f4a94e28b0dea160ca595f8a19c163d07de8717e2b5...   \n2  a619c40d3129cacbd204f7b93d99a0fe9495255ce9bdbc...   \n3  6a8adeb25675bc4ccbe3290e428e5cd5ffa115022f69c1...   \n4  b8d43de1c2c2de32b04b20d6c888f3038c7f343270918b...   \n\n                            user_id  \\\n0  0047f08f64a149caafc4dfde8ac2db32   \n1  0047f08f64a149caafc4dfde8ac2db32   \n2  0047f08f64a149caafc4dfde8ac2db32   \n3  0047f08f64a149caafc4dfde8ac2db32   \n4  0047f08f64a149caafc4dfde8ac2db32   \n\n                                         application  \\\n0  {'client_id': '3e29cb18c4c34d60837ec94cf31e9f3...   \n1  {'client_id': '3e29cb18c4c34d60837ec94cf31e9f3...   \n2  {'client_id': '3e29cb18c4c34d60837ec94cf31e9f3...   \n3  {'client_id': '3e29cb18c4c34d60837ec94cf31e9f3...   \n4  {'client_id': '3e29cb18c4c34d60837ec94cf31e9f3...   \n\n                                             content  \\\n0  {'content_type': 'music', 'media_type': 'audio...   \n1  {'content_type': 'music', 'media_type': 'audio...   \n2  {'content_type': 'music', 'media_type': 'audio...   \n3  {'content_type': 'music', 'media_type': 'audio...   \n4  {'content_type': 'music', 'media_type': 'audio...   \n\n                                              device  \\\n0  {'brand': 'lg', 'model': '43uj634v_zd', 'os': ...   \n1  {'brand': 'lg', 'model': '43uj634v_zd', 'os': ...   \n2  {'brand': 'lg', 'model': '43uj634v_zd', 'os': ...   \n3  {'brand': 'lg', 'model': '43uj634v_zd', 'os': ...   \n4  {'brand': 'lg', 'model': '43uj634v_zd', 'os': ...   \n\n                                        play_context  \\\n0  {'anonymized_play_context_uri': 'spotify:playl...   \n1  {'anonymized_play_context_uri': 'spotify:playl...   \n2  {'anonymized_play_context_uri': 'spotify:playl...   \n3  {'anonymized_play_context_uri': 'spotify:playl...   \n4  {'anonymized_play_context_uri': 'spotify:playl...   \n\n                                            playback  \\\n0  {'audio_format': 'Unknown', 'ms_nominal_played...   \n1  {'audio_format': 'Unknown', 'ms_nominal_played...   \n2  {'audio_format': 'Unknown', 'ms_nominal_played...   \n3  {'audio_format': 'Unknown', 'ms_nominal_played...   \n4  {'audio_format': 'Unknown', 'ms_nominal_played...   \n\n                                          timestamps  \\\n0  {'default_timestamp': 1666710110663, 'derived_...   \n1  {'default_timestamp': 1666708772904, 'derived_...   \n2  {'default_timestamp': 1666708966396, 'derived_...   \n3  {'default_timestamp': 1666708600147, 'derived_...   \n4  {'default_timestamp': 1666709324776, 'derived_...   \n\n                                       user_behavior  \\\n0  {'referrer_root': 'home', 'interaction_id': '6...   \n1  {'referrer_root': 'home', 'interaction_id': '6...   \n2  {'referrer_root': 'home', 'interaction_id': '6...   \n3  {'referrer_root': 'home', 'interaction_id': '6...   \n4  {'referrer_root': 'home', 'interaction_id': '6...   \n\n                                           user_info  \n0  {'connection_country': 'GR', 'is_premium': False}  \n1  {'connection_country': 'GR', 'is_premium': False}  \n2  {'connection_country': 'GR', 'is_premium': False}  \n3  {'connection_country': 'GR', 'is_premium': False}  \n4  {'connection_country': 'GR', 'is_premium': False}  ",
      "text/html": "<div>\n<style scoped>\n    .dataframe tbody tr th:only-of-type {\n        vertical-align: middle;\n    }\n\n    .dataframe tbody tr th {\n        vertical-align: top;\n    }\n\n    .dataframe thead th {\n        text-align: right;\n    }\n</style>\n<table border=\"1\" class=\"dataframe\">\n  <thead>\n    <tr style=\"text-align: right;\">\n      <th></th>\n      <th>stream_id</th>\n      <th>user_id</th>\n      <th>application</th>\n      <th>content</th>\n      <th>device</th>\n      <th>play_context</th>\n      <th>playback</th>\n      <th>timestamps</th>\n      <th>user_behavior</th>\n      <th>user_info</th>\n    </tr>\n  </thead>\n  <tbody>\n    <tr>\n      <th>0</th>\n      <td>77f28e25313b2e9dc1360d650dbbdeeca1c316e783f8dd...</td>\n      <td>0047f08f64a149caafc4dfde8ac2db32</td>\n      <td>{'client_id': '3e29cb18c4c34d60837ec94cf31e9f3...</td>\n      <td>{'content_type': 'music', 'media_type': 'audio...</td>\n      <td>{'brand': 'lg', 'model': '43uj634v_zd', 'os': ...</td>\n      <td>{'anonymized_play_context_uri': 'spotify:playl...</td>\n      <td>{'audio_format': 'Unknown', 'ms_nominal_played...</td>\n      <td>{'default_timestamp': 1666710110663, 'derived_...</td>\n      <td>{'referrer_root': 'home', 'interaction_id': '6...</td>\n      <td>{'connection_country': 'GR', 'is_premium': False}</td>\n    </tr>\n    <tr>\n      <th>1</th>\n      <td>4d5f4a94e28b0dea160ca595f8a19c163d07de8717e2b5...</td>\n      <td>0047f08f64a149caafc4dfde8ac2db32</td>\n      <td>{'client_id': '3e29cb18c4c34d60837ec94cf31e9f3...</td>\n      <td>{'content_type': 'music', 'media_type': 'audio...</td>\n      <td>{'brand': 'lg', 'model': '43uj634v_zd', 'os': ...</td>\n      <td>{'anonymized_play_context_uri': 'spotify:playl...</td>\n      <td>{'audio_format': 'Unknown', 'ms_nominal_played...</td>\n      <td>{'default_timestamp': 1666708772904, 'derived_...</td>\n      <td>{'referrer_root': 'home', 'interaction_id': '6...</td>\n      <td>{'connection_country': 'GR', 'is_premium': False}</td>\n    </tr>\n    <tr>\n      <th>2</th>\n      <td>a619c40d3129cacbd204f7b93d99a0fe9495255ce9bdbc...</td>\n      <td>0047f08f64a149caafc4dfde8ac2db32</td>\n      <td>{'client_id': '3e29cb18c4c34d60837ec94cf31e9f3...</td>\n      <td>{'content_type': 'music', 'media_type': 'audio...</td>\n      <td>{'brand': 'lg', 'model': '43uj634v_zd', 'os': ...</td>\n      <td>{'anonymized_play_context_uri': 'spotify:playl...</td>\n      <td>{'audio_format': 'Unknown', 'ms_nominal_played...</td>\n      <td>{'default_timestamp': 1666708966396, 'derived_...</td>\n      <td>{'referrer_root': 'home', 'interaction_id': '6...</td>\n      <td>{'connection_country': 'GR', 'is_premium': False}</td>\n    </tr>\n    <tr>\n      <th>3</th>\n      <td>6a8adeb25675bc4ccbe3290e428e5cd5ffa115022f69c1...</td>\n      <td>0047f08f64a149caafc4dfde8ac2db32</td>\n      <td>{'client_id': '3e29cb18c4c34d60837ec94cf31e9f3...</td>\n      <td>{'content_type': 'music', 'media_type': 'audio...</td>\n      <td>{'brand': 'lg', 'model': '43uj634v_zd', 'os': ...</td>\n      <td>{'anonymized_play_context_uri': 'spotify:playl...</td>\n      <td>{'audio_format': 'Unknown', 'ms_nominal_played...</td>\n      <td>{'default_timestamp': 1666708600147, 'derived_...</td>\n      <td>{'referrer_root': 'home', 'interaction_id': '6...</td>\n      <td>{'connection_country': 'GR', 'is_premium': False}</td>\n    </tr>\n    <tr>\n      <th>4</th>\n      <td>b8d43de1c2c2de32b04b20d6c888f3038c7f343270918b...</td>\n      <td>0047f08f64a149caafc4dfde8ac2db32</td>\n      <td>{'client_id': '3e29cb18c4c34d60837ec94cf31e9f3...</td>\n      <td>{'content_type': 'music', 'media_type': 'audio...</td>\n      <td>{'brand': 'lg', 'model': '43uj634v_zd', 'os': ...</td>\n      <td>{'anonymized_play_context_uri': 'spotify:playl...</td>\n      <td>{'audio_format': 'Unknown', 'ms_nominal_played...</td>\n      <td>{'default_timestamp': 1666709324776, 'derived_...</td>\n      <td>{'referrer_root': 'home', 'interaction_id': '6...</td>\n      <td>{'connection_country': 'GR', 'is_premium': False}</td>\n    </tr>\n  </tbody>\n</table>\n</div>"
     },
     "execution_count": 27,
     "metadata": {},
     "output_type": "execute_result"
    }
   ],
   "source": [
    "%%bqt -q query\n",
    "SELECT * FROM\n",
    "`bbq-commons.BQLoad_bbq_union_dataset.bbq_load_union_test_20221025`\n",
    "LIMIT 100"
   ],
   "metadata": {
    "collapsed": false,
    "pycharm": {
     "name": "#%%\n"
    }
   }
  },
  {
   "cell_type": "code",
   "execution_count": 28,
   "outputs": [
    {
     "name": "stdout",
     "output_type": "stream",
     "text": [
      "                                            stream_id  \\\n",
      "0   77f28e25313b2e9dc1360d650dbbdeeca1c316e783f8dd...   \n",
      "1   4d5f4a94e28b0dea160ca595f8a19c163d07de8717e2b5...   \n",
      "2   a619c40d3129cacbd204f7b93d99a0fe9495255ce9bdbc...   \n",
      "3   6a8adeb25675bc4ccbe3290e428e5cd5ffa115022f69c1...   \n",
      "4   b8d43de1c2c2de32b04b20d6c888f3038c7f343270918b...   \n",
      "..                                                ...   \n",
      "95  a8ba594233dcc73f6b48f31f9b1742486e8353269ae309...   \n",
      "96  d076f8bec173b4be21f68917776c1e011aca2acbd287c6...   \n",
      "97  fe378e0f61b65623ae7884a4e74f399436d24bc4891a7b...   \n",
      "98  a0462bdc9abc00bf5c3e3b0a522a9ed7b45d5ecc7e2b35...   \n",
      "99  c02861463954efcdf9c7a9f51c12fd0729b76718cf0f3b...   \n",
      "\n",
      "                             user_id  \\\n",
      "0   0047f08f64a149caafc4dfde8ac2db32   \n",
      "1   0047f08f64a149caafc4dfde8ac2db32   \n",
      "2   0047f08f64a149caafc4dfde8ac2db32   \n",
      "3   0047f08f64a149caafc4dfde8ac2db32   \n",
      "4   0047f08f64a149caafc4dfde8ac2db32   \n",
      "..                               ...   \n",
      "95  09c43ab0787344e380cde6988e745214   \n",
      "96  09c43ab0787344e380cde6988e745214   \n",
      "97  09c43ab0787344e380cde6988e745214   \n",
      "98  09c43ab0787344e380cde6988e745214   \n",
      "99  09c43ab0787344e380cde6988e745214   \n",
      "\n",
      "                                          application  \\\n",
      "0   {'client_id': '3e29cb18c4c34d60837ec94cf31e9f3...   \n",
      "1   {'client_id': '3e29cb18c4c34d60837ec94cf31e9f3...   \n",
      "2   {'client_id': '3e29cb18c4c34d60837ec94cf31e9f3...   \n",
      "3   {'client_id': '3e29cb18c4c34d60837ec94cf31e9f3...   \n",
      "4   {'client_id': '3e29cb18c4c34d60837ec94cf31e9f3...   \n",
      "..                                                ...   \n",
      "95  {'client_id': 'ls1:727ff5a9', 'version': '2.29...   \n",
      "96  {'client_id': 'ls1:727ff5a9', 'version': '2.29...   \n",
      "97  {'client_id': 'ls1:727ff5a9', 'version': '2.29...   \n",
      "98  {'client_id': 'ls1:727ff5a9', 'version': '2.29...   \n",
      "99  {'client_id': 'ls1:727ff5a9', 'version': '2.29...   \n",
      "\n",
      "                                              content  \\\n",
      "0   {'content_type': 'music', 'media_type': 'audio...   \n",
      "1   {'content_type': 'music', 'media_type': 'audio...   \n",
      "2   {'content_type': 'music', 'media_type': 'audio...   \n",
      "3   {'content_type': 'music', 'media_type': 'audio...   \n",
      "4   {'content_type': 'music', 'media_type': 'audio...   \n",
      "..                                                ...   \n",
      "95  {'content_type': 'music', 'media_type': 'audio...   \n",
      "96  {'content_type': 'music', 'media_type': 'audio...   \n",
      "97  {'content_type': 'music', 'media_type': 'audio...   \n",
      "98  {'content_type': 'music', 'media_type': 'audio...   \n",
      "99  {'content_type': 'music', 'media_type': 'audio...   \n",
      "\n",
      "                                               device  \\\n",
      "0   {'brand': 'lg', 'model': '43uj634v_zd', 'os': ...   \n",
      "1   {'brand': 'lg', 'model': '43uj634v_zd', 'os': ...   \n",
      "2   {'brand': 'lg', 'model': '43uj634v_zd', 'os': ...   \n",
      "3   {'brand': 'lg', 'model': '43uj634v_zd', 'os': ...   \n",
      "4   {'brand': 'lg', 'model': '43uj634v_zd', 'os': ...   \n",
      "..                                                ...   \n",
      "95  {'brand': 'marantz', 'model': 'sr7007', 'os': ...   \n",
      "96  {'brand': 'marantz', 'model': 'sr7007', 'os': ...   \n",
      "97  {'brand': 'marantz', 'model': 'sr7007', 'os': ...   \n",
      "98  {'brand': 'marantz', 'model': 'sr7007', 'os': ...   \n",
      "99  {'brand': 'marantz', 'model': 'sr7007', 'os': ...   \n",
      "\n",
      "                                         play_context  \\\n",
      "0   {'anonymized_play_context_uri': 'spotify:playl...   \n",
      "1   {'anonymized_play_context_uri': 'spotify:playl...   \n",
      "2   {'anonymized_play_context_uri': 'spotify:playl...   \n",
      "3   {'anonymized_play_context_uri': 'spotify:playl...   \n",
      "4   {'anonymized_play_context_uri': 'spotify:playl...   \n",
      "..                                                ...   \n",
      "95  {'anonymized_play_context_uri': 'spotify:playl...   \n",
      "96  {'anonymized_play_context_uri': 'spotify:playl...   \n",
      "97  {'anonymized_play_context_uri': 'spotify:playl...   \n",
      "98  {'anonymized_play_context_uri': 'spotify:playl...   \n",
      "99  {'anonymized_play_context_uri': 'spotify:playl...   \n",
      "\n",
      "                                             playback  \\\n",
      "0   {'audio_format': 'Unknown', 'ms_nominal_played...   \n",
      "1   {'audio_format': 'Unknown', 'ms_nominal_played...   \n",
      "2   {'audio_format': 'Unknown', 'ms_nominal_played...   \n",
      "3   {'audio_format': 'Unknown', 'ms_nominal_played...   \n",
      "4   {'audio_format': 'Unknown', 'ms_nominal_played...   \n",
      "..                                                ...   \n",
      "95  {'audio_format': 'Vorbis 320 kbps', 'ms_nomina...   \n",
      "96  {'audio_format': 'Vorbis 320 kbps', 'ms_nomina...   \n",
      "97  {'audio_format': 'Vorbis 320 kbps', 'ms_nomina...   \n",
      "98  {'audio_format': 'Vorbis 320 kbps', 'ms_nomina...   \n",
      "99  {'audio_format': 'Vorbis 320 kbps', 'ms_nomina...   \n",
      "\n",
      "                                           timestamps  \\\n",
      "0   {'default_timestamp': 1666710110663, 'derived_...   \n",
      "1   {'default_timestamp': 1666708772904, 'derived_...   \n",
      "2   {'default_timestamp': 1666708966396, 'derived_...   \n",
      "3   {'default_timestamp': 1666708600147, 'derived_...   \n",
      "4   {'default_timestamp': 1666709324776, 'derived_...   \n",
      "..                                                ...   \n",
      "95  {'default_timestamp': 1666677190478, 'derived_...   \n",
      "96  {'default_timestamp': 1666676459039, 'derived_...   \n",
      "97  {'default_timestamp': 1666676715573, 'derived_...   \n",
      "98  {'default_timestamp': 1666675417654, 'derived_...   \n",
      "99  {'default_timestamp': 1666674380558, 'derived_...   \n",
      "\n",
      "                                        user_behavior  \\\n",
      "0   {'referrer_root': 'home', 'interaction_id': '6...   \n",
      "1   {'referrer_root': 'home', 'interaction_id': '6...   \n",
      "2   {'referrer_root': 'home', 'interaction_id': '6...   \n",
      "3   {'referrer_root': 'home', 'interaction_id': '6...   \n",
      "4   {'referrer_root': 'home', 'interaction_id': '6...   \n",
      "..                                                ...   \n",
      "95  {'referrer_root': None, 'interaction_id': None...   \n",
      "96  {'referrer_root': None, 'interaction_id': None...   \n",
      "97  {'referrer_root': None, 'interaction_id': None...   \n",
      "98  {'referrer_root': None, 'interaction_id': None...   \n",
      "99  {'referrer_root': None, 'interaction_id': None...   \n",
      "\n",
      "                                            user_info  \n",
      "0   {'connection_country': 'GR', 'is_premium': False}  \n",
      "1   {'connection_country': 'GR', 'is_premium': False}  \n",
      "2   {'connection_country': 'GR', 'is_premium': False}  \n",
      "3   {'connection_country': 'GR', 'is_premium': False}  \n",
      "4   {'connection_country': 'GR', 'is_premium': False}  \n",
      "..                                                ...  \n",
      "95   {'connection_country': 'CA', 'is_premium': True}  \n",
      "96   {'connection_country': 'CA', 'is_premium': True}  \n",
      "97   {'connection_country': 'CA', 'is_premium': True}  \n",
      "98   {'connection_country': 'CA', 'is_premium': True}  \n",
      "99   {'connection_country': 'CA', 'is_premium': True}  \n",
      "\n",
      "[100 rows x 10 columns]\n"
     ]
    }
   ],
   "source": [
    "print(temp)"
   ],
   "metadata": {
    "collapsed": false,
    "pycharm": {
     "name": "#%%\n"
    }
   }
  },
  {
   "cell_type": "code",
   "execution_count": null,
   "outputs": [],
   "source": [],
   "metadata": {
    "collapsed": false,
    "pycharm": {
     "name": "#%%\n"
    }
   }
  }
 ],
 "metadata": {
  "kernelspec": {
   "display_name": "Python 3",
   "language": "python",
   "name": "python3"
  },
  "language_info": {
   "codemirror_mode": {
    "name": "ipython",
    "version": 2
   },
   "file_extension": ".py",
   "mimetype": "text/x-python",
   "name": "python",
   "nbconvert_exporter": "python",
   "pygments_lexer": "ipython2",
   "version": "2.7.6"
  }
 },
 "nbformat": 4,
 "nbformat_minor": 0
}