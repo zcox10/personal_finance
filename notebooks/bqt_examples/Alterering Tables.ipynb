{
 "cells": [
  {
   "cell_type": "markdown",
   "metadata": {},
   "source": [
    "# Altering Tables\n",
    "One SQL feature that BigQuery doesn't support (for good reasons) is `ALTER TABLE`. But there many valid cases you might want to do that. The only way to do that now is:\n",
    "1. Create a new table with a query\n",
    "2. Delete the old table\n",
    "3. Rename the new table to replace the old one\n",
    "\n",
    "Problem here is this can take a long time if you want to apply it to all partitions of a table. So we wrote a tool to do just this in an automated way.\n",
    "\n",
    "## Let's go over an example\n",
    "As always, we first create a `BqT` object:"
   ]
  },
  {
   "cell_type": "code",
   "execution_count": 1,
   "metadata": {},
   "outputs": [],
   "source": [
    "# add to sys.path\n",
    "import sys\n",
    "\n",
    "sys.path.insert(0, \"../../\")\n",
    "sys.path.insert(0, \"../../src\")\n",
    "\n",
    "from bqt import bqt\n",
    "\n",
    "bqt.change_project(\"zsc-personal\")  # note how we can change a project"
   ]
  },
  {
   "cell_type": "markdown",
   "metadata": {},
   "source": [
    "Now let's create a test table to alter later. We're intentionally creating them as two partitions to show how this would work for many table partitions."
   ]
  },
  {
   "cell_type": "code",
   "execution_count": 2,
   "metadata": {},
   "outputs": [],
   "source": [
    "bqt.verbose = True"
   ]
  },
  {
   "cell_type": "code",
   "execution_count": 3,
   "metadata": {},
   "outputs": [
    {
     "name": "stdout",
     "output_type": "stream",
     "text": [
      "Creating table `zsc-personal.bqt_playground.my_profiles_20180201` ...\n",
      "\u001b[94mRunning job zsc-personal:7f0be397-7410-4bf9-bf4c-d1b31b1d7b44\u001b[0m\n",
      "\u001b[92mJob finished successfully!\u001b[0m                   \n",
      "Creating table `zsc-personal.bqt_playground.my_profiles_20180202` ...\n",
      "\u001b[94mRunning job zsc-personal:6e8312ff-f3a7-4f3f-a93c-45d9cd525144\u001b[0m\n",
      "\u001b[92mJob finished successfully!\u001b[0m                   \n"
     ]
    },
    {
     "data": {
      "text/plain": [
       "<bqt.lib.job.BqJobResult at 0x123154a90>"
      ]
     },
     "execution_count": 3,
     "metadata": {},
     "output_type": "execute_result"
    }
   ],
   "source": [
    "bqt.create_table(\n",
    "    \"\"\"\n",
    "SELECT 'user_1' AS user_id,\n",
    "       'user_1@spotify.net' AS emal,\n",
    "       '2017-01-01' AS registration_date,\n",
    "       '2000-01-01' AS birthday\n",
    "\"\"\",\n",
    "    dataset=\"bqt_playground\",\n",
    "    table=\"my_profiles_20180201\",\n",
    "    write_disposition=\"WRITE_TRUNCATE\",\n",
    ")\n",
    "\n",
    "bqt.create_table(\n",
    "    \"\"\"\n",
    "SELECT 'user_2' AS user_id,\n",
    "       'user_2@spotify.net' AS emal,\n",
    "       '2018-01-01' AS registration_date,\n",
    "       '2010-01-01' AS birthday\n",
    "\"\"\",\n",
    "    dataset=\"bqt_playground\",\n",
    "    table=\"my_profiles_20180202\",\n",
    "    write_disposition=\"WRITE_TRUNCATE\",\n",
    ")"
   ]
  },
  {
   "cell_type": "code",
   "execution_count": 4,
   "metadata": {},
   "outputs": [
    {
     "name": "stdout",
     "output_type": "stream",
     "text": [
      "\u001b[0;31mSignature:\u001b[0m\n",
      "\u001b[0mbqt\u001b[0m\u001b[0;34m.\u001b[0m\u001b[0mcreate_table\u001b[0m\u001b[0;34m(\u001b[0m\u001b[0;34m\u001b[0m\n",
      "\u001b[0;34m\u001b[0m    \u001b[0mquery\u001b[0m\u001b[0;34m,\u001b[0m\u001b[0;34m\u001b[0m\n",
      "\u001b[0;34m\u001b[0m    \u001b[0mdataset\u001b[0m\u001b[0;34m,\u001b[0m\u001b[0;34m\u001b[0m\n",
      "\u001b[0;34m\u001b[0m    \u001b[0mtable\u001b[0m\u001b[0;34m,\u001b[0m\u001b[0;34m\u001b[0m\n",
      "\u001b[0;34m\u001b[0m    \u001b[0mproject\u001b[0m\u001b[0;34m=\u001b[0m\u001b[0;32mNone\u001b[0m\u001b[0;34m,\u001b[0m\u001b[0;34m\u001b[0m\n",
      "\u001b[0;34m\u001b[0m    \u001b[0mdialect\u001b[0m\u001b[0;34m=\u001b[0m\u001b[0;34m'standard'\u001b[0m\u001b[0;34m,\u001b[0m\u001b[0;34m\u001b[0m\n",
      "\u001b[0;34m\u001b[0m    \u001b[0mwrite_disposition\u001b[0m\u001b[0;34m=\u001b[0m\u001b[0;34m'WRITE_EMPTY'\u001b[0m\u001b[0;34m,\u001b[0m\u001b[0;34m\u001b[0m\n",
      "\u001b[0;34m\u001b[0m    \u001b[0mignore_exists\u001b[0m\u001b[0;34m=\u001b[0m\u001b[0;32mFalse\u001b[0m\u001b[0;34m,\u001b[0m\u001b[0;34m\u001b[0m\n",
      "\u001b[0;34m\u001b[0m    \u001b[0mskip_formatting\u001b[0m\u001b[0;34m=\u001b[0m\u001b[0;32mFalse\u001b[0m\u001b[0;34m,\u001b[0m\u001b[0;34m\u001b[0m\n",
      "\u001b[0;34m\u001b[0m    \u001b[0mschema\u001b[0m\u001b[0;34m=\u001b[0m\u001b[0;32mNone\u001b[0m\u001b[0;34m,\u001b[0m\u001b[0;34m\u001b[0m\n",
      "\u001b[0;34m\u001b[0m    \u001b[0mdescription\u001b[0m\u001b[0;34m=\u001b[0m\u001b[0;32mNone\u001b[0m\u001b[0;34m,\u001b[0m\u001b[0;34m\u001b[0m\n",
      "\u001b[0;34m\u001b[0m    \u001b[0mconfirm\u001b[0m\u001b[0;34m=\u001b[0m\u001b[0;32mTrue\u001b[0m\u001b[0;34m,\u001b[0m\u001b[0;34m\u001b[0m\n",
      "\u001b[0;34m\u001b[0m    \u001b[0mjinja\u001b[0m\u001b[0;34m=\u001b[0m\u001b[0;32mTrue\u001b[0m\u001b[0;34m,\u001b[0m\u001b[0;34m\u001b[0m\n",
      "\u001b[0;34m\u001b[0m\u001b[0;34m)\u001b[0m\u001b[0;34m\u001b[0m\u001b[0;34m\u001b[0m\u001b[0m\n",
      "\u001b[0;31mDocstring:\u001b[0m\n",
      "Create a table and blocks until it's finished\n",
      "\n",
      "Args:\n",
      "    query (string): query to run\n",
      "    dataset (string): dataset of destimatopm table\n",
      "    table (string): destination table name\n",
      "    dialect (string): 'legacy' or 'standard', use standard ;)\n",
      "    write_disposition (string): one of the supported BigQuery\n",
      "        write disposition types\n",
      "    ignore_exists (bool): ignore the table if it exists\n",
      "    schema (list of dictionaries): in format from BqSingleTable().schema\n",
      "        Example:\n",
      "        [{'description': u'Genre GID in hexadecimal string',\n",
      "          'mode': u'REQUIRED',\n",
      "          'name': u'genre_gid',\n",
      "          'type': u'STRING'},\n",
      "         {'description': u'Date of entity creation',\n",
      "          'mode': u'REQUIRED',\n",
      "          'name': u'date',\n",
      "          'type': u'STRING'}]\n",
      "    description (string): description for table metadata\n",
      "    confirm (bool): if True, the call will explicitly confirm before\n",
      "        deleting anything; only applies when passing in a desired schema\n",
      "    jinja (bool): If False, opt-out of jinja rendering step\n",
      "\n",
      "Returns:\n",
      "    The query job that creates the table\n",
      "\u001b[0;31mFile:\u001b[0m      ~/repos/finance/personal_finance/src/bqt/writer.py\n",
      "\u001b[0;31mType:\u001b[0m      method"
     ]
    }
   ],
   "source": [
    "bqt.create_table?"
   ]
  },
  {
   "cell_type": "markdown",
   "metadata": {},
   "source": [
    "Alright, now let's say we want to make the following two changes:\n",
    "1. Because of GDPR, we can't store birthday, so let's change that to age\n",
    "2. All registration dates were stored under the wrong type (`STRING`) we should make them into `DATE`\n",
    "3. `email` was spelled `emal`, should fix that"
   ]
  },
  {
   "cell_type": "code",
   "execution_count": null,
   "metadata": {},
   "outputs": [],
   "source": [
    "# first tell bqt what table or tables we want to alter\n",
    "alter_obj = bqt.alter_table(\n",
    "    dataset=\"bqt_playground\",\n",
    "    table=\"my_profiles_YYYYMMDD\",  # note that we're passing the table format to capture all partitions\n",
    ")\n",
    "\n",
    "# now to do (1)\n",
    "alter_obj.add_column(\"age\", \"DATE_DIFF(CURRENT_DATE, CAST(birthday AS DATE), YEAR)\")  # add age based on birthday\n",
    "alter_obj.delete_column(\"birthday\")  # delete birthday\n",
    "\n",
    "# and (2)\n",
    "alter_obj.cast_column(\"registration_date\", \"DATE\")\n",
    "\n",
    "# and (3)\n",
    "alter_obj.rename_column(\"emal\", \"email\")"
   ]
  },
  {
   "cell_type": "markdown",
   "metadata": {},
   "source": [
    "So far, we just defined our changes, it's always good to double check them before actually applying them:"
   ]
  },
  {
   "cell_type": "code",
   "execution_count": null,
   "metadata": {},
   "outputs": [],
   "source": [
    "print(alter_obj.human_summary())"
   ]
  },
  {
   "cell_type": "markdown",
   "metadata": {},
   "source": [
    "Looks good, let's apply:"
   ]
  },
  {
   "cell_type": "code",
   "execution_count": null,
   "metadata": {},
   "outputs": [],
   "source": [
    "alter_obj.apply()"
   ]
  },
  {
   "cell_type": "markdown",
   "metadata": {},
   "source": [
    "And to be sure that it did what it said it will do:"
   ]
  },
  {
   "cell_type": "code",
   "execution_count": null,
   "metadata": {},
   "outputs": [],
   "source": [
    "bqt.query(\"SELECT * FROM `data-science-golden-path.bqt_playground.my_profiles_*`\")"
   ]
  },
  {
   "cell_type": "code",
   "execution_count": null,
   "metadata": {},
   "outputs": [],
   "source": []
  }
 ],
 "metadata": {
  "kernelspec": {
   "display_name": "personal_finance",
   "language": "python",
   "name": "python3"
  },
  "language_info": {
   "codemirror_mode": {
    "name": "ipython",
    "version": 3
   },
   "file_extension": ".py",
   "mimetype": "text/x-python",
   "name": "python",
   "nbconvert_exporter": "python",
   "pygments_lexer": "ipython3",
   "version": "3.8.2"
  }
 },
 "nbformat": 4,
 "nbformat_minor": 2
}
