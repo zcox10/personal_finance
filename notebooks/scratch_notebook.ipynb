{
 "cells": [
  {
   "cell_type": "markdown",
   "id": "93b8c45a",
   "metadata": {},
   "source": [
    "# Imports"
   ]
  },
  {
   "cell_type": "code",
   "execution_count": 2,
   "id": "e0812f83-c19e-4cbd-97eb-859a1c81fb02",
   "metadata": {},
   "outputs": [],
   "source": [
    "# add to sys.path\n",
    "import sys\n",
    "\n",
    "sys.path.insert(0, \"../\")\n",
    "sys.path.insert(0, \"../src\")"
   ]
  },
  {
   "cell_type": "code",
   "execution_count": 3,
   "id": "b5a4a4c6",
   "metadata": {},
   "outputs": [],
   "source": [
    "import time\n",
    "import logging\n",
    "import pandas as pd\n",
    "from datetime import datetime, timedelta, timezone\n",
    "from dateutil.relativedelta import relativedelta\n",
    "import plaid\n",
    "\n",
    "\n",
    "# gcp\n",
    "from google.cloud import bigquery\n",
    "from google.cloud import pubsub_v1\n",
    "from google.cloud import scheduler_v1\n",
    "from google.cloud import functions_v2\n",
    "from google.cloud.functions_v1.types import ListFunctionsRequest\n",
    "from google.protobuf import duration_pb2\n",
    "\n",
    "# SCHEMAS\n",
    "from jobs.bq_table_schemas import BqTableSchemas\n",
    "from jobs.cloud_schemas import CloudSchemas\n",
    "\n",
    "\n",
    "# UTILS\n",
    "from utils.bq_utils import BqUtils\n",
    "from utils.plaid_utils import PlaidUtils\n",
    "from utils.secrets_utils import SecretsUtils\n",
    "from utils.crypto_utils import CryptoUtils\n",
    "from utils.budget_values import BudgetValues\n",
    "from utils.financial_accounts import FinancialAccounts\n",
    "from utils.plaid_transactions import PlaidTransactions\n",
    "from utils.plaid_investments import PlaidInvestments\n",
    "\n",
    "\n",
    "# get all secrets\n",
    "sec = SecretsUtils()\n",
    "secrets = sec.create_secrets_dict(plaid_secret_type=\"PROD\")\n",
    "PLAID_CLIENT_ID = secrets[\"PLAID_CLIENT_ID\"]\n",
    "PLAID_SECRET = secrets[\"PLAID_SECRET_PROD\"]\n",
    "PLAID_ACCESS_TOKENS = sec.get_access_token_secrets(secrets)\n",
    "PLAID_HOST = plaid.Environment.Production\n",
    "PLAID_PRODUCTS = [\"liabilities\", \"transactions\", \"investments\"]\n",
    "PLAID_COUNTRY_CODES = [\"US\"]\n",
    "CRYPTO_SECRETS = secrets[\"CRYPTO_SECRETS\"]\n",
    "\n",
    "# initialize clients\n",
    "bq_client = bigquery.Client()\n",
    "bq = BqUtils(bq_client=bq_client)\n",
    "plaid_client = PlaidUtils(bq_client, PLAID_CLIENT_ID, PLAID_SECRET, PLAID_HOST)\n",
    "financial_accounts = FinancialAccounts(bq_client, plaid_client)\n",
    "plaid_transactions = PlaidTransactions(bq_client, plaid_client)\n",
    "plaid_investments = PlaidInvestments(bq_client, plaid_client)\n",
    "budget_values = BudgetValues(bq_client)\n",
    "crypto = CryptoUtils()\n",
    "bq_tables = BqTableSchemas()\n",
    "\n",
    "pd.set_option(\"display.max_columns\", None)\n",
    "pd.set_option(\"display.max_rows\", None)\n",
    "pd.set_option(\"display.max_colwidth\", 1000)"
   ]
  },
  {
   "cell_type": "markdown",
   "id": "9ead2a41",
   "metadata": {},
   "source": [
    "# Budget Values"
   ]
  },
  {
   "cell_type": "code",
   "execution_count": 4,
   "id": "dbc72f27",
   "metadata": {},
   "outputs": [
    {
     "name": "stdout",
     "output_type": "stream",
     "text": [
      "SUCCESS: df uploaded to `zsc-personal.budget_values.budget_values_202212`\n",
      "SUCCESS: df uploaded to `zsc-personal.budget_values.budget_values_202301`\n",
      "SUCCESS: df uploaded to `zsc-personal.budget_values.budget_values_202302`\n",
      "SUCCESS: df uploaded to `zsc-personal.budget_values.budget_values_202303`\n",
      "SUCCESS: df uploaded to `zsc-personal.budget_values.budget_values_202304`\n",
      "SUCCESS: df uploaded to `zsc-personal.budget_values.budget_values_202305`\n",
      "SUCCESS: df uploaded to `zsc-personal.budget_values.budget_values_202306`\n",
      "SUCCESS: df uploaded to `zsc-personal.budget_values.budget_values_202307`\n",
      "SUCCESS: df uploaded to `zsc-personal.budget_values.budget_values_202308`\n",
      "SUCCESS: df uploaded to `zsc-personal.budget_values.budget_values_202309`\n",
      "SUCCESS: df uploaded to `zsc-personal.budget_values.budget_values_202310`\n",
      "SUCCESS: df uploaded to `zsc-personal.budget_values.budget_values_202311`\n",
      "SUCCESS: df uploaded to `zsc-personal.budget_values.budget_values_202312`\n",
      "SUCCESS: df uploaded to `zsc-personal.budget_values.budget_values_202401`\n",
      "SUCCESS: df uploaded to `zsc-personal.budget_values.budget_values_202402`\n",
      "SUCCESS: df uploaded to `zsc-personal.budget_values.budget_values_202403`\n",
      "SUCCESS: df uploaded to `zsc-personal.budget_values.budget_values_202404`\n",
      "SUCCESS: df uploaded to `zsc-personal.budget_values.budget_values_202405`\n",
      "SUCCESS: df uploaded to `zsc-personal.budget_values.budget_values_202406`\n"
     ]
    }
   ],
   "source": [
    "for i in range(-18, 1):\n",
    "    # print(bq.get_partition_date(i, partition_format=\"YYYYMM\"))\n",
    "    budget_values.upload_budget_values_df_to_bq(offset=i)"
   ]
  },
  {
   "cell_type": "code",
   "execution_count": null,
   "id": "bcd5471e",
   "metadata": {},
   "outputs": [],
   "source": []
  }
 ],
 "metadata": {
  "kernelspec": {
   "display_name": "Python 3 (ipykernel)",
   "language": "python",
   "name": "python3"
  },
  "language_info": {
   "codemirror_mode": {
    "name": "ipython",
    "version": 3
   },
   "file_extension": ".py",
   "mimetype": "text/x-python",
   "name": "python",
   "nbconvert_exporter": "python",
   "pygments_lexer": "ipython3",
   "version": "3.9.1"
  }
 },
 "nbformat": 4,
 "nbformat_minor": 5
}
