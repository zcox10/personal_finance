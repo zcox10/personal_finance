{
 "cells": [
  {
   "cell_type": "markdown",
   "id": "93b8c45a",
   "metadata": {},
   "source": [
    "# Imports"
   ]
  },
  {
   "cell_type": "code",
   "execution_count": 1,
   "id": "e0812f83-c19e-4cbd-97eb-859a1c81fb02",
   "metadata": {},
   "outputs": [],
   "source": [
    "# add to sys.path\n",
    "import sys\n",
    "\n",
    "sys.path.insert(0, \"../\")\n",
    "sys.path.insert(0, \"../src\")"
   ]
  },
  {
   "cell_type": "code",
   "execution_count": 2,
   "id": "6ea70d23",
   "metadata": {},
   "outputs": [],
   "source": [
    "import pandas_gbq"
   ]
  },
  {
   "cell_type": "code",
   "execution_count": 3,
   "id": "b5a4a4c6",
   "metadata": {},
   "outputs": [],
   "source": [
    "import time\n",
    "import logging\n",
    "import pandas as pd\n",
    "from datetime import datetime, timedelta, timezone\n",
    "from dateutil.relativedelta import relativedelta\n",
    "import plaid\n",
    "\n",
    "\n",
    "# gcp\n",
    "from google.cloud import bigquery\n",
    "from google.cloud import pubsub_v1\n",
    "from google.cloud import scheduler_v1\n",
    "from google.cloud import functions_v2\n",
    "from google.cloud.functions_v1.types import ListFunctionsRequest\n",
    "from google.protobuf import duration_pb2\n",
    "\n",
    "# SCHEMAS\n",
    "from jobs.bq_table_schemas import BqTableSchemas\n",
    "from jobs.cloud_schemas import CloudSchemas\n",
    "\n",
    "\n",
    "# UTILS\n",
    "from utils.bq_utils import BqUtils\n",
    "from utils.plaid_utils import PlaidUtils\n",
    "from utils.secrets_utils import SecretsUtils\n",
    "from utils.crypto_utils import CryptoUtils\n",
    "from utils.budget_values import BudgetValues\n",
    "from utils.financial_accounts import FinancialAccounts\n",
    "from utils.plaid_transactions import PlaidTransactions\n",
    "from utils.plaid_investments import PlaidInvestments\n",
    "\n",
    "\n",
    "# get all secrets\n",
    "sec = SecretsUtils()\n",
    "secrets = sec.create_secrets_dict(plaid_secret_type=\"PROD\")\n",
    "PLAID_CLIENT_ID = secrets[\"PLAID_CLIENT_ID\"]\n",
    "PLAID_SECRET = secrets[\"PLAID_SECRET_PROD\"]\n",
    "PLAID_ACCESS_TOKENS = sec.get_access_token_secrets(secrets)\n",
    "PLAID_HOST = plaid.Environment.Production\n",
    "PLAID_PRODUCTS = [\"liabilities\", \"transactions\", \"investments\"]\n",
    "PLAID_COUNTRY_CODES = [\"US\"]\n",
    "CRYPTO_SECRETS = secrets[\"CRYPTO_SECRETS\"]\n",
    "\n",
    "# initialize clients\n",
    "bq_client = bigquery.Client()\n",
    "bq = BqUtils(bq_client=bq_client)\n",
    "plaid_client = PlaidUtils(bq_client, PLAID_CLIENT_ID, PLAID_SECRET, PLAID_HOST)\n",
    "financial_accounts = FinancialAccounts(bq_client, plaid_client)\n",
    "plaid_transactions = PlaidTransactions(bq_client, plaid_client)\n",
    "plaid_investments = PlaidInvestments(bq_client, plaid_client)\n",
    "budget_values = BudgetValues(bq_client)\n",
    "crypto = CryptoUtils()\n",
    "bq_tables = BqTableSchemas()\n",
    "\n",
    "pd.set_option(\"display.max_columns\", None)\n",
    "pd.set_option(\"display.max_rows\", None)\n",
    "pd.set_option(\"display.max_colwidth\", 1000)"
   ]
  },
  {
   "cell_type": "markdown",
   "id": "9ead2a41",
   "metadata": {},
   "source": [
    "# Budget Values"
   ]
  },
  {
   "cell_type": "code",
   "execution_count": 4,
   "id": "dbc72f27",
   "metadata": {},
   "outputs": [],
   "source": [
    "# for i in range(-19, 1):\n",
    "#     # print(bq.get_partition_date(i, partition_format=\"YYYYMM\"))\n",
    "#     budget_values.upload_budget_values_df_to_bq(offset=i)"
   ]
  },
  {
   "cell_type": "markdown",
   "id": "77df381a",
   "metadata": {},
   "source": [
    "# Access Tokens"
   ]
  },
  {
   "cell_type": "code",
   "execution_count": 5,
   "id": "bcb396b0",
   "metadata": {},
   "outputs": [
    {
     "name": "stdout",
     "output_type": "stream",
     "text": [
      "SUCCESS: df uploaded to `zsc-personal.personal_finance.financial_accounts_20240530`\n",
      "SUCCESS: all access tokens added to `zsc-personal.personal_finance.financial_accounts_20240530`\n",
      "\n"
     ]
    }
   ],
   "source": [
    "# get crypto secrets\n",
    "eth_addresses = CRYPTO_SECRETS[\"ETH\"][\"addresses\"]\n",
    "eth_api_key = CRYPTO_SECRETS[\"ETH\"][\"api_key\"]\n",
    "btc_addresses = CRYPTO_SECRETS[\"BTC\"][\"addresses\"]\n",
    "btc_api_key = CRYPTO_SECRETS[\"BTC\"][\"api_key\"]\n",
    "\n",
    "financial_accounts.add_plaid_accounts_to_bq(\n",
    "    PLAID_ACCESS_TOKENS,\n",
    "    [\"US\"],\n",
    "    eth_addresses,\n",
    "    btc_addresses,\n",
    "    eth_api_key,\n",
    "    btc_api_key,\n",
    "    offset=0,\n",
    "    write_disposition=\"WRITE_TRUNCATE\",\n",
    ")"
   ]
  },
  {
   "cell_type": "code",
   "execution_count": null,
   "id": "c5489217",
   "metadata": {},
   "outputs": [],
   "source": []
  },
  {
   "cell_type": "code",
   "execution_count": null,
   "id": "8027bdf7",
   "metadata": {},
   "outputs": [],
   "source": []
  },
  {
   "cell_type": "code",
   "execution_count": 6,
   "id": "19052304",
   "metadata": {},
   "outputs": [],
   "source": [
    "# # time.sleep(10)\n",
    "# # Create a new financial_accounts table to, upload all account info according to access_tokens provided\n",
    "# accounts_df = financial_accounts.create_final_accounts_df(\n",
    "#     PLAID_ACCESS_TOKENS, [\"US\"], eth_addresses, btc_addresses, eth_api_key, btc_api_key\n",
    "# )\n",
    "\n",
    "# financial_accounts_bq = bq.update_table_schema_partition(\n",
    "#     schema=bq_tables.financial_accounts_YYYYMMDD(),\n",
    "#     offset=0,\n",
    "# )\n",
    "\n",
    "# pandas_gbq.to_gbq(\n",
    "#     accounts_df,\n",
    "#     financial_accounts_bq[\"full_table_name\"],\n",
    "#     project_id=\"zsc-personal\",\n",
    "#     if_exists=\"replace\",\n",
    "#     table_schema=financial_accounts_bq[\"table_schema\"],\n",
    "# )"
   ]
  },
  {
   "cell_type": "code",
   "execution_count": null,
   "id": "ee2b7338",
   "metadata": {},
   "outputs": [],
   "source": []
  }
 ],
 "metadata": {
  "kernelspec": {
   "display_name": "Python 3 (ipykernel)",
   "language": "python",
   "name": "python3"
  },
  "language_info": {
   "codemirror_mode": {
    "name": "ipython",
    "version": 3
   },
   "file_extension": ".py",
   "mimetype": "text/x-python",
   "name": "python",
   "nbconvert_exporter": "python",
   "pygments_lexer": "ipython3",
   "version": "3.8.2"
  }
 },
 "nbformat": 4,
 "nbformat_minor": 5
}
