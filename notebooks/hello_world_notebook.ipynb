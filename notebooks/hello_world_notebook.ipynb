{
 "cells": [
  {
   "cell_type": "markdown",
   "id": "93b8c45a",
   "metadata": {},
   "source": [
    "# Imports"
   ]
  },
  {
   "cell_type": "code",
   "execution_count": 1,
   "id": "e0812f83-c19e-4cbd-97eb-859a1c81fb02",
   "metadata": {},
   "outputs": [],
   "source": [
    "# add to sys.path\n",
    "import sys\n",
    "\n",
    "sys.path.insert(0, \"../\")\n",
    "sys.path.insert(0, \"../src\")"
   ]
  },
  {
   "cell_type": "code",
   "execution_count": 2,
   "id": "b5a4a4c6",
   "metadata": {},
   "outputs": [],
   "source": [
    "import time\n",
    "import pandas as pd\n",
    "from google.cloud import bigquery\n",
    "import plaid\n",
    "\n",
    "from sql.bq_table_schemas import BqTableSchemas\n",
    "from utils.bq_utils import BqUtils\n",
    "\n",
    "# from utils.plaid_utils import PlaidUtils\n",
    "from utils.plaid_utils import PlaidUtils\n",
    "from utils.financial_accounts import FinancialAccounts\n",
    "from utils.plaid_transactions import PlaidTransactions\n",
    "from utils.plaid_investments import PlaidInvestments\n",
    "\n",
    "\n",
    "# constants\n",
    "PLAID_CLIENT_ID = \"65975384ab670e001c0aaf0d\"\n",
    "# PLAID_SECRET=\"56e33c77237c8c9e45f5c066b8b2fa\" #production\n",
    "PLAID_SECRET = \"9294dd5ca4a5c99d90da56640f40e5\"  # sandbox\n",
    "PLAID_ENV = \"sandbox\"\n",
    "PLAID_PRODUCTS = [\"liabilities\", \"transactions\", \"investments\"]\n",
    "PLAID_COUNTRY_CODES = [\"US\"]\n",
    "PLAID_HOST = plaid.Environment.Sandbox\n",
    "# PLAID_REDIRECT_URI=\"https://localhost:3000/\"\n",
    "PLAID_ACCESS_TOKENS = [\n",
    "    \"access-sandbox-1902b6d6-33f3-49b8-a3ce-3213a5fe9a49\",\n",
    "    \"access-sandbox-12481aea-33b6-4101-9f49-4e07ebbc1431\",\n",
    "    \"access-sandbox-f415798a-74af-4e7f-b504-dc075dc5889c\",\n",
    "]\n",
    "\n",
    "# initialize clients\n",
    "bq_client = bigquery.Client()\n",
    "bq = BqUtils(bq_client=bq_client)\n",
    "plaid_client = PlaidUtils(bq_client, PLAID_CLIENT_ID, PLAID_SECRET, PLAID_HOST)\n",
    "financial_accounts = FinancialAccounts(bq_client, plaid_client)\n",
    "plaid_transactions = PlaidTransactions(bq_client, plaid_client)\n",
    "plaid_investments = PlaidInvestments(bq_client, plaid_client)\n",
    "bq_tables = BqTableSchemas()\n",
    "\n",
    "pd.set_option(\"display.max_colwidth\", None)\n",
    "pd.set_option(\"display.max_columns\", None)"
   ]
  },
  {
   "cell_type": "markdown",
   "id": "5daa0913",
   "metadata": {},
   "source": [
    "# Test Investments"
   ]
  },
  {
   "cell_type": "code",
   "execution_count": 3,
   "id": "e77efd00",
   "metadata": {},
   "outputs": [
    {
     "name": "stdout",
     "output_type": "stream",
     "text": [
      "STARTING main_plaid_investments.py\n",
      "SUCCESS: `zsc-personal.personal_finance.plaid_investment_transactions_20240427` successfully deleted!\n",
      "SUCCESS: `zsc-personal.personal_finance.plaid_investment_transactions_20240427` successfully created!\n",
      "\n",
      "SLEEP 5 SECONDS TO WAIT FOR plaid_investment_transactions_YYYYMMDD creation\n",
      "\n",
      "SUCCESS: df uploaded to `zsc-personal.personal_finance.plaid_investment_transactions_20240427`\n",
      "SUCCESS: investment data uploaded to BQ\n"
     ]
    }
   ],
   "source": [
    "write_disposition = \"WRITE_TRUNCATE\"\n",
    "offset_days = -1\n",
    "start_date = \"2024-01-01\"\n",
    "end_date = \"2024-04-25\"\n",
    "\n",
    "print(\"STARTING main_plaid_investments.py\")\n",
    "\n",
    "# Run create_transactions_df() to store added/modified transactions in transactions_df and removed transactions in removed_df\n",
    "holdings_df_list = []\n",
    "investment_transactions_df_list = []\n",
    "\n",
    "# get investments access_tokens\n",
    "access_tokens = list(plaid_client.get_access_tokens(products=[\"investments\"])[\"access_token\"].unique())\n",
    "\n",
    "# generate investment dfs for investment holdings and investment transactions\n",
    "for token in access_tokens:\n",
    "    holdings_df, investment_transactions_df = plaid_investments.generate_investments_dfs(start_date, end_date, token)\n",
    "    holdings_df_list.append(holdings_df)\n",
    "    investment_transactions_df_list.append(investment_transactions_df)\n",
    "\n",
    "concat_holdings_df = pd.concat(holdings_df_list)\n",
    "concat_investment_transactions_df = pd.concat(investment_transactions_df_list)\n",
    "\n",
    "# only upload holdings_df to BQ if there is at least one non-null df\n",
    "# if not all(df is None for df in holdings_df_list):\n",
    "#     concat_holdings_df = pd.concat(holdings_df_list)\n",
    "\n",
    "#     # create empty plaid_investment_holdings_YYYYMMDD to upload holdings to\n",
    "#     plaid_investments.create_empty_investment_holdings_bq_table(\n",
    "#         offset_days=offset_days,\n",
    "#         write_disposition=write_disposition,\n",
    "#     )\n",
    "#     print(\"SLEEP 5 SECONDS TO WAIT FOR plaid_investment_holdings_YYYYMMDD creation\\n\")\n",
    "#     time.sleep(5)\n",
    "#     plaid_investments.upload_investment_holdings_df_to_bq(concat_holdings_df, offset_days)\n",
    "# else:\n",
    "#     print(\"No investment holdings present in concat_investment_holdings_df\")\n",
    "\n",
    "# only upload investment_transactions_df to BQ if there is at least one non-null df\n",
    "if not all(df is None for df in investment_transactions_df_list):\n",
    "    concat_investment_transactions_df = pd.concat(investment_transactions_df_list)\n",
    "\n",
    "    # create empty plaid_investment_transactions_YYYYMMDD to upload transactions to\n",
    "    plaid_investments.create_empty_investment_transactions_bq_table(\n",
    "        offset_days=offset_days, write_disposition=write_disposition\n",
    "    )\n",
    "    print(\"SLEEP 5 SECONDS TO WAIT FOR plaid_investment_transactions_YYYYMMDD creation\\n\")\n",
    "    time.sleep(5)\n",
    "    plaid_investments.upload_investment_transactions_df_to_bq(concat_investment_transactions_df, offset_days)\n",
    "else:\n",
    "    print(\"No investment transactions present in concat_investment_transactions_df\")\n",
    "\n",
    "print(\"SUCCESS: investment data uploaded to BQ\")"
   ]
  },
  {
   "cell_type": "markdown",
   "id": "9ead2a41",
   "metadata": {},
   "source": [
    "# Test Delete all Partitions"
   ]
  },
  {
   "cell_type": "code",
   "execution_count": null,
   "id": "c9e8fa9e",
   "metadata": {},
   "outputs": [],
   "source": [
    "removed_transaction_bq = bq_tables.plaid_removed_transactions_YYYYMMDD()\n",
    "transaction_bq = bq_tables.plaid_transactions_YYYYMMDD()\n",
    "accounts_bq = bq_tables.financial_accounts_YYYYMMDD()\n",
    "\n",
    "# bq.delete_all_partitions(\n",
    "#     project_id=transaction_bq[\"project_id\"],\n",
    "#     dataset_id=transaction_bq[\"dataset_id\"],\n",
    "#     table_id=transaction_bq[\"table_id\"],\n",
    "#     confirm=True,\n",
    "# )"
   ]
  }
 ],
 "metadata": {
  "kernelspec": {
   "display_name": "Python 3 (ipykernel)",
   "language": "python",
   "name": "python3"
  },
  "language_info": {
   "codemirror_mode": {
    "name": "ipython",
    "version": 3
   },
   "file_extension": ".py",
   "mimetype": "text/x-python",
   "name": "python",
   "nbconvert_exporter": "python",
   "pygments_lexer": "ipython3",
   "version": "3.8.2"
  }
 },
 "nbformat": 4,
 "nbformat_minor": 5
}
