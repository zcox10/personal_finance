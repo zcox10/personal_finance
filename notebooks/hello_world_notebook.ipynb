{
 "cells": [
  {
   "cell_type": "code",
   "execution_count": 17,
   "id": "e0812f83-c19e-4cbd-97eb-859a1c81fb02",
   "metadata": {},
   "outputs": [],
   "source": [
    "# add to sys.path\n",
    "import sys\n",
    "\n",
    "sys.path.insert(0, \"../src\")\n",
    "\n",
    "# external imports\n",
    "import pandas as pd\n",
    "import plaid\n",
    "from google.cloud import bigquery\n",
    "\n",
    "# src imports\n",
    "from src.utils.bq_utils import BqUtils\n",
    "from src.utils.plaid_utils import PlaidUtils\n",
    "\n",
    "pd.set_option(\"display.max_rows\", 1000)\n",
    "pd.set_option(\"display.max_columns\", 1000)\n",
    "pd.set_option(\"display.width\", 1000)\n",
    "pd.set_option(\"display.max_colwidth\", 1000)"
   ]
  },
  {
   "cell_type": "code",
   "execution_count": 18,
   "id": "e167768c-4f03-4a3c-9531-72ebe9d803b1",
   "metadata": {},
   "outputs": [],
   "source": [
    "PLAID_CLIENT_ID = \"65975384ab670e001c0aaf0d\"\n",
    "# PLAID_SECRET=\"56e33c77237c8c9e45f5c066b8b2fa\" #production\n",
    "PLAID_SECRET = \"9294dd5ca4a5c99d90da56640f40e5\"  # sandbox\n",
    "PLAID_ENV = \"sandbox\"\n",
    "PLAID_PRODUCTS = [\"liabilities\", \"transactions\", \"investments\"]\n",
    "PLAID_COUNTRY_CODES = [\"US\"]\n",
    "PLAID_HOST = plaid.Environment.Sandbox\n",
    "# PLAID_REDIRECT_URI=\"https://localhost:3000/\""
   ]
  },
  {
   "cell_type": "code",
   "execution_count": 19,
   "id": "6d92c3de-53c7-4efa-b675-8b269815da53",
   "metadata": {},
   "outputs": [],
   "source": [
    "# Assuming bq_utils_instance is already defined\n",
    "# bq_client_init = bigquery.Client.from_service_account_json('path/to/your/service_account_key.json')\n",
    "bq_client_init = bigquery.Client()\n",
    "\n",
    "bq_ = BqUtils(bq_client=bq_client_init)"
   ]
  },
  {
   "cell_type": "code",
   "execution_count": 20,
   "id": "c03ce08d-cc64-4155-8ee4-806bd868be26",
   "metadata": {},
   "outputs": [],
   "source": [
    "# Instantiate PlaidUtils with Plaid API credentials\n",
    "plaid_ = PlaidUtils(bq_, client_id=PLAID_CLIENT_ID, client_secret=PLAID_SECRET, host=PLAID_HOST)"
   ]
  },
  {
   "cell_type": "code",
   "execution_count": 22,
   "id": "7b67875b-7dcd-45f0-8801-f03ab9d13ecb",
   "metadata": {},
   "outputs": [
    {
     "data": {
      "text/plain": [
       "'20240324'"
      ]
     },
     "execution_count": 22,
     "metadata": {},
     "output_type": "execute_result"
    }
   ],
   "source": [
    "bq_.get_partition_date()"
   ]
  },
  {
   "cell_type": "code",
   "execution_count": 23,
   "id": "eb9260ff-1bae-4ceb-8c14-e529e20731b4",
   "metadata": {},
   "outputs": [
    {
     "data": {
      "text/plain": [
       "'20240323'"
      ]
     },
     "execution_count": 23,
     "metadata": {},
     "output_type": "execute_result"
    }
   ],
   "source": []
  },
  {
   "cell_type": "code",
   "execution_count": null,
   "id": "2a7a6a6b-0bc8-4a6e-b867-b11efaa80726",
   "metadata": {},
   "outputs": [],
   "source": [
    "partition_str = get_current_date_partition(offset_days=0)\n",
    "destination_table_id = \"account_cursors_\" + partition_str\n",
    "accounts_table_id = \"financial_accounts\"\n",
    "\n",
    "create_new_cursors_bq_table(\n",
    "    dataset_id=\"personal_finance\", destination_table_id=destination_table_id, accounts_table_id=accounts_table_id\n",
    ")"
   ]
  },
  {
   "cell_type": "code",
   "execution_count": null,
   "id": "9c5d0bad-6854-4e0c-8815-ba32e21b6c82",
   "metadata": {},
   "outputs": [],
   "source": [
    "for r in removed:\n",
    "    print(r)"
   ]
  },
  {
   "cell_type": "markdown",
   "id": "04206f5c-14bd-4b31-9c40-228a769084c5",
   "metadata": {},
   "source": [
    "# Run Functions"
   ]
  },
  {
   "cell_type": "code",
   "execution_count": null,
   "id": "f6b2e373-16b7-402e-a09f-8bdb1e2daa8f",
   "metadata": {},
   "outputs": [],
   "source": [
    "access_token = chase_access_token\n",
    "dataset_id = \"personal_finance\"\n",
    "table_id = \"financial_accounts\"\n",
    "\n",
    "table_ref = bq_client.dataset(dataset_id).table(table_id)\n",
    "\n",
    "get_cursor_df = bq_client.query(\n",
    "    f\"\"\"\n",
    "SELECT DISTINCT cursor\n",
    "FROM `{table_ref}`\n",
    "GROUP BY 1,2\n",
    "\"\"\"\n",
    ").to_dataframe()"
   ]
  },
  {
   "cell_type": "markdown",
   "id": "eecd56da-4ef2-4238-af55-f9a711fb6a57",
   "metadata": {},
   "source": [
    "### Delete / Create accounts table"
   ]
  },
  {
   "cell_type": "code",
   "execution_count": null,
   "id": "6eda215f-576d-41aa-93dc-2a12c6c6d581",
   "metadata": {},
   "outputs": [],
   "source": [
    "# delete_bq_table(\n",
    "#     dataset_id=\"personal_finance\",\n",
    "#     table_id=\"financial_accounts\"\n",
    "# )"
   ]
  },
  {
   "cell_type": "code",
   "execution_count": null,
   "id": "6099af96-eec0-4033-a63c-59c7ed6ca0e2",
   "metadata": {},
   "outputs": [],
   "source": [
    "# create_accounts_table(\n",
    "#     dataset_id=\"personal_finance\",\n",
    "#     table_id=\"financial_accounts\",\n",
    "#     table_description=\"Stores all account data.  Field descriptions available at https://plaid.com/docs/api/accounts/#accounts-get-response-accounts-persistent-account-id\"\n",
    "# )"
   ]
  },
  {
   "cell_type": "markdown",
   "id": "3acde7be-603f-4ae0-a001-852514592823",
   "metadata": {},
   "source": [
    "### Add Chase accounts"
   ]
  },
  {
   "cell_type": "code",
   "execution_count": null,
   "id": "6ccd38d6-248f-42d9-9420-e30b8ec7e8f8",
   "metadata": {},
   "outputs": [],
   "source": [
    "chase_access_token = \"access-sandbox-747b2b77-8d2f-4318-9c44-635e3fc4575d\""
   ]
  },
  {
   "cell_type": "code",
   "execution_count": null,
   "id": "dd4b7206-a473-4c16-b25b-93734a763c34",
   "metadata": {},
   "outputs": [],
   "source": [
    "# add_accounts_to_bq(\n",
    "#     access_token=chase_access_token,\n",
    "#     dataset_id=\"personal_finance\",\n",
    "#     table_id=\"financial_accounts\"\n",
    "# )"
   ]
  },
  {
   "cell_type": "markdown",
   "id": "e0bf4b3b-f99c-4c74-ac8b-af6d4bd876c3",
   "metadata": {},
   "source": [
    "### Add Schwab Accounts"
   ]
  },
  {
   "cell_type": "code",
   "execution_count": null,
   "id": "1f57ea03-85b8-470a-8701-70df0dcba34a",
   "metadata": {},
   "outputs": [],
   "source": [
    "schwab_access_token = \"access-sandbox-5f048cf7-c0fe-4811-8769-cb35b8558528\""
   ]
  },
  {
   "cell_type": "code",
   "execution_count": null,
   "id": "94d44c8b-f9b9-4b5a-956e-890f20cfa287",
   "metadata": {},
   "outputs": [],
   "source": [
    "# add_accounts_to_bq(\n",
    "#     access_token=schwab_access_token,\n",
    "#     dataset_id=\"personal_finance\",\n",
    "#     table_id=\"financial_accounts\"\n",
    "# )"
   ]
  },
  {
   "cell_type": "code",
   "execution_count": null,
   "id": "ff9564ca-ed56-461a-9840-f9e4995ff44f",
   "metadata": {},
   "outputs": [],
   "source": [
    "pretty_print_response(get_accounts(wf_access_token))"
   ]
  },
  {
   "cell_type": "markdown",
   "id": "ac7c0217-7981-45f4-bc1c-ae1334694351",
   "metadata": {},
   "source": [
    "## Delete table"
   ]
  },
  {
   "cell_type": "code",
   "execution_count": null,
   "id": "79457a72-6575-4ce6-bbf0-7702e8058dfc",
   "metadata": {},
   "outputs": [],
   "source": []
  },
  {
   "cell_type": "markdown",
   "id": "0c0947b8-ed1c-4aa5-8321-237b450d2579",
   "metadata": {},
   "source": [
    "# Comments"
   ]
  },
  {
   "cell_type": "markdown",
   "id": "2a86d794-f7c1-4d96-af2f-7c7b2c679aef",
   "metadata": {},
   "source": [
    "## Start"
   ]
  },
  {
   "cell_type": "code",
   "execution_count": null,
   "id": "0ba49360-e3d3-49a5-a840-f8a79eee68a2",
   "metadata": {},
   "outputs": [],
   "source": [
    "# def empty_to_none(field):\n",
    "#     value = os.getenv(field)\n",
    "#     if value is None or len(value) == 0:\n",
    "#         return None\n",
    "#     return value\n",
    "\n",
    "# host = plaid.Environment.Sandbox\n",
    "\n",
    "# if PLAID_ENV == 'sandbox':\n",
    "#     host = plaid.Environment.Sandbox\n",
    "\n",
    "# if PLAID_ENV == 'development':\n",
    "#     host = plaid.Environment.Development\n",
    "\n",
    "# if PLAID_ENV == 'production':\n",
    "#     host = plaid.Environment.Production\n",
    "\n",
    "# configuration = plaid.Configuration(\n",
    "#     host=host,\n",
    "#     api_key={\n",
    "#         'clientId': PLAID_CLIENT_ID,\n",
    "#         'secret': PLAID_SECRET,\n",
    "#         'plaidVersion': '2020-09-14'\n",
    "#     }\n",
    "# )\n",
    "\n",
    "# api_client = plaid.ApiClient(configuration)\n",
    "# client = plaid_api.PlaidApi(api_client)\n",
    "\n",
    "# products = []\n",
    "# for product in PLAID_PRODUCTS:\n",
    "#     products.append(Products(product))"
   ]
  },
  {
   "cell_type": "markdown",
   "id": "952323d1-2c30-43bd-9c9f-c696e09d91f3",
   "metadata": {},
   "source": [
    "## Transactions"
   ]
  },
  {
   "cell_type": "code",
   "execution_count": null,
   "id": "f4511db7-604c-49bf-a284-6e021eae445c",
   "metadata": {},
   "outputs": [],
   "source": []
  },
  {
   "cell_type": "code",
   "execution_count": null,
   "id": "a48354ce-8848-4bfc-a2b3-92422d89e18b",
   "metadata": {},
   "outputs": [],
   "source": [
    "def get_transactions(access_token):\n",
    "    try:\n",
    "        # Fetch transactions for the account\n",
    "        request = TransactionsSyncRequest(\n",
    "            access_token=access_token,\n",
    "            cursor=\"\",\n",
    "            count=500\n",
    "          )\n",
    "        \n",
    "        # request = TransactionsGetRequest(\n",
    "        #     access_token=access_token,\n",
    "        #     start_date=start_date,\n",
    "        #     end_date=end_date,\n",
    "            options=TransactionsGetRequestOptions(\n",
    "                count=500\n",
    "            )\n",
    "        # )\n",
    "        \n",
    "        response = plaid_client.transactions_sync(request)\n",
    "        transactions = response.to_dict()\n",
    "        \n",
    "        print(\"SUCCESS: retrieved transactions!\")\n",
    "        \n",
    "        return transactions\n",
    "        \n",
    "    except plaid.ApiException as e:\n",
    "        print(\"ERROR:\", e)"
   ]
  },
  {
   "cell_type": "code",
   "execution_count": null,
   "id": "5dc55b25-6b36-49a2-ac53-a88155ebad9e",
   "metadata": {},
   "outputs": [],
   "source": [
    "def create_transactions_df(transactions):\n",
    "    account_ids = []\n",
    "    account_owners = []\n",
    "    amounts = []\n",
    "    authorized_dates = []\n",
    "    authorized_datetimes = []\n",
    "    categories = []\n",
    "    category_ids = []\n",
    "    check_numbers = []\n",
    "    counterparties = []\n",
    "    dates = []\n",
    "    datetimes = []\n",
    "    currency_codes = []\n",
    "    addresses = []\n",
    "    cities = []\n",
    "    regions = []\n",
    "    postal_codes = []\n",
    "    countries = []\n",
    "    latitudes = []\n",
    "    longitudes = []\n",
    "    store_numbers = []\n",
    "    merchant_entity_ids = []\n",
    "    merchant_names = []\n",
    "    names = []\n",
    "    payment_channels = []\n",
    "    reference_numbers = []\n",
    "    ppd_ids = []\n",
    "    payees = []\n",
    "    by_order_ofs = []\n",
    "    payers = []\n",
    "    payment_methods = []\n",
    "    payment_processors = []\n",
    "    reasons = []\n",
    "    pendings = []\n",
    "    pending_transaction_ids = []\n",
    "    personal_finance_category_confidence_levels = []\n",
    "    personal_finance_category_detailed = []\n",
    "    personal_finance_category_primaries = []\n",
    "    transaction_codes = []\n",
    "    transaction_ids = []\n",
    "    transaction_types = []\n",
    "    unofficial_currency_codes = []\n",
    "    websites = []\n",
    "    statuses = []\n",
    "\n",
    "    for t in transactions:\n",
    "        account_ids.append(t[\"account_id\"])\n",
    "        account_owners.append(t[\"account_owner\"])\n",
    "        amounts.append(t[\"amount\"])\n",
    "        authorized_dates.append(t[\"authorized_date\"])\n",
    "        authorized_datetimes.append(t[\"authorized_datetime\"])\n",
    "        categories.append(t[\"category\"])\n",
    "        category_ids.append(t[\"category_id\"])\n",
    "        check_numbers.append(t[\"check_number\"])\n",
    "        counterparties.append(t[\"counterparties\"])\n",
    "        dates.append(t[\"date\"])\n",
    "        datetimes.append(t[\"datetime\"])\n",
    "        currency_codes.append(t[\"iso_currency_code\"])\n",
    "\n",
    "        # transaction type\n",
    "        transaction_types.append(\"ADDED\")\n",
    "\n",
    "        # location\n",
    "        addresses.append(t[\"location\"][\"address\"])\n",
    "        cities.append(t[\"location\"][\"city\"])\n",
    "        regions.append(t[\"location\"][\"region\"])\n",
    "        postal_codes.append(t[\"location\"][\"postal_code\"])\n",
    "        countries.append(t[\"location\"][\"country\"])\n",
    "        latitudes.append(t[\"location\"][\"lat\"])\n",
    "        longitudes.append(t[\"location\"][\"lon\"])\n",
    "        store_numbers.append(t[\"location\"][\"store_number\"])\n",
    "\n",
    "        # merchant\n",
    "        merchant_entity_ids.append(t[\"merchant_entity_id\"])\n",
    "        merchant_names.append(t[\"merchant_name\"])\n",
    "        names.append(t[\"name\"])\n",
    "        payment_channels.append(t[\"payment_channel\"])\n",
    "\n",
    "        # payment meta\n",
    "        reference_numbers.append(t[\"payment_meta\"][\"reference_number\"])\n",
    "        ppd_ids.append(t[\"payment_meta\"][\"ppd_id\"])\n",
    "        payees.append(t[\"payment_meta\"][\"payee\"])\n",
    "        by_order_ofs.append(t[\"payment_meta\"][\"by_order_of\"])\n",
    "        payers.append(t[\"payment_meta\"][\"payer\"])\n",
    "        payment_methods.append(t[\"payment_meta\"][\"payment_method\"])\n",
    "        payment_processors.append(t[\"payment_meta\"][\"payment_processor\"])\n",
    "        reasons.append(t[\"payment_meta\"][\"reason\"])\n",
    "\n",
    "        pendings.append(t[\"pending\"])\n",
    "        pending_transaction_ids.append(t[\"pending_transaction_id\"])\n",
    "\n",
    "        # personal finance\n",
    "        personal_finance_category_confidence_levels.append(t[\"personal_finance_category\"][\"confidence_level\"])\n",
    "        personal_finance_category_detailed.append(t[\"personal_finance_category\"][\"detailed\"])\n",
    "        personal_finance_category_primaries.append(t[\"personal_finance_category\"][\"primary\"])\n",
    "\n",
    "        transaction_codes.append(t[\"transaction_code\"])\n",
    "        transaction_ids.append(t[\"transaction_id\"])\n",
    "        transaction_types.append(t[\"transaction_type\"])\n",
    "        unofficial_currency_codes.append(t[\"unofficial_currency_code\"])\n",
    "        websites.append(t[\"website\"])\n",
    "\n",
    "    # add account data to accounts_df\n",
    "    transactions_df = pd.DataFrame(\n",
    "        {\n",
    "            \"account_id\": account_ids,\n",
    "            \"account_owner\": account_owners,\n",
    "            \"amount\": amounts,\n",
    "            \"authorized_date\": authorized_dates,\n",
    "            \"authorized_datetime\": authorized_datetimes,\n",
    "            \"category\": categories,\n",
    "            \"category_id\": category_ids,\n",
    "            \"check_number\": check_numbers,\n",
    "            \"counterparties\": counterparties,\n",
    "            \"date\": dates,\n",
    "            \"datetimes\": datetimes,\n",
    "            \"currency_code\": currency_codes,\n",
    "            \"address\": addresses,\n",
    "            \"city\": cities,\n",
    "            \"region\": regions,\n",
    "            \"postal_code\": postal_codes,\n",
    "            \"latitude\": latitudes,\n",
    "            \"longitude\": longitudes,\n",
    "            \"merchant_entity_id\": merchant_entity_ids,\n",
    "            \"merchant_name\": merchant_names,\n",
    "            \"name\": names,\n",
    "            \"payment_channel\": payment_channels,\n",
    "            \"reference_number\": reference_numbers,\n",
    "            \"ppd_id\": ppd_ids,\n",
    "            \"payee\": payees,\n",
    "            \"by_order_of\": by_order_ofs,\n",
    "            \"payer\": payers,\n",
    "            \"payment_method\": payment_methods,\n",
    "            \"payment_processor\": payment_processors,\n",
    "            \"reason\": reasons,\n",
    "            \"pending\": pendings,\n",
    "            \"pending_transaction_id\": pending_transaction_ids,\n",
    "            \"personal_finance_category_confidence_level\": personal_finance_category_confidence_levels,\n",
    "            \"personal_finance_category_detailed\": personal_finance_category_detailed,\n",
    "            \"personal_finance_category_primary\": personal_finance_category_primaries,\n",
    "            \"transaction_code\": transaction_codes,\n",
    "            \"transaction_id\": transaction_ids,\n",
    "            \"transaction_type\": transaction_types,\n",
    "            \"unofficial_currency_code\": unofficial_currency_codes,\n",
    "            \"website\": websites,\n",
    "        }\n",
    "    )\n",
    "\n",
    "    return transactions_dfa"
   ]
  },
  {
   "cell_type": "code",
   "execution_count": null,
   "id": "9c6351ae-1b4a-4c06-ace4-c0a5d0cabc41",
   "metadata": {},
   "outputs": [],
   "source": [
    "# Define the start and end dates for the transaction query\n",
    "start_date = (datetime.datetime.now() - timedelta(days=90)).date()\n",
    "end_date = datetime.datetime.now().date()"
   ]
  },
  {
   "cell_type": "code",
   "execution_count": null,
   "id": "b3f6e7f0-a5fa-4289-ada7-813796209ebc",
   "metadata": {},
   "outputs": [],
   "source": [
    "transactions = get_transactions(chase_access_token)\n",
    "\n",
    "create_transactions_df(transactions)"
   ]
  },
  {
   "cell_type": "code",
   "execution_count": null,
   "id": "023953f2-d7f1-490d-b94c-85fd8bd2ca41",
   "metadata": {
    "scrolled": true
   },
   "outputs": [],
   "source": [
    "transactions_json"
   ]
  },
  {
   "cell_type": "code",
   "execution_count": null,
   "id": "4ec0fb2f-aa8d-4f64-8d00-3ce680281b1f",
   "metadata": {},
   "outputs": [],
   "source": []
  },
  {
   "cell_type": "code",
   "execution_count": null,
   "id": "37c60f87-93ec-4eae-a66f-87738b57122f",
   "metadata": {},
   "outputs": [],
   "source": [
    "# accounts_ids = []\n",
    "# account_owners = []\n",
    "\n",
    "# pretty_print_response(transactions_json)"
   ]
  },
  {
   "cell_type": "code",
   "execution_count": null,
   "id": "78bb96db-6caf-4e56-b0d7-36e95638758a",
   "metadata": {},
   "outputs": [],
   "source": [
    "transactions_json[\"transactions\"][0][\"location\"]"
   ]
  },
  {
   "cell_type": "code",
   "execution_count": null,
   "id": "ef6de711-d99e-409f-9d2b-1bcf2ae82b36",
   "metadata": {},
   "outputs": [],
   "source": [
    "# transactions_df = pd.json_normalize(transactions)"
   ]
  },
  {
   "cell_type": "code",
   "execution_count": null,
   "id": "65a2bf16-68d8-41c9-a9f8-206f45693110",
   "metadata": {},
   "outputs": [],
   "source": [
    "# transactions_df"
   ]
  },
  {
   "cell_type": "code",
   "execution_count": null,
   "id": "e5781c0d-f001-40e5-a418-a74e3e7b2681",
   "metadata": {},
   "outputs": [],
   "source": [
    "transactions_json[\"transactions\"]"
   ]
  },
  {
   "cell_type": "code",
   "execution_count": null,
   "id": "f6db541b-c7ac-4b16-9e2c-dd2f4465f516",
   "metadata": {},
   "outputs": [],
   "source": []
  },
  {
   "cell_type": "markdown",
   "id": "5dbdae96-197a-49f7-8572-fa00129d245c",
   "metadata": {
    "jp-MarkdownHeadingCollapsed": true
   },
   "source": [
    "## Test get_accounts"
   ]
  },
  {
   "cell_type": "code",
   "execution_count": null,
   "id": "08778150-c26d-40b8-ba97-03c3045f2950",
   "metadata": {},
   "outputs": [],
   "source": [
    "# test = get_accounts(access_token=access_token, client=client)\n",
    "# test"
   ]
  },
  {
   "cell_type": "markdown",
   "id": "bdc0c072-a9e3-4c4b-8722-bec94a9b2ae6",
   "metadata": {},
   "source": [
    "## Dates"
   ]
  },
  {
   "cell_type": "code",
   "execution_count": null,
   "id": "26037b2b-dcd2-4d31-8855-707760021b6d",
   "metadata": {},
   "outputs": [],
   "source": []
  },
  {
   "cell_type": "markdown",
   "id": "52ffa365-a96f-42ec-9447-899633d57b8f",
   "metadata": {},
   "source": [
    "## Link Tokens"
   ]
  },
  {
   "cell_type": "code",
   "execution_count": null,
   "id": "cb78d9be-006e-4f85-91ca-be1fa47e62f7",
   "metadata": {},
   "outputs": [],
   "source": [
    "# def create_link_token():\n",
    "#     try:\n",
    "#         request = LinkTokenCreateRequest(\n",
    "#             products=products,\n",
    "#             client_name=\"Plaid Quickstart\",\n",
    "#             country_codes=list(map(lambda x: CountryCode(x), PLAID_COUNTRY_CODES)),\n",
    "#             language='en',\n",
    "#             user=LinkTokenCreateRequestUser(\n",
    "#                 client_user_id=str(time.time())\n",
    "#             )\n",
    "#         )\n",
    "#         if PLAID_REDIRECT_URI!=None:\n",
    "#             request['redirect_uri']=PLAID_REDIRECT_URI\n",
    "#     # create link token\n",
    "#         response = client.link_token_create(request)\n",
    "#         return response.to_dict()\n",
    "#         # return jsonify(response.to_dict())\n",
    "#     except plaid.ApiException as e:\n",
    "#         return json.loads(e.body)"
   ]
  },
  {
   "cell_type": "code",
   "execution_count": null,
   "id": "ec1f12ec-5989-407f-8e45-bf7721c1b2c2",
   "metadata": {},
   "outputs": [],
   "source": [
    "# link_token_request = create_link_token()"
   ]
  },
  {
   "cell_type": "code",
   "execution_count": null,
   "id": "30438d87-6066-4252-95bf-30ead53b7cc1",
   "metadata": {},
   "outputs": [],
   "source": [
    "# link_token_request"
   ]
  },
  {
   "cell_type": "code",
   "execution_count": null,
   "id": "696f51de-f2a4-45be-96c3-0201cb339778",
   "metadata": {},
   "outputs": [],
   "source": [
    "# link_token_request['link_token']"
   ]
  },
  {
   "cell_type": "markdown",
   "id": "1ede6315-b791-48e5-99e9-ba97d954fc54",
   "metadata": {},
   "source": [
    "## Test BigQuery"
   ]
  },
  {
   "cell_type": "code",
   "execution_count": null,
   "id": "522a07ea-c14f-4d77-8004-e9cc3027855d",
   "metadata": {},
   "outputs": [],
   "source": [
    "# Initialize a client\n",
    "# client = bigquery.Client()"
   ]
  },
  {
   "cell_type": "code",
   "execution_count": null,
   "id": "859bb4da-7c20-4b04-8ec9-271247a09451",
   "metadata": {},
   "outputs": [],
   "source": [
    "# # Define your dataset ID and table ID\n",
    "# dataset_id = 'personal_finance'\n",
    "# table_id = 'test_table'"
   ]
  },
  {
   "cell_type": "code",
   "execution_count": null,
   "id": "01d1b15c-3cdc-4341-bd79-f017e3d4f912",
   "metadata": {},
   "outputs": [],
   "source": [
    "# # Define your schema\n",
    "# schema = [\n",
    "#     bigquery.SchemaField(\"column1\", \"STRING\"),\n",
    "#     bigquery.SchemaField(\"column2\", \"INTEGER\"),\n",
    "#     # Add more fields as needed\n",
    "# ]\n",
    "\n",
    "# # Define your table\n",
    "# table = bigquery.Table(f\"{client.project}.{dataset_id}.{table_id}\", schema=schema)\n",
    "\n",
    "# # Create the table\n",
    "# table = client.create_table(table)\n",
    "\n",
    "# # Insert data into the table\n",
    "# rows_to_insert = [\n",
    "#     {\"column1\": \"value1\", \"column2\": 1},\n",
    "#     {\"column1\": \"value2\", \"column2\": 2},\n",
    "#     # Add more rows as needed\n",
    "# ]\n",
    "\n",
    "# # Insert the rows into the table\n",
    "# client.insert_rows(table, rows_to_insert)\n",
    "\n",
    "# print(\"Data inserted successfully!\")"
   ]
  },
  {
   "cell_type": "code",
   "execution_count": null,
   "id": "df5b8c78-9f5d-4d79-9074-fa843a6e6f79",
   "metadata": {},
   "outputs": [],
   "source": []
  }
 ],
 "metadata": {
  "kernelspec": {
   "display_name": "Python 3 (ipykernel)",
   "language": "python",
   "name": "python3"
  },
  "language_info": {
   "codemirror_mode": {
    "name": "ipython",
    "version": 3
   },
   "file_extension": ".py",
   "mimetype": "text/x-python",
   "name": "python",
   "nbconvert_exporter": "python",
   "pygments_lexer": "ipython3",
   "version": "3.8.2"
  }
 },
 "nbformat": 4,
 "nbformat_minor": 5
}
