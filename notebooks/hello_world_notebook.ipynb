{
 "cells": [
  {
   "cell_type": "markdown",
   "id": "93b8c45a",
   "metadata": {},
   "source": [
    "# Imports"
   ]
  },
  {
   "cell_type": "code",
   "execution_count": 1,
   "id": "e0812f83-c19e-4cbd-97eb-859a1c81fb02",
   "metadata": {},
   "outputs": [],
   "source": [
    "# add to sys.path\n",
    "import sys\n",
    "\n",
    "sys.path.insert(0, \"../\")\n",
    "sys.path.insert(0, \"../src\")"
   ]
  },
  {
   "cell_type": "code",
   "execution_count": 2,
   "id": "b5a4a4c6",
   "metadata": {},
   "outputs": [],
   "source": [
    "import time\n",
    "import logging\n",
    "import pandas as pd\n",
    "\n",
    "from datetime import timedelta, datetime as dt, timezone\n",
    "from dateutil.relativedelta import relativedelta\n",
    "import plaid\n",
    "\n",
    "\n",
    "# gcp\n",
    "from google.cloud import bigquery\n",
    "from google.cloud import pubsub_v1\n",
    "from google.cloud import scheduler_v1\n",
    "from google.cloud import functions_v2\n",
    "from google.cloud.functions_v1.types import ListFunctionsRequest\n",
    "from google.protobuf import duration_pb2\n",
    "\n",
    "# SCHEMAS\n",
    "from jobs.bq_table_schemas import BqTableSchemas\n",
    "from jobs.cloud_schemas import CloudSchemas\n",
    "\n",
    "\n",
    "# UTILS\n",
    "from utils.bq_utils import BqUtils\n",
    "from utils.plaid_utils import PlaidUtils\n",
    "from utils.secrets_utils import SecretsUtils\n",
    "from utils.budget_values import BudgetValues\n",
    "from utils.financial_accounts import FinancialAccounts\n",
    "from utils.plaid_transactions import PlaidTransactions\n",
    "from utils.plaid_investments import PlaidInvestments\n",
    "\n",
    "\n",
    "# get all secrets\n",
    "sec = SecretsUtils()\n",
    "secrets = sec.create_secrets_dict(job_type=\"main_financial_accounts\", secret_type=\"DEV\")\n",
    "PLAID_CLIENT_ID = secrets[\"PLAID_CLIENT_ID\"]\n",
    "PLAID_SECRET = secrets[\"PLAID_SECRET_DEV\"]\n",
    "PLAID_ACCESS_TOKENS = sec.get_access_token_secrets(secrets)\n",
    "PLAID_HOST = plaid.Environment.Development\n",
    "PLAID_PRODUCTS = [\"liabilities\", \"transactions\", \"investments\"]\n",
    "PLAID_COUNTRY_CODES = [\"US\"]\n",
    "\n",
    "# initialize clients\n",
    "bq_client = bigquery.Client()\n",
    "bq = BqUtils(bq_client=bq_client)\n",
    "plaid_client = PlaidUtils(bq_client, PLAID_CLIENT_ID, PLAID_SECRET, PLAID_HOST)\n",
    "financial_accounts = FinancialAccounts(bq_client, plaid_client)\n",
    "plaid_transactions = PlaidTransactions(bq_client, plaid_client)\n",
    "plaid_investments = PlaidInvestments(bq_client, plaid_client)\n",
    "budget_values = BudgetValues(bq_client)\n",
    "bq_tables = BqTableSchemas()"
   ]
  },
  {
   "cell_type": "markdown",
   "id": "9ead2a41",
   "metadata": {},
   "source": [
    "# Test"
   ]
  },
  {
   "cell_type": "code",
   "execution_count": null,
   "id": "dbc72f27",
   "metadata": {},
   "outputs": [],
   "source": []
  }
 ],
 "metadata": {
  "kernelspec": {
   "display_name": "Python 3 (ipykernel)",
   "language": "python",
   "name": "python3"
  },
  "language_info": {
   "codemirror_mode": {
    "name": "ipython",
    "version": 3
   },
   "file_extension": ".py",
   "mimetype": "text/x-python",
   "name": "python",
   "nbconvert_exporter": "python",
   "pygments_lexer": "ipython3",
   "version": "3.8.2"
  }
 },
 "nbformat": 4,
 "nbformat_minor": 5
}
