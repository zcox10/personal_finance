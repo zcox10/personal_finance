{
 "cells": [
  {
   "cell_type": "markdown",
   "id": "93b8c45a",
   "metadata": {},
   "source": [
    "# Imports"
   ]
  },
  {
   "cell_type": "code",
   "execution_count": 1,
   "id": "e0812f83-c19e-4cbd-97eb-859a1c81fb02",
   "metadata": {},
   "outputs": [],
   "source": [
    "# add to sys.path\n",
    "import sys\n",
    "\n",
    "sys.path.insert(0, \"../\")\n",
    "sys.path.insert(0, \"../src\")"
   ]
  },
  {
   "cell_type": "code",
   "execution_count": 2,
   "id": "b5a4a4c6",
   "metadata": {},
   "outputs": [],
   "source": [
    "import time\n",
    "import logging\n",
    "import pandas as pd\n",
    "\n",
    "from datetime import timedelta, datetime as dt, timezone\n",
    "from dateutil.relativedelta import relativedelta\n",
    "import plaid\n",
    "\n",
    "\n",
    "# gcp\n",
    "from google.cloud import bigquery\n",
    "from google.cloud import pubsub_v1\n",
    "from google.cloud import scheduler_v1\n",
    "from google.cloud import functions_v2\n",
    "from google.cloud.functions_v1.types import ListFunctionsRequest\n",
    "from google.protobuf import duration_pb2\n",
    "\n",
    "# SCHEMAS\n",
    "from jobs.bq_table_schemas import BqTableSchemas\n",
    "from jobs.cloud_schemas import CloudSchemas\n",
    "\n",
    "\n",
    "# UTILS\n",
    "from utils.bq_utils import BqUtils\n",
    "from utils.plaid_utils import PlaidUtils\n",
    "from utils.secrets_utils import SecretsUtils\n",
    "from utils.budget_values import BudgetValues\n",
    "from utils.financial_accounts import FinancialAccounts\n",
    "from utils.plaid_transactions import PlaidTransactions\n",
    "from utils.plaid_investments import PlaidInvestments\n",
    "\n",
    "\n",
    "# get all secrets\n",
    "sec = SecretsUtils()\n",
    "secrets = sec.create_secrets_dict(secret_type=\"DEV\")\n",
    "PLAID_CLIENT_ID = secrets[\"PLAID_CLIENT_ID\"]\n",
    "PLAID_SECRET = secrets[\"PLAID_SECRET_DEV\"]\n",
    "PLAID_ACCESS_TOKENS = sec.get_access_token_secrets(secrets)\n",
    "PLAID_HOST = plaid.Environment.Development\n",
    "PLAID_PRODUCTS = [\"liabilities\", \"transactions\", \"investments\"]\n",
    "PLAID_COUNTRY_CODES = [\"US\"]\n",
    "\n",
    "# initialize clients\n",
    "bq_client = bigquery.Client()\n",
    "bq = BqUtils(bq_client=bq_client)\n",
    "plaid_client = PlaidUtils(bq_client, PLAID_CLIENT_ID, PLAID_SECRET, PLAID_HOST)\n",
    "financial_accounts = FinancialAccounts(bq_client, plaid_client)\n",
    "plaid_transactions = PlaidTransactions(bq_client, plaid_client)\n",
    "plaid_investments = PlaidInvestments(bq_client, plaid_client)\n",
    "budget_values = BudgetValues(bq_client)\n",
    "bq_tables = BqTableSchemas()\n",
    "\n",
    "pd.set_option(\"display.max_columns\", None)\n",
    "pd.set_option(\"display.max_rows\", None)\n",
    "pd.set_option(\"display.max_colwidth\", 1000)"
   ]
  },
  {
   "cell_type": "markdown",
   "id": "9ead2a41",
   "metadata": {},
   "source": [
    "# Budget Values"
   ]
  },
  {
   "cell_type": "code",
   "execution_count": 3,
   "id": "dbc72f27",
   "metadata": {},
   "outputs": [],
   "source": [
    "# for i in range(-19, 1):\n",
    "#     # print(bq.get_partition_date(i, partition_format=\"YYYYMM\"))\n",
    "#     budget_values.upload_budget_values_df_to_bq(offset=i)"
   ]
  },
  {
   "cell_type": "markdown",
   "id": "77df381a",
   "metadata": {},
   "source": [
    "# Access Tokens"
   ]
  },
  {
   "cell_type": "code",
   "execution_count": 4,
   "id": "0c5d006f",
   "metadata": {},
   "outputs": [],
   "source": [
    "# query = \"\"\"\n",
    "# SELECT\n",
    "#     table_name,\n",
    "# FROM `zsc-personal.personal_finance.INFORMATION_SCHEMA.TABLES`\n",
    "# WHERE SUBSTR(table_name, -8) >= \"20240526\"\n",
    "# \"\"\"\n",
    "# df = bq.query(query)\n",
    "\n",
    "# tables = list(df[\"full_table_name\"].unique())\n",
    "\n",
    "# print(tables)"
   ]
  },
  {
   "cell_type": "code",
   "execution_count": 5,
   "id": "99b20027",
   "metadata": {},
   "outputs": [],
   "source": [
    "# bq.delete_list_of_tables(project_id=\"zsc-personal\", dataset_id=\"personal_finance\", table_ids=tables, confirm=True)"
   ]
  },
  {
   "cell_type": "markdown",
   "id": "354200d9",
   "metadata": {},
   "source": [
    "# Chase"
   ]
  },
  {
   "cell_type": "code",
   "execution_count": null,
   "id": "bd16b1b5",
   "metadata": {},
   "outputs": [],
   "source": []
  },
  {
   "cell_type": "code",
   "execution_count": 6,
   "id": "bee4ac34",
   "metadata": {},
   "outputs": [
    {
     "name": "stderr",
     "output_type": "stream",
     "text": [
      "ERROR:root:\n",
      "Status Code: 400\n",
      "Reason: Bad Request\n",
      "HTTP response headers: HTTPHeaderDict({'Server': 'nginx', 'Date': 'Sat, 25 May 2024 16:11:52 GMT', 'Content-Type': 'application/json; charset=utf-8', 'Content-Length': '387', 'Connection': 'keep-alive', 'plaid-version': '2020-09-14'})\n",
      "HTTP response body: {\n",
      "  \"display_message\": null,\n",
      "  \"error_code\": \"ITEM_LOGIN_REQUIRED\",\n",
      "  \"error_message\": \"the login details of this item have changed (credentials, MFA, or required user action) and a user login is required to update this information. use Link's update mode to restore the item to a good state\",\n",
      "  \"error_type\": \"ITEM_ERROR\",\n",
      "  \"request_id\": \"WOytkGDpFwdLpLQ\",\n",
      "  \"suggested_action\": null\n",
      "}\n",
      "\n"
     ]
    }
   ],
   "source": [
    "hi = plaid_client.get_accounts(secrets[\"PLAID_TOKEN_CHASE\"])"
   ]
  },
  {
   "cell_type": "code",
   "execution_count": null,
   "id": "052257e3",
   "metadata": {},
   "outputs": [],
   "source": []
  }
 ],
 "metadata": {
  "kernelspec": {
   "display_name": "Python 3 (ipykernel)",
   "language": "python",
   "name": "python3"
  },
  "language_info": {
   "codemirror_mode": {
    "name": "ipython",
    "version": 3
   },
   "file_extension": ".py",
   "mimetype": "text/x-python",
   "name": "python",
   "nbconvert_exporter": "python",
   "pygments_lexer": "ipython3",
   "version": "3.8.2"
  }
 },
 "nbformat": 4,
 "nbformat_minor": 5
}
