{
 "cells": [
  {
   "cell_type": "markdown",
   "id": "93b8c45a",
   "metadata": {},
   "source": [
    "# Imports"
   ]
  },
  {
   "cell_type": "code",
   "execution_count": 1,
   "id": "e0812f83-c19e-4cbd-97eb-859a1c81fb02",
   "metadata": {},
   "outputs": [],
   "source": [
    "# add to sys.path\n",
    "import sys\n",
    "\n",
    "sys.path.insert(0, \"../\")\n",
    "sys.path.insert(0, \"../src\")"
   ]
  },
  {
   "cell_type": "code",
   "execution_count": 2,
   "id": "b5a4a4c6",
   "metadata": {},
   "outputs": [],
   "source": [
    "import time\n",
    "import logging\n",
    "import pandas as pd\n",
    "\n",
    "from datetime import datetime, timedelta\n",
    "import plaid\n",
    "\n",
    "\n",
    "# gcp\n",
    "from google.cloud import bigquery\n",
    "from google.cloud import pubsub_v1\n",
    "from google.cloud import scheduler_v1\n",
    "from google.cloud import functions_v2\n",
    "from google.cloud.functions_v1.types import ListFunctionsRequest\n",
    "from google.protobuf import duration_pb2\n",
    "\n",
    "# SCHEMAS\n",
    "from jobs.bq_table_schemas import BqTableSchemas\n",
    "from jobs.cloud_schemas import CloudSchemas\n",
    "\n",
    "# UTILS\n",
    "from utils.bq_utils import BqUtils\n",
    "from utils.plaid_utils import PlaidUtils\n",
    "from utils.secrets_utils import SecretsUtils\n",
    "from utils.financial_accounts import FinancialAccounts\n",
    "from utils.plaid_transactions import PlaidTransactions\n",
    "from utils.plaid_investments import PlaidInvestments\n",
    "\n",
    "# get all secrets\n",
    "sec = SecretsUtils()\n",
    "secrets = sec.create_secrets_dict(job_type=\"main_financial_accounts\", secret_type=\"DEV\")\n",
    "PLAID_CLIENT_ID = secrets[\"PLAID_CLIENT_ID\"]\n",
    "PLAID_SECRET = secrets[\"PLAID_SECRET_DEV\"]\n",
    "PLAID_ACCESS_TOKENS = sec.get_access_token_secrets(secrets)\n",
    "PLAID_HOST = plaid.Environment.Development\n",
    "PLAID_PRODUCTS = [\"liabilities\", \"transactions\", \"investments\"]\n",
    "PLAID_COUNTRY_CODES = [\"US\"]\n",
    "\n",
    "# initialize clients\n",
    "bq_client = bigquery.Client()\n",
    "bq = BqUtils(bq_client=bq_client)\n",
    "plaid_client = PlaidUtils(bq_client, PLAID_CLIENT_ID, PLAID_SECRET, PLAID_HOST)\n",
    "financial_accounts = FinancialAccounts(bq_client, plaid_client)\n",
    "plaid_transactions = PlaidTransactions(bq_client, plaid_client)\n",
    "plaid_investments = PlaidInvestments(bq_client, plaid_client)\n",
    "bq_tables = BqTableSchemas()\n",
    "\n",
    "pd.set_option(\"display.max_colwidth\", None)\n",
    "pd.set_option(\"display.max_columns\", None)"
   ]
  },
  {
   "cell_type": "markdown",
   "id": "9ead2a41",
   "metadata": {},
   "source": [
    "# Test Delete all Partitions"
   ]
  },
  {
   "cell_type": "code",
   "execution_count": 4,
   "id": "8628e17f",
   "metadata": {},
   "outputs": [],
   "source": [
    "functions_client = functions_v2.FunctionServiceClient()\n",
    "project_id = \"zsc-personal\"\n",
    "location = \"us-west1\"\n",
    "job_name = \"test-schedule\"\n",
    "topic_name = \"test-cloud-topic\"\n",
    "function_name = \"test-function\"\n",
    "function_args = {}"
   ]
  },
  {
   "cell_type": "code",
   "execution_count": 10,
   "id": "c9e8fa9e",
   "metadata": {},
   "outputs": [
    {
     "ename": "TypeError",
     "evalue": "Message must be initialized with a dict: google.cloud.functions.v2.BuildConfig",
     "output_type": "error",
     "traceback": [
      "\u001b[0;31m---------------------------------------------------------------------------\u001b[0m",
      "\u001b[0;31mTypeError\u001b[0m                                 Traceback (most recent call last)",
      "Cell \u001b[0;32mIn[10], line 8\u001b[0m\n\u001b[1;32m      1\u001b[0m \u001b[38;5;66;03m# parent = f\"projects/{project_id}/locations/{location}\"\u001b[39;00m\n\u001b[1;32m      2\u001b[0m \u001b[38;5;66;03m# response = functions_client.create_function(parent=parent, function=function_args)\u001b[39;00m\n\u001b[1;32m      3\u001b[0m \u001b[38;5;66;03m# print(f'SUCCESS: Cloud Function, \"{function_name}\", created!')\u001b[39;00m\n\u001b[0;32m   (...)\u001b[0m\n\u001b[1;32m      6\u001b[0m \n\u001b[1;32m      7\u001b[0m \u001b[38;5;66;03m# functions_v2.ServiceConfig()\u001b[39;00m\n\u001b[0;32m----> 8\u001b[0m \u001b[43mfunctions_v2\u001b[49m\u001b[38;5;241;43m.\u001b[39;49m\u001b[43mBuildConfig\u001b[49m\u001b[43m(\u001b[49m\n\u001b[1;32m      9\u001b[0m \u001b[43m    \u001b[49m\u001b[43mruntime\u001b[49m\u001b[38;5;241;43m=\u001b[39;49m\u001b[38;5;124;43m\"\u001b[39;49m\u001b[38;5;124;43mpython38\u001b[39;49m\u001b[38;5;124;43m\"\u001b[39;49m\u001b[43m,\u001b[49m\n\u001b[1;32m     10\u001b[0m \u001b[43m    \u001b[49m\u001b[43mentry_point\u001b[49m\u001b[38;5;241;43m=\u001b[39;49m\u001b[38;5;124;43m\"\u001b[39;49m\u001b[38;5;124;43mmain\u001b[39;49m\u001b[38;5;124;43m\"\u001b[39;49m\u001b[43m,\u001b[49m\n\u001b[1;32m     11\u001b[0m \u001b[43m    \u001b[49m\u001b[43msource\u001b[49m\u001b[38;5;241;43m=\u001b[39;49m\u001b[38;5;124;43m\"\u001b[39;49m\u001b[38;5;124;43m.\u001b[39;49m\u001b[38;5;124;43m\"\u001b[39;49m\u001b[43m,\u001b[49m\n\u001b[1;32m     12\u001b[0m \u001b[43m)\u001b[49m\n",
      "File \u001b[0;32m~/.pyenv/versions/3.8.2/envs/personal_finance/lib/python3.8/site-packages/proto/message.py:615\u001b[0m, in \u001b[0;36mMessage.__init__\u001b[0;34m(self, mapping, ignore_unknown_fields, **kwargs)\u001b[0m\n\u001b[1;32m    612\u001b[0m         params[key] \u001b[38;5;241m=\u001b[39m pb_value\n\u001b[1;32m    614\u001b[0m \u001b[38;5;66;03m# Create the internal protocol buffer.\u001b[39;00m\n\u001b[0;32m--> 615\u001b[0m \u001b[38;5;28msuper\u001b[39m()\u001b[38;5;241m.\u001b[39m\u001b[38;5;21m__setattr__\u001b[39m(\u001b[38;5;124m\"\u001b[39m\u001b[38;5;124m_pb\u001b[39m\u001b[38;5;124m\"\u001b[39m, \u001b[38;5;28;43mself\u001b[39;49m\u001b[38;5;241;43m.\u001b[39;49m\u001b[43m_meta\u001b[49m\u001b[38;5;241;43m.\u001b[39;49m\u001b[43mpb\u001b[49m\u001b[43m(\u001b[49m\u001b[38;5;241;43m*\u001b[39;49m\u001b[38;5;241;43m*\u001b[39;49m\u001b[43mparams\u001b[49m\u001b[43m)\u001b[49m)\n",
      "\u001b[0;31mTypeError\u001b[0m: Message must be initialized with a dict: google.cloud.functions.v2.BuildConfig"
     ]
    }
   ],
   "source": [
    "# parent = f\"projects/{project_id}/locations/{location}\"\n",
    "# response = functions_client.create_function(parent=parent, function=function_args)\n",
    "# print(f'SUCCESS: Cloud Function, \"{function_name}\", created!')\n",
    "# return response\n",
    "\n",
    "\n",
    "# functions_v2.ServiceConfig()\n",
    "functions_v2.BuildConfig(\n",
    "    runtime=\"python38\",\n",
    "    entry_point=\"main\",\n",
    "    source=\".\",\n",
    ")"
   ]
  },
  {
   "cell_type": "code",
   "execution_count": null,
   "id": "fd1ea478",
   "metadata": {},
   "outputs": [],
   "source": []
  }
 ],
 "metadata": {
  "kernelspec": {
   "display_name": "Python 3 (ipykernel)",
   "language": "python",
   "name": "python3"
  },
  "language_info": {
   "codemirror_mode": {
    "name": "ipython",
    "version": 3
   },
   "file_extension": ".py",
   "mimetype": "text/x-python",
   "name": "python",
   "nbconvert_exporter": "python",
   "pygments_lexer": "ipython3",
   "version": "3.8.2"
  }
 },
 "nbformat": 4,
 "nbformat_minor": 5
}
