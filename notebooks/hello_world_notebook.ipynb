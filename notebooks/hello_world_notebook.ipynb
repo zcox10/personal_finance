{
 "cells": [
  {
   "cell_type": "markdown",
   "id": "93b8c45a",
   "metadata": {},
   "source": [
    "# Imports"
   ]
  },
  {
   "cell_type": "code",
   "execution_count": 1,
   "id": "e0812f83-c19e-4cbd-97eb-859a1c81fb02",
   "metadata": {},
   "outputs": [],
   "source": [
    "# add to sys.path\n",
    "import sys\n",
    "\n",
    "sys.path.insert(0, \"../\")\n",
    "sys.path.insert(0, \"../src\")"
   ]
  },
  {
   "cell_type": "code",
   "execution_count": 2,
   "id": "b5a4a4c6",
   "metadata": {},
   "outputs": [],
   "source": [
    "import pandas as pd\n",
    "from google.cloud import bigquery\n",
    "import plaid\n",
    "from utils.bq_utils import BqUtils\n",
    "from utils.plaid_utils import PlaidUtils\n",
    "from sql.bq_table_schemas import BqTableSchemas\n",
    "\n",
    "pd.set_option(\"display.max_colwidth\", None)\n",
    "pd.set_option(\"display.max_columns\", None)\n",
    "\n",
    "\n",
    "PLAID_CLIENT_ID = \"65975384ab670e001c0aaf0d\"\n",
    "# PLAID_SECRET=\"56e33c77237c8c9e45f5c066b8b2fa\" #production\n",
    "PLAID_SECRET = \"9294dd5ca4a5c99d90da56640f40e5\"  # sandbox\n",
    "PLAID_ENV = \"sandbox\"\n",
    "PLAID_PRODUCTS = [\"liabilities\", \"transactions\", \"investments\"]\n",
    "PLAID_COUNTRY_CODES = [\"US\"]\n",
    "PLAID_HOST = plaid.Environment.Sandbox\n",
    "# PLAID_REDIRECT_URI=\"https://localhost:3000/\"\n",
    "PLAID_ACCESS_TOKENS = [\n",
    "    \"access-sandbox-1902b6d6-33f3-49b8-a3ce-3213a5fe9a49\",\n",
    "    \"access-sandbox-12481aea-33b6-4101-9f49-4e07ebbc1431\",\n",
    "    \"access-sandbox-f415798a-74af-4e7f-b504-dc075dc5889c\",\n",
    "]\n",
    "\n",
    "\n",
    "bq_client = bigquery.Client()\n",
    "bq = BqUtils(bq_client=bq_client)\n",
    "plaid_init = PlaidUtils(bq_client, PLAID_CLIENT_ID, PLAID_SECRET, PLAID_HOST)\n",
    "bq_tables = BqTableSchemas()\n",
    "\n",
    "plaid_cursors_bq = bq_tables.plaid_cursors_YYYYMMDD()"
   ]
  },
  {
   "cell_type": "markdown",
   "id": "c7a8888c",
   "metadata": {},
   "source": [
    "# Test Transactions Sync"
   ]
  },
  {
   "cell_type": "code",
   "execution_count": null,
   "id": "5fcd9785",
   "metadata": {},
   "outputs": [],
   "source": [
    "plaid_init.create_temp_cursors_bq_table(confirm=False)\n",
    "\n",
    "latest_cursors_df = plaid_init.get_latest_cursors()\n",
    "\n",
    "# print(latest_cursors_df[\"access_token\"][0])\n",
    "# transactions_df, removed_df = plaid_client.get_transactions(\n",
    "#     access_token=latest_cursors_df[\"access_token\"][0],\n",
    "#     item_id=latest_cursors_df[\"item_id\"][0],\n",
    "#     next_cursor=latest_cursors_df[\"next_cursor\"][0],\n",
    "# )"
   ]
  },
  {
   "cell_type": "code",
   "execution_count": null,
   "id": "cd3a6a80",
   "metadata": {},
   "outputs": [],
   "source": [
    "from plaid.model.transactions_sync_request import TransactionsSyncRequest"
   ]
  },
  {
   "cell_type": "code",
   "execution_count": null,
   "id": "edbe816f",
   "metadata": {},
   "outputs": [],
   "source": [
    "transactions_df.groupby([\"personal_finance_category_primary\", \"personal_finance_category_detailed\"], as_index=False)[\n",
    "    \"transaction_id\"\n",
    "].nunique()"
   ]
  },
  {
   "cell_type": "code",
   "execution_count": null,
   "id": "6ea29245",
   "metadata": {},
   "outputs": [],
   "source": [
    "# transactions_df[\"personal_detailed\"] = transactions_df.apply(\n",
    "#     lambda row: row[\"personal_finance_category_detailed\"][len(row[\"personal_finance_category_primary\"]) + 1 :], axis=1\n",
    "# )\n",
    "\n",
    "# transactions_df.groupby(\n",
    "#     [\"personal_finance_category_primary\", \"personal_finance_category_detailed\", \"personal_detailed\"], as_index=False\n",
    "# )[\"transaction_id\"].nunique()"
   ]
  },
  {
   "cell_type": "markdown",
   "id": "9ead2a41",
   "metadata": {},
   "source": [
    "# Test Delete all Partitions"
   ]
  },
  {
   "cell_type": "code",
   "execution_count": 8,
   "id": "c9e8fa9e",
   "metadata": {},
   "outputs": [],
   "source": [
    "removed_transaction_bq = bq_tables.plaid_removed_transactions_YYYYMMDD()\n",
    "transaction_bq = bq_tables.plaid_transactions_YYYYMMDD()\n",
    "accounts_bq = bq_tables.plaid_accounts()"
   ]
  },
  {
   "cell_type": "code",
   "execution_count": 3,
   "id": "ae997eec",
   "metadata": {},
   "outputs": [
    {
     "data": {
      "text/plain": [
       "'project.data.table'"
      ]
     },
     "execution_count": 3,
     "metadata": {},
     "output_type": "execute_result"
    }
   ],
   "source": [
    "bq.concat_table_name(\"project\", \"data\", \"table\")"
   ]
  },
  {
   "cell_type": "code",
   "execution_count": 10,
   "id": "39f86cb5",
   "metadata": {},
   "outputs": [
    {
     "name": "stdout",
     "output_type": "stream",
     "text": [
      "\n",
      "SUCCESS: `zsc-personal.personal_finance.plaid_transactions_20240413` successfully deleted!\n"
     ]
    }
   ],
   "source": [
    "bq.delete_all_partitions(\n",
    "    project_id=transaction_bq[\"project_id\"],\n",
    "    dataset_id=transaction_bq[\"dataset_id\"],\n",
    "    table_id=transaction_bq[\"table_id\"],\n",
    "    confirm=True,\n",
    ")"
   ]
  },
  {
   "cell_type": "code",
   "execution_count": 4,
   "id": "d839371e",
   "metadata": {},
   "outputs": [],
   "source": [
    "from bqt import bqt"
   ]
  },
  {
   "cell_type": "code",
   "execution_count": null,
   "id": "48f40176",
   "metadata": {},
   "outputs": [],
   "source": []
  }
 ],
 "metadata": {
  "kernelspec": {
   "display_name": "Python 3 (ipykernel)",
   "language": "python",
   "name": "python3"
  },
  "language_info": {
   "codemirror_mode": {
    "name": "ipython",
    "version": 3
   },
   "file_extension": ".py",
   "mimetype": "text/x-python",
   "name": "python",
   "nbconvert_exporter": "python",
   "pygments_lexer": "ipython3",
   "version": "3.8.2"
  }
 },
 "nbformat": 4,
 "nbformat_minor": 5
}
